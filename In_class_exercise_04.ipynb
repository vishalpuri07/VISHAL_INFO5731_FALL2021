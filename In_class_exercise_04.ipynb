{
 "cells": [
  {
   "cell_type": "markdown",
   "metadata": {},
   "source": [
    "Question description: Please use the text corpus you collected in your last in-class-exercise for this exercise. Perform the following tasks:"
   ]
  },
  {
   "cell_type": "markdown",
   "metadata": {},
   "source": [
    "**Upload lemmatized data from previous assignment**"
   ]
  },
  {
   "cell_type": "code",
   "execution_count": 6,
   "metadata": {},
   "outputs": [],
   "source": [
    "import pandas as pd\n",
    "df = pd.read_csv(\"data_lemmatized.csv\") # Contains 500 tweets for search word \"Data Mining\""
   ]
  },
  {
   "cell_type": "code",
   "execution_count": 7,
   "metadata": {},
   "outputs": [],
   "source": [
    "import numpy as np\n",
    "from numpy import nan\n",
    "# Since the list new contains nan values now that it is extracted from csv. remove all of those.\n",
    "new_list = df.values.tolist()\n",
    "for i in range(0,500):\n",
    "  del new_list[i][0] # removes the index\n",
    "  new_list[i] = list(set(new_list[i])) # removes all the nan and bring it to 1\n",
    "  if new_list[i].count(nan) == 1: # remove all nan values\n",
    "    new_list[i].remove(nan)\n",
    "  else:\n",
    "    1 ==1\n",
    "    \n",
    "data_lemmatized = new_list"
   ]
  },
  {
   "cell_type": "markdown",
   "metadata": {},
   "source": [
    "## (1) (15 points) Generate K topics by using LDA, the number of topics K should be decided by the coherence score, then summarize what are the topics. You may refer the code here: \n",
    "\n",
    "https://www.machinelearningplus.com/nlp/topic-modeling-gensim-python/"
   ]
  },
  {
   "cell_type": "code",
   "execution_count": 8,
   "metadata": {},
   "outputs": [],
   "source": [
    "# Import all the necessary libraries for the assignment\n",
    "import gensim\n",
    "import gensim.corpora as corpora\n",
    "from gensim.models import CoherenceModel\n",
    "\n",
    "\n",
    "\n",
    "# Create dictionary using corpora module and create the corpus from the lemmatized data\n",
    "id2word = corpora.Dictionary(data_lemmatized) # from the link above\n",
    "texts = data_lemmatized\n",
    "corpus = [id2word.doc2bow(text) for text in texts]"
   ]
  },
  {
   "cell_type": "code",
   "execution_count": 9,
   "metadata": {},
   "outputs": [],
   "source": [
    "# Build base LDA Model\n",
    "\n",
    "lda_model = gensim.models.LdaMulticore(corpus=corpus,id2word=id2word, num_topics=20, random_state=100,chunksize=100,passes=10,per_word_topics=True)"
   ]
  },
  {
   "cell_type": "code",
   "execution_count": 13,
   "metadata": {},
   "outputs": [
    {
     "name": "stdout",
     "output_type": "stream",
     "text": [
      "[(0,\n",
      "  '0.073*\"datum\" + 0.061*\"miner\" + 0.056*\"ga\" + 0.056*\"unload\" + '\n",
      "  '0.056*\"center_operation\" + 0.056*\"college_park\" + 0.056*\"new\" + '\n",
      "  '0.017*\"hour\" + 0.017*\"mine\" + 0.017*\"tagcoin\"'),\n",
      " (1,\n",
      "  '0.066*\"mining\" + 0.066*\"datum\" + 0.061*\"people\" + 0.055*\"taking_advantage\" '\n",
      "  '+ 0.055*\"call\" + 0.055*\"canada_action\" + 0.018*\"internet\" + 0.016*\"privacy\" '\n",
      "  '+ 0.016*\"privacymatter\" + 0.016*\"roll\"'),\n",
      " (2,\n",
      "  '0.038*\"facebook\" + 0.038*\"tha\" + 0.038*\"ongoing\" + 0.038*\"war\" + '\n",
      "  '0.038*\"completely\" + 0.038*\"current\" + 0.038*\"ignore\" + 0.038*\"shitstorm\" + '\n",
      "  '0.038*\"acczibit\" + 0.010*\"schedule\"'),\n",
      " (3,\n",
      "  '0.056*\"datum\" + 0.047*\"power\" + 0.042*\"tagcoin\" + 0.042*\"one\" + 0.042*\"see\" '\n",
      "  '+ 0.037*\"real\" + 0.032*\"mine\" + 0.027*\"co\" + 0.026*\"backed_nft\" + '\n",
      "  '0.016*\"help\"'),\n",
      " (4,\n",
      "  '0.080*\"company\" + 0.080*\"try\" + 0.077*\"family\" + 0.077*\"got_mad\" + '\n",
      "  '0.077*\"garland\" + 0.077*\"million\" + 0.077*\"panorama\" + 0.077*\"question\" + '\n",
      "  '0.077*\"made_via\" + 0.077*\"education\"'),\n",
      " (5,\n",
      "  '0.034*\"co\" + 0.034*\"mining\" + 0.028*\"datum\" + 0.019*\"social_media\" + '\n",
      "  '0.018*\"title\" + 0.018*\"rule\" + 0.018*\"thesis\" + 0.018*\"prediction\" + '\n",
      "  '0.018*\"robust\" + 0.014*\"get\"'),\n",
      " (6,\n",
      "  '0.050*\"co\" + 0.042*\"https\" + 0.035*\"datum\" + 0.022*\"mining\" + 0.013*\"drone\" '\n",
      "  '+ 0.012*\"work\" + 0.012*\"use\" + 0.012*\"analytic\" + 0.009*\"computer\" + '\n",
      "  '0.009*\"engineering\"'),\n",
      " (7,\n",
      "  '0.103*\"mining\" + 0.100*\"child\" + 0.100*\"data\" + 0.100*\"school\" + '\n",
      "  '0.100*\"company\" + 0.098*\"call\" + 0.098*\"run\" + 0.098*\"involve\" + '\n",
      "  '0.098*\"family\" + 0.002*\"conduct\"'),\n",
      " (8,\n",
      "  '0.107*\"mining\" + 0.087*\"data\" + 0.083*\"co\" + 0.066*\"research\" + 0.065*\"web\" '\n",
      "  '+ 0.063*\"entry_scrape\" + 0.063*\"business_datascraper\" + 0.027*\"https\" + '\n",
      "  '0.020*\"datum\" + 0.018*\"excel_google\"'),\n",
      " (9,\n",
      "  '0.048*\"co\" + 0.017*\"https\" + 0.010*\"garland\" + 0.009*\"datum\" + '\n",
      "  '0.009*\"internet\" + 0.008*\"base\" + 0.008*\"angrybklynmom\" + 0.008*\"patte\" + '\n",
      "  '0.008*\"still\" + 0.008*\"lot\"'),\n",
      " (10,\n",
      "  '0.083*\"co\" + 0.065*\"https\" + 0.063*\"favourite_serie\" + '\n",
      "  '0.063*\"netflix_wherever\" + 0.059*\"know\" + 0.059*\"free_download\" + '\n",
      "  '0.056*\"enjoy\" + 0.053*\"daisy_thee\" + 0.021*\"mining\" + 0.016*\"datum\"'),\n",
      " (11,\n",
      "  '0.040*\"mining\" + 0.037*\"hard_ni\" + 0.037*\"like_pac\" + 0.037*\"pac\" + '\n",
      "  '0.037*\"heavily_influence\" + 0.037*\"hate\" + 0.037*\"dunno\" + 0.033*\"outcome\" '\n",
      "  '+ 0.033*\"election\" + 0.021*\"truth\"'),\n",
      " (12,\n",
      "  '0.066*\"mining\" + 0.046*\"co\" + 0.034*\"datum\" + 0.017*\"https\" + 0.014*\"get\" + '\n",
      "  '0.013*\"data\" + 0.012*\"game\" + 0.012*\"sympathetic\" + 0.012*\"human\" + '\n",
      "  '0.012*\"new\"'),\n",
      " (13,\n",
      "  '0.051*\"mining\" + 0.035*\"co\" + 0.032*\"datum\" + 0.020*\"https\" + 0.015*\"care\" '\n",
      "  '+ 0.015*\"use\" + 0.010*\"data\" + 0.010*\"band\" + 0.010*\"set\" + '\n",
      "  '0.010*\"primary\"'),\n",
      " (14,\n",
      "  '0.050*\"co\" + 0.040*\"mining\" + 0.031*\"datum\" + 0.028*\"bitcoin\" + '\n",
      "  '0.028*\"https\" + 0.016*\"global\" + 0.012*\"get\" + 0.011*\"customer\" + '\n",
      "  '0.011*\"base\" + 0.011*\"eth\"'),\n",
      " (15,\n",
      "  '0.081*\"mining\" + 0.037*\"co\" + 0.029*\"project\" + 0.028*\"data\" + '\n",
      "  '0.017*\"mayor\" + 0.017*\"water\" + 0.017*\"infrastructure\" + 0.017*\"require\" + '\n",
      "  '0.016*\"datum\" + 0.009*\"company\"'),\n",
      " (16,\n",
      "  '0.027*\"receipt\" + 0.027*\"pm\" + 0.027*\"tune\" + 0.027*\"take\" + 0.027*\"get\" + '\n",
      "  '0.027*\"tuckercarlson\" + 0.027*\"show\" + 0.027*\"tonight\" + 0.027*\"et\" + '\n",
      "  '0.020*\"late\"'),\n",
      " (17,\n",
      "  '0.051*\"co\" + 0.036*\"mining\" + 0.028*\"https\" + 0.017*\"datum\" + 0.013*\"data\" '\n",
      "  '+ 0.012*\"tagprotocol\" + 0.011*\"oi\" + 0.007*\"run\" + 0.006*\"check\" + '\n",
      "  '0.006*\"get\"'),\n",
      " (18,\n",
      "  '0.056*\"mining\" + 0.051*\"co\" + 0.020*\"data\" + 0.019*\"bitcoin\" + '\n",
      "  '0.015*\"https\" + 0.014*\"power\" + 0.014*\"supply\" + 0.014*\"energy\" + '\n",
      "  '0.012*\"get\" + 0.011*\"datum\"'),\n",
      " (19,\n",
      "  '0.060*\"mining\" + 0.055*\"datum\" + 0.054*\"co\" + 0.025*\"https\" + 0.017*\"say\" + '\n",
      "  '0.014*\"need\" + 0.013*\"elcostello\" + 0.013*\"nwhich\" + 0.013*\"even\" + '\n",
      "  '0.013*\"true\"')]\n"
     ]
    }
   ],
   "source": [
    "# View Topics base on the base model\n",
    "from pprint import pprint\n",
    "pprint(lda_model.print_topics())\n",
    "doc_lda = lda_model[corpus]"
   ]
  },
  {
   "cell_type": "code",
   "execution_count": 15,
   "metadata": {},
   "outputs": [
    {
     "name": "stdout",
     "output_type": "stream",
     "text": [
      "\n",
      "Coherence Score:  0.3371163432077421\n"
     ]
    }
   ],
   "source": [
    "# Base Line Coherence - This is the coherence \n",
    "\n",
    "from gensim.models import CoherenceModel\n",
    "# Compute Coherence Score\n",
    "coherence_model_lda = CoherenceModel(model=lda_model, texts=data_lemmatized, dictionary=id2word, coherence='c_v')\n",
    "coherence_lda = coherence_model_lda.get_coherence()\n",
    "print('\\nCoherence Score: ', coherence_lda)"
   ]
  },
  {
   "cell_type": "code",
   "execution_count": 16,
   "metadata": {},
   "outputs": [],
   "source": [
    "# OPTIMUM NUMBER OF K-TOPICS BASED ON COHORENCE SCORE Function.\n",
    "def compute_coherence_values(dictionary, corpus, texts, limit, start=2, step=3):\n",
    "    coherence_values = []\n",
    "    model_list = []\n",
    "    for num_topics in range(start, limit, step):\n",
    "        model = gensim.models.wrappers.LdaMallet(mallet_path, corpus=corpus, num_topics=num_topics, id2word=id2word)\n",
    "        model_list.append(model)\n",
    "        coherencemodel = CoherenceModel(model=model, texts=texts, dictionary=dictionary, coherence='c_v')\n",
    "        coherence_values.append(coherencemodel.get_coherence())\n",
    "\n",
    "    return model_list, coherence_values"
   ]
  },
  {
   "cell_type": "code",
   "execution_count": 18,
   "metadata": {},
   "outputs": [],
   "source": [
    "import os # This for gensim model to work that provides \n",
    "from gensim.models.wrappers import LdaMallet\n",
    "\n",
    "os.environ.update({'MALLET_HOME':r'C:/new_mallet/mallet-2.0.8/'})\n",
    "mallet_path = r'C:/new_mallet/mallet-2.0.8/bin/mallet'\n",
    "\n",
    "model_list, coherence_values = compute_coherence_values(dictionary=id2word, corpus=corpus, texts=data_lemmatized, start=2, limit=60, step=6)"
   ]
  },
  {
   "cell_type": "code",
   "execution_count": 25,
   "metadata": {},
   "outputs": [
    {
     "data": {
      "image/png": "[encoded data removed]",
      "text/plain": [
       "<Figure size 432x288 with 1 Axes>"
      ]
     },
     "metadata": {
      "needs_background": "light"
     },
     "output_type": "display_data"
    }
   ],
   "source": [
    "import matplotlib.pyplot as plots\n",
    "# Show graph\n",
    "limit=60; start=2; step=6;\n",
    "x = range(start, limit, step)\n",
    "plots.plot(x, coherence_values)\n",
    "plots.xlabel(\"Num Topics\")\n",
    "plots.ylabel(\"Coherence score\")\n",
    "plots.legend((\"coherence_values\"), loc='best')\n",
    "plots.ylim([0.45, 0.85])\n",
    "plots.show()"
   ]
  },
  {
   "cell_type": "code",
   "execution_count": 21,
   "metadata": {},
   "outputs": [
    {
     "name": "stdout",
     "output_type": "stream",
     "text": [
      "Num Topics = 2  has Coherence Value of 0.4565\n",
      "Num Topics = 8  has Coherence Value of 0.519\n",
      "Num Topics = 14  has Coherence Value of 0.5677\n",
      "Num Topics = 20  has Coherence Value of 0.6077\n",
      "Num Topics = 26  has Coherence Value of 0.6232\n",
      "Num Topics = 32  has Coherence Value of 0.6463\n",
      "Num Topics = 38  has Coherence Value of 0.6509\n",
      "Num Topics = 44  has Coherence Value of 0.6664\n",
      "Num Topics = 50  has Coherence Value of 0.6673\n",
      "Num Topics = 56  has Coherence Value of 0.6911\n"
     ]
    }
   ],
   "source": [
    "# Print the coherence scores\n",
    "for m, cv in zip(x, coherence_values):\n",
    "    print(\"Num Topics =\", m, \" has Coherence Value of\", round(cv, 4))"
   ]
  },
  {
   "cell_type": "markdown",
   "metadata": {},
   "source": [
    "**The Coherence number seems to slightly flatten at about 0.65 which is Num Topics = 38**"
   ]
  },
  {
   "cell_type": "code",
   "execution_count": 26,
   "metadata": {},
   "outputs": [
    {
     "name": "stdout",
     "output_type": "stream",
     "text": [
      "[(33,\n",
      "  '0.362*\"data\" + 0.133*\"child\" + 0.124*\"school\" + 0.057*\"company\" + '\n",
      "  '0.038*\"full\" + 0.019*\"app\" + 0.010*\"feel\" + 0.010*\"fwmv\" + 0.010*\"spam\" + '\n",
      "  '0.010*\"make\"'),\n",
      " (32,\n",
      "  '0.525*\"school\" + 0.197*\"child\" + 0.082*\"call\" + 0.025*\"sympathetic\" + '\n",
      "  '0.025*\"analysis\" + 0.016*\"crowdsource\" + 0.008*\"bkj\" + 0.008*\"tristansnell\" '\n",
      "  '+ 0.008*\"pa\" + 0.008*\"utilise\"'),\n",
      " (0,\n",
      "  '0.095*\"mining\" + 0.076*\"involve\" + 0.076*\"show\" + 0.057*\"social_media\" + '\n",
      "  '0.048*\"ad\" + 0.038*\"tonight\" + 0.038*\"watch\" + 0.038*\"pm\" + 0.038*\"tune\" + '\n",
      "  '0.038*\"tuckercarlson\"'),\n",
      " (30,\n",
      "  '0.181*\"data\" + 0.053*\"true\" + 0.043*\"good\" + 0.043*\"give\" + 0.032*\"biden\" + '\n",
      "  '0.032*\"claim\" + 0.032*\"cost\" + 0.032*\"massive\" + 0.032*\"spending\" + '\n",
      "  '0.021*\"set\"'),\n",
      " (29,\n",
      "  '0.447*\"datum\" + 0.043*\"drone\" + 0.032*\"human\" + 0.032*\"analytic\" + '\n",
      "  '0.021*\"csnal\" + 0.021*\"launch\" + 0.021*\"social\" + 0.021*\"build\" + '\n",
      "  '0.021*\"ushered\" + 0.021*\"usage\"'),\n",
      " (25,\n",
      "  '0.273*\"bitcoin\" + 0.061*\"year\" + 0.040*\"month\" + 0.040*\"eldenre\" + '\n",
      "  '0.040*\"world\" + 0.030*\"overtake\" + 0.030*\"operation\" + 0.030*\"top\" + '\n",
      "  '0.030*\"source\" + 0.030*\"parent\"'),\n",
      " (2,\n",
      "  '0.604*\"company\" + 0.158*\"family\" + 0.020*\"accept\" + 0.020*\"hydcsysd\" + '\n",
      "  '0.010*\"device\" + 0.010*\"qdlsdrzj\" + 0.010*\"motherboard\" + 0.010*\"numbe\" + '\n",
      "  '0.010*\"personal\" + 0.010*\"mub\"'),\n",
      " (1,\n",
      "  '0.297*\"family\" + 0.280*\"call\" + 0.161*\"company\" + 0.059*\"child\" + '\n",
      "  '0.017*\"detailed\" + 0.017*\"success\" + 0.008*\"fix\" + 0.008*\"asnju\" + '\n",
      "  '0.008*\"aka\" + 0.008*\"bill\"'),\n",
      " (13,\n",
      "  '0.295*\"datum\" + 0.186*\"people\" + 0.132*\"taking_advantage\" + '\n",
      "  '0.132*\"canada_action\" + 0.023*\"silver\" + 0.016*\"ghjkchrudp\" + 0.016*\"pci\" + '\n",
      "  '0.016*\"hold\" + 0.008*\"gviszea\" + 0.008*\"console\"'),\n",
      " (6,\n",
      "  '0.248*\"research\" + 0.248*\"web\" + 0.229*\"entry_scrape\" + '\n",
      "  '0.217*\"business_datascraper\" + 0.006*\"librarian\" + 0.006*\"audibleuk\" + '\n",
      "  '0.006*\"nope\" + 0.006*\"facility\" + 0.006*\"mdavupwh\" + 0.006*\"tacmsmmw\"'),\n",
      " (14,\n",
      "  '0.361*\"data\" + 0.148*\"child\" + 0.120*\"involve\" + 0.102*\"company\" + '\n",
      "  '0.056*\"mining\" + 0.019*\"terrain\" + 0.019*\"movie\" + 0.009*\"predictive\" + '\n",
      "  '0.009*\"target\" + 0.009*\"lol\"'),\n",
      " (27,\n",
      "  '0.329*\"mining\" + 0.271*\"data\" + 0.047*\"tv\" + 0.035*\"make\" + 0.035*\"find\" + '\n",
      "  '0.024*\"mine\" + 0.024*\"solve\" + 0.012*\"stackable\" + 0.012*\"djlbhuamwb\" + '\n",
      "  '0.012*\"cable\"'),\n",
      " (18,\n",
      "  '0.076*\"big\" + 0.067*\"privacy\" + 0.067*\"internet\" + 0.067*\"back\" + '\n",
      "  '0.048*\"level\" + 0.048*\"playing\" + 0.048*\"protection\" + 0.048*\"roll\" + '\n",
      "  '0.048*\"field\" + 0.048*\"privacymatter\"'),\n",
      " (31,\n",
      "  '0.294*\"https\" + 0.101*\"provide\" + 0.092*\"webscrape\" + 0.084*\"excel_google\" '\n",
      "  '+ 0.084*\"copy_paste\" + 0.084*\"service\" + 0.017*\"twitter\" + 0.017*\"evp\" + '\n",
      "  '0.017*\"coz\" + 0.008*\"notwithsta\"'),\n",
      " (21,\n",
      "  '0.261*\"involve\" + 0.235*\"family\" + 0.217*\"company\" + 0.026*\"rig\" + '\n",
      "  '0.017*\"development\" + 0.017*\"analyticsviki\" + 0.017*\"group\" + '\n",
      "  '0.009*\"nthank\" + 0.009*\"hsyiw\" + 0.009*\"ironic\"'),\n",
      " (36,\n",
      "  '0.152*\"power\" + 0.125*\"mine\" + 0.107*\"tagcoin\" + 0.080*\"datum\" + '\n",
      "  '0.071*\"real\" + 0.045*\"nft\" + 0.045*\"run\" + 0.045*\"backed_nft\" + '\n",
      "  '0.036*\"supply\" + 0.036*\"hour\"'),\n",
      " (15,\n",
      "  '0.108*\"learn\" + 0.072*\"machine\" + 0.054*\"ai\" + 0.045*\"run\" + '\n",
      "  '0.036*\"beginner\" + 0.036*\"bigdata\" + 0.036*\"datascience\" + '\n",
      "  '0.036*\"fundamental\" + 0.036*\"srlbukdfxa\" + 0.036*\"application\"'),\n",
      " (5,\n",
      "  '0.368*\"call\" + 0.272*\"run\" + 0.053*\"data\" + 0.026*\"involve\" + '\n",
      "  '0.026*\"community\" + 0.018*\"accord\" + 0.018*\"miner\" + 0.009*\"nuniversity\" + '\n",
      "  '0.009*\"hut\" + 0.009*\"money\"'),\n",
      " (19,\n",
      "  '0.530*\"data\" + 0.130*\"school\" + 0.090*\"https\" + 0.020*\"child\" + '\n",
      "  '0.010*\"protocol\" + 0.010*\"vjqiuydaeu\" + 0.010*\"ziuoht\" + 0.010*\"psycho\" + '\n",
      "  '0.010*\"dufejtke\" + 0.010*\"worry\"'),\n",
      " (35,\n",
      "  '0.300*\"involve\" + 0.200*\"child\" + 0.100*\"school\" + 0.100*\"family\" + '\n",
      "  '0.030*\"currency\" + 0.030*\"end\" + 0.030*\"avatar\" + 0.020*\"elcostello\" + '\n",
      "  '0.020*\"attorney\" + 0.010*\"spac\"')]\n"
     ]
    }
   ],
   "source": [
    "# Select the optimalmodel and print the topics\n",
    "optimal_model = model_list[6]\n",
    "model_topics = optimal_model.show_topics(formatted=False)\n",
    "pprint(optimal_model.print_topics(num_words=10))"
   ]
  },
  {
   "cell_type": "markdown",
   "metadata": {},
   "source": [
    "# Summarize the topics"
   ]
  },
  {
   "cell_type": "markdown",
   "metadata": {},
   "source": [
    "Here topic no# 33 - (33,\n",
    "  '0.362*\"data\" + 0.133*\"child\" + 0.124*\"school\" + 0.057*\"company\" + '\n",
    "  '0.038*\"full\" + 0.019*\"app\" + 0.010*\"feel\" + 0.010*\"fwmv\" + 0.010*\"spam\" + '\n",
    "  '0.010*\"make\"')\n",
    "  \n",
    "  This means that top 10 keywords that contribute are these words and each weigh as times 10% i.e. data weighs 36.2% , child weighs 13.3%, school weighs 12.4%, etc. \n",
    "  <br> Topic 33 - data, child, school, company, full, spam, make ---> online business\n",
    "  <br> Topic 30 - data, good, give, bid, set, claim, cost, spending ---> finance\n",
    "  <br> Topic 18 - privacy, internet, protection, privacy_matter ---> security"
   ]
  },
  {
   "cell_type": "markdown",
   "metadata": {},
   "source": [
    "## (2) (15 points) Generate K topics by using LSA, the number of topics K should be decided by the coherence score, then summarize what are the topics. You may refer the code here:\n",
    "\n",
    "https://www.datacamp.com/community/tutorials/discovering-hidden-topics-python"
   ]
  },
  {
   "cell_type": "code",
   "execution_count": 34,
   "metadata": {},
   "outputs": [],
   "source": [
    "from gensim.models import LsiModel\n",
    "from gensim.models.coherencemodel import CoherenceModel\n",
    "import matplotlib.pyplot as plots"
   ]
  },
  {
   "cell_type": "markdown",
   "metadata": {},
   "source": [
    "**Needs slight modification to prepare the matrix**"
   ]
  },
  {
   "cell_type": "code",
   "execution_count": null,
   "metadata": {},
   "outputs": [],
   "source": [
    "# The following corpus needs slight modification based on the link provided."
   ]
  },
  {
   "cell_type": "code",
   "execution_count": 40,
   "metadata": {},
   "outputs": [],
   "source": [
    "def prepare_corpus(data_lemmatized):\n",
    "    dictionary = corpora.Dictionary(data_lemmatized) # create dictionary\n",
    "    data_lemmatized_matrix = [dictionary.doc2bow(doc) for doc in data_lemmatized]\n",
    "    return dictionary,data_lemmatized_matrix\n",
    "prepare_corpus(data_lemmatized);"
   ]
  },
  {
   "cell_type": "code",
   "execution_count": 42,
   "metadata": {},
   "outputs": [],
   "source": [
    "#CREATE GENSIM LSA MODEL.\n",
    "def create_gensim_lsa_model(data_lemmatized,number_of_topics,words):\n",
    "    dictionary,data_lemmatized_matrix=prepare_corpus(data_lemmatized)\n",
    "    # generate LSA model\n",
    "    lsamodel = LsiModel(data_lemmatized_matrix, num_topics=number_of_topics, id2word = dictionary)  # train model\n",
    "    print(lsamodel.print_topics(num_topics=number_of_topics, num_words=words))\n",
    "    return lsamodel # returns the model."
   ]
  },
  {
   "cell_type": "markdown",
   "metadata": {},
   "source": [
    "**The following computes the coherence values so that we can pick one**"
   ]
  },
  {
   "cell_type": "code",
   "execution_count": 45,
   "metadata": {},
   "outputs": [],
   "source": [
    "def compute_coherence_values(dictionary, data_lemmatized_matrix, data_lemmatized, stop, start=2, step=3):\n",
    "    coherencevalues = []\n",
    "    model_list = []\n",
    "    for num_topics in range(start, stop, step):\n",
    "        model = LsiModel(data_lemmatized_matrix, num_topics=number_of_topics, id2word = dictionary)\n",
    "        model_list.append(model)\n",
    "        coherencemodel = CoherenceModel(model=model, texts=data_lemmatized, dictionary=dictionary, coherence='c_v')\n",
    "        coherencevalues.append(coherencemodel.get_coherence())\n",
    "    return model_list, coherencevalues"
   ]
  },
  {
   "cell_type": "code",
   "execution_count": 50,
   "metadata": {},
   "outputs": [],
   "source": [
    "def plot_graph(data_lemmatized,start, stop, step):\n",
    "    dictionary,data_lemmatized_matrix=prepare_corpus(data_lemmatized)\n",
    "    model_list, coherence_values = compute_coherence_values(dictionary, data_lemmatized_matrix,data_lemmatized,stop, start, step)\n",
    "    x = range(start, stop, step)\n",
    "    plots.plot(x, coherence_values)\n",
    "    plots.xlabel(\"Number of Topics\")\n",
    "    plots.ylabel(\"Coherence score\")\n",
    "    plots.legend((\"coherence_values\"), loc='best')\n",
    "    plots.show()"
   ]
  },
  {
   "cell_type": "code",
   "execution_count": 54,
   "metadata": {},
   "outputs": [
    {
     "data": {
      "image/png": "[encoded data removed]",
      "text/plain": [
       "<Figure size 432x288 with 1 Axes>"
      ]
     },
     "metadata": {
      "needs_background": "light"
     },
     "output_type": "display_data"
    }
   ],
   "source": [
    "number_of_topics = 10\n",
    "words = 12\n",
    "plot_graph(data_lemmatized,2,15,1)"
   ]
  },
  {
   "cell_type": "markdown",
   "metadata": {},
   "source": [
    "It is seen that the coherence is not as evident as the LDA model. "
   ]
  },
  {
   "cell_type": "code",
   "execution_count": 49,
   "metadata": {
    "scrolled": true
   },
   "outputs": [
    {
     "name": "stdout",
     "output_type": "stream",
     "text": [
      "[(0, '-0.411*\"mining\" + -0.355*\"data\" + -0.326*\"company\" + -0.321*\"family\" + -0.318*\"call\" + -0.310*\"child\" + -0.309*\"school\" + -0.308*\"run\" + -0.307*\"involve\" + -0.071*\"co\"'), (1, '0.576*\"co\" + 0.437*\"mining\" + 0.303*\"datum\" + 0.250*\"https\" + -0.170*\"family\" + 0.164*\"research\" + -0.161*\"company\" + 0.161*\"web\" + 0.156*\"entry_scrape\" + 0.156*\"business_datascraper\"'), (2, '0.316*\"try\" + 0.316*\"education\" + 0.315*\"garland\" + 0.313*\"question\" + 0.313*\"got_mad\" + 0.313*\"made_via\" + 0.313*\"panorama\" + 0.313*\"million\" + 0.237*\"company\" + 0.223*\"family\"'), (3, '-0.544*\"datum\" + 0.333*\"data\" + 0.324*\"web\" + 0.318*\"research\" + 0.318*\"business_datascraper\" + 0.318*\"entry_scrape\" + -0.147*\"https\" + -0.131*\"call\" + -0.128*\"people\" + -0.104*\"taking_advantage\"'), (4, '-0.417*\"https\" + 0.297*\"datum\" + -0.296*\"co\" + 0.294*\"mining\" + -0.264*\"netflix_wherever\" + -0.264*\"favourite_serie\" + -0.256*\"free_download\" + -0.252*\"know\" + -0.251*\"enjoy\" + -0.238*\"daisy_thee\"'), (5, '0.349*\"mining\" + -0.275*\"new\" + -0.273*\"college_park\" + -0.273*\"unload\" + -0.273*\"ga\" + -0.273*\"center_operation\" + -0.266*\"miner\" + -0.265*\"datum\" + -0.165*\"research\" + -0.157*\"web\"'), (6, '0.293*\"people\" + -0.289*\"co\" + 0.275*\"taking_advantage\" + 0.275*\"canada_action\" + 0.236*\"favourite_serie\" + 0.236*\"netflix_wherever\" + 0.235*\"free_download\" + 0.228*\"know\" + 0.225*\"enjoy\" + 0.224*\"call\"')]\n"
     ]
    }
   ],
   "source": [
    "model=create_gensim_lsa_model(data_lemmatized,number_of_topics,words)"
   ]
  },
  {
   "cell_type": "markdown",
   "metadata": {},
   "source": [
    "# Summarize\n",
    "Topic 1 - mining, data, company, family, call, child, school --->  Academics\n",
    "<br> Topic 5 - mining, new, collegepark, unload, center_operation ---> data center \n",
    "<br> Topic 6 - people, taking_advantage, canada_action, favuurite_serie, netflix_whereever... ---> Online Movies and Series"
   ]
  },
  {
   "cell_type": "markdown",
   "metadata": {},
   "source": [
    "## (3) (10 points) Compare the results generated by the two topic modeling algorithms, which one is better? You should explain the reasons in details."
   ]
  },
  {
   "cell_type": "markdown",
   "metadata": {},
   "source": [
    "**LDA - Latent Dirichlet Allocation**:\n",
    "a. More steps invloved in creating the model\n",
    "b. Slower processing with better results\n",
    "c. Coherence score is reliable\n",
    "d. Doesn't use matrix concept and isn't bounded by matrix operations.\n",
    "e. Algorithms has more fine tuning parameters and hence can be more customized based on the corpus.\n",
    "f. This uses document distribution method\n",
    "g. The optimum number of topics were 38.\n",
    "    \n",
    "    \n",
    "**LSA - Latent Semantic Analysis**:\n",
    "a. Simple to implement\n",
    "b. Faster processing with inaccurate results\n",
    "c. Coherence score unreliable\n",
    "d. Use Matrix and hence is bounded by matrix operation.\n",
    "e. Algorithm has less fine tuning parameters and therefore can be less customized based on the corpus\n",
    "f. Uses document by keyword matrix method\n",
    "g.Optimum number of topics is 5. Therefore, very unreliable.\n",
    "\n"
   ]
  }
 ],
 "metadata": {
  "kernelspec": {
   "display_name": "Python 3",
   "language": "python",
   "name": "python3"
  },
  "language_info": {
   "codemirror_mode": {
    "name": "ipython",
    "version": 3
   },
   "file_extension": ".py",
   "mimetype": "text/x-python",
   "name": "python",
   "nbconvert_exporter": "python",
   "pygments_lexer": "ipython3",
   "version": "3.8.3"
  }
 },
 "nbformat": 4,
 "nbformat_minor": 2
}
