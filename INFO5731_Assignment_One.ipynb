{
  "nbformat": 4,
  "nbformat_minor": 0,
  "metadata": {
    "colab": {
      "name": "INFO5731_Assignment_One.ipynb",
      "provenance": [],
      "collapsed_sections": [],
      "include_colab_link": true
    },
    "kernelspec": {
      "display_name": "Python 3",
      "language": "python",
      "name": "python3"
    },
    "language_info": {
      "codemirror_mode": {
        "name": "ipython",
        "version": 3
      },
      "file_extension": ".py",
      "mimetype": "text/x-python",
      "name": "python",
      "nbconvert_exporter": "python",
      "pygments_lexer": "ipython3",
      "version": "3.8.5"
    }
  },
  "cells": [
    {
      "cell_type": "markdown",
      "metadata": {
        "id": "view-in-github",
        "colab_type": "text"
      },
      "source": [
        "<a href=\"https://colab.research.google.com/github/vishalpuri07/VISHAL_INFO5731_FALL2021/blob/main/INFO5731_Assignment_One.ipynb\" target=\"_parent\"><img src=\"https://colab.research.google.com/assets/colab-badge.svg\" alt=\"Open In Colab\"/></a>"
      ]
    },
    {
      "cell_type": "markdown",
      "metadata": {
        "id": "Ryk8D1Q4Wsrp"
      },
      "source": [
        "# **INFO5731 Assignment One**"
      ]
    },
    {
      "cell_type": "markdown",
      "metadata": {
        "id": "90_NR8c5XGWc"
      },
      "source": [
        "# Question 1\n",
        "\n",
        "(20 points). Write a Python program to generate 12 random numbers between 1 and 100. Sort the list of numbers in ascending order and print it out. Sort the list of numbers in descending order and print it out. Calculate the average for the group and print it out."
      ]
    },
    {
      "cell_type": "code",
      "metadata": {
        "colab": {
          "base_uri": "https://localhost:8080/"
        },
        "id": "5QX6bJjGWXY9",
        "outputId": "c2488f11-a964-4a7b-8bc6-632d1ccb7fd1"
      },
      "source": [
        "import random # import random to get random numbers below.\n",
        "my_list = [*range(1,101)] # creates a list with number 1 to 100.\n",
        "twelve = random.sample(my_list, 12) # randomly selects 12 numbers from the list.\n",
        "\n",
        "# Sort the twelve random numbers in ascending order\n",
        "twelve_asce = sorted(twelve)\n",
        "print(\"Sorted List in ascending: \", twelve_asce)\n",
        "\n",
        "# Sort the same twelve numbers in descending order\n",
        "twelve_desc = sorted(twelve,reverse = True)\n",
        "print(\"Sorted List in descending: \",twelve_desc)\n",
        "\n",
        "# Average = sum of all elements / total number of elements\n",
        "print(\"Average of list: \", round((sum(twelve)/ len(twelve)),2))"
      ],
      "execution_count": 1,
      "outputs": [
        {
          "output_type": "stream",
          "name": "stdout",
          "text": [
            "Sorted List in ascending:  [1, 10, 23, 24, 35, 48, 71, 73, 79, 84, 88, 90]\n",
            "Sorted List in descending:  [90, 88, 84, 79, 73, 71, 48, 35, 24, 23, 10, 1]\n",
            "Average of list:  52.17\n"
          ]
        }
      ]
    },
    {
      "cell_type": "markdown",
      "metadata": {
        "id": "1F_PZdH9Sh49"
      },
      "source": [
        "# Question 2\n",
        "(25 points). Write a program that will do the following string formatting tasks:\n",
        "\n",
        "(1) Ask the user to enter two sentences.\n",
        "\n",
        "(2) Make each sentence into a list. Each element in the list should correspond to a word in the sentence. For example, if the sentence is \"Alas! Am I alive? This is my first python program\", the program should print out ['Alas, '!', 'Am', 'I', 'alive, '?', 'This', 'is', 'my', 'first', 'python', 'program'].\n",
        "\n",
        "(3) Compare the two sentences. Print out a list of words that occur in both sentences.\n",
        "\n",
        "(4) Remove any punctuation from the sentence and print it back out. It should remove at least the following characters, but it can remove more: period(“.”), comma (“,”), semicolon (“;”), and colon (“:”)\n",
        "\n",
        "(5) Count the number of vowels in the sentences. Print out each vowel and the number of times it appears in the sentences, such as: a:2, e:1, i:0, etc"
      ]
    },
    {
      "cell_type": "code",
      "metadata": {
        "colab": {
          "base_uri": "https://localhost:8080/"
        },
        "id": "Y0oOSlsOS0cq",
        "outputId": "0476f321-3fcb-441f-e544-337884cf8b85"
      },
      "source": [
        "# Part 1. Ask user to enter two sentences:\n",
        "first = input(\"Enter a sentence:\") # I got 92% in my last Math test and 78% in Science. What did you get?\n",
        "second = input(\"Enter another sentence:\") # Wow! My test score: 85% in Math, 62% in Science and 78% in English. What did you get in English?"
      ],
      "execution_count": 2,
      "outputs": [
        {
          "name": "stdout",
          "output_type": "stream",
          "text": [
            "Enter a sentence:I got 92% in my last Math test and 78% in Science. What did you get?\n",
            "Enter another sentence:# Wow! My test score: 85% in Math, 62% in Science and 78% in English. What did you get in English?\n"
          ]
        }
      ]
    },
    {
      "cell_type": "code",
      "metadata": {
        "id": "fms9xASx8SkU"
      },
      "source": [
        "# Part 2. re is a short form for Regular Expression Operations. This is used to specify what one is looking in the strings.\n",
        "\n",
        "import re\n",
        "# Write a function to split strings but include all the special character at this step. \n",
        "\n",
        "def split_sentence(sentence):\n",
        "  splitted = re.split(r\"(\\W)\",sentence) # \"\\W\" expression to match any characters that are not a word character\n",
        "# Since it matches \"Not a word character - all spaces and empty element in the list must be removed\"\n",
        "  splitted_new = [a for a in splitted if a != ' ' and a != '']\n",
        "  return (splitted_new)"
      ],
      "execution_count": 3,
      "outputs": []
    },
    {
      "cell_type": "code",
      "metadata": {
        "colab": {
          "base_uri": "https://localhost:8080/"
        },
        "id": "7y_OvXYyITrV",
        "outputId": "ff15c0a3-8fad-430e-c518-6dc0428efc89"
      },
      "source": [
        "# use the function above to print the list for both sentences.\n",
        "first_list = split_sentence(first)\n",
        "print(\"First List: \",first_list)\n",
        "second_list = split_sentence(second)\n",
        "print(\"Second List: \",second_list)"
      ],
      "execution_count": 4,
      "outputs": [
        {
          "output_type": "stream",
          "name": "stdout",
          "text": [
            "First List:  ['I', 'got', '92', '%', 'in', 'my', 'last', 'Math', 'test', 'and', '78', '%', 'in', 'Science', '.', 'What', 'did', 'you', 'get', '?']\n",
            "Second List:  ['#', 'Wow', '!', 'My', 'test', 'score', ':', '85', '%', 'in', 'Math', ',', '62', '%', 'in', 'Science', 'and', '78', '%', 'in', 'English', '.', 'What', 'did', 'you', 'get', 'in', 'English', '?']\n"
          ]
        }
      ]
    },
    {
      "cell_type": "code",
      "metadata": {
        "colab": {
          "base_uri": "https://localhost:8080/"
        },
        "id": "hBxfSYPrJJEB",
        "outputId": "5ab3764f-02e8-491b-d7a3-a5b47bc414c7"
      },
      "source": [
        "# Part 3. Compare the two sentences. Print out a list of words that occur in both sentences.\n",
        "\n",
        "common_list = [] # initialize a empty list to store the common values plus filter the punctuations.\n",
        "filter_list = ['%','?','.',',',':',';','!'] # remove these punctuations from the results that compares the words\n",
        "# use nested For Loop to compare two list.\n",
        "for element in first_list:\n",
        "  for item in second_list:\n",
        "    if element in second_list and element not in common_list and element not in filter_list: # ensure that the common itmes are not repeated and punctuations are filtered.\n",
        "      common_list.append(element) # add common itme to the common_list we initialized above.\n",
        "    else:\n",
        "      0 == 0 # 0 == 0 means it is always true and therefore, does nothing and simply takes to the start of for loop again.\n",
        "\n",
        "print(common_list)"
      ],
      "execution_count": 5,
      "outputs": [
        {
          "output_type": "stream",
          "name": "stdout",
          "text": [
            "['in', 'Math', 'test', 'and', '78', 'Science', 'What', 'did', 'you', 'get']\n"
          ]
        }
      ]
    },
    {
      "cell_type": "code",
      "metadata": {
        "colab": {
          "base_uri": "https://localhost:8080/"
        },
        "id": "KOp2ubyIAon_",
        "outputId": "7ec87b6c-d79f-4d6d-c2a5-bd1ba82dfce7"
      },
      "source": [
        "# Part 4. Remove any punctuation from the sentence and print it back out. It should remove at least the following characters, but it can remove more: period(“.”), comma (“,”), semicolon (“;”), and colon (“:”)\n",
        "remove_items = ['%','?','.',',',':',';','!'] # these are the list of the items that we want to remove from the list.\n",
        "def remove_special_char(your_list): \n",
        "  for i in remove_items: # compare the item in the remove list to the list you want and removve those items if in your list.\n",
        "    if i in your_list:\n",
        "      your_list.remove(i)\n",
        "    else:\n",
        "      0 == 0\n",
        "  return your_list # 0 == 0 means it is always true and therefore, does nothing and simply takes to the start of for loop again.\n",
        "\n",
        "first_list_trimmed = remove_special_char(first_list) # Run the first list to remove the special characters\n",
        "print(\"First List after removing special characters: \",*first_list_trimmed) # using * unpacks all the items in the list\n",
        "second_list_trimmed = remove_special_char(second_list) # Run the second list to remove the special characters\n",
        "print(\"Second List after removing special characters: \",*second_list_trimmed) # using * unpacks all the items in the list"
      ],
      "execution_count": 6,
      "outputs": [
        {
          "output_type": "stream",
          "name": "stdout",
          "text": [
            "First List after removing special characters:  I got 92 in my last Math test and 78 % in Science What did you get\n",
            "Second List after removing special characters:  # Wow My test score 85 in Math 62 % in Science and 78 % in English What did you get in English\n"
          ]
        }
      ]
    },
    {
      "cell_type": "code",
      "metadata": {
        "id": "PJa5wbbEIcda",
        "colab": {
          "base_uri": "https://localhost:8080/"
        },
        "outputId": "2894c7ef-d010-4873-d272-ded148b25318"
      },
      "source": [
        "# Count the number of vowels in the sentences. Print out each vowel and the number of times it appears in the sentences, such as: a:2, e:1, i:0, etc\n",
        "\n",
        "vowels = \"aeiou\" # alphabets of vowels, lowercase is good enough because all upper case will be converted to lower case\n",
        "count = {} # Initialize an empty dictionary which will filled such that keys are vowels and values are the count of the vowels.\n",
        "def count_vowels(your_string):\n",
        "  lower_string = your_string.lower() # convert all string to lowercase.\n",
        "  for vowel in vowels:\n",
        "    count[vowel] = your_string.count(vowel) # key => vowel, value => number of repetition\n",
        "  return count # print the dictionay\n",
        "\n",
        "print(\"Vowle Count on First Sentence: \",count_vowels(first)) # pass first sentence to the function\n",
        "print(\"Vowel Count on Second Sentence: \", count_vowels(second)) # pass second sentence to the function"
      ],
      "execution_count": 7,
      "outputs": [
        {
          "output_type": "stream",
          "name": "stdout",
          "text": [
            "Vowle Count on First Sentence:  {'a': 4, 'e': 4, 'i': 4, 'o': 2, 'u': 1}\n",
            "Vowel Count on Second Sentence:  {'a': 3, 'e': 5, 'i': 8, 'o': 3, 'u': 1}\n"
          ]
        }
      ]
    },
    {
      "cell_type": "markdown",
      "metadata": {
        "id": "CmFoI4jDS9nx"
      },
      "source": [
        "# Question 3 \n",
        "\n",
        "(15 points). The formula that describes the volume V of a sphere with radius r is the following:\n",
        "\n",
        "$ V=\\frac{4}{3}\\ast\\ \\pi\\ast\\ r^3 $\n",
        "\n",
        "Write a program to calculate the value of V when r is in the range of 1–10. Output the result in the following format:\n",
        "\n",
        "\tr\tV\n",
        "\t1\t…\n",
        "\t2\t…\n",
        "\t3\t…\n"
      ]
    },
    {
      "cell_type": "code",
      "metadata": {
        "id": "pEyqeioAT95b",
        "colab": {
          "base_uri": "https://localhost:8080/"
        },
        "outputId": "ef249a78-a28b-4c35-cd00-ec6c88249a9a"
      },
      "source": [
        "print(\"r       V\") # This will print the template fro radius and Volume\n",
        "for r in range(1,11): # ranges from 1 inclusive to 11 non-inclusive\n",
        "  V = round(4/3 * 3.141 * (r**3), 3) # for exact value of pi - can be imported from \"math\" module as math.pi\n",
        "  print(r,\"  \",V) # print all values of radius and Volume in given pattern."
      ],
      "execution_count": 8,
      "outputs": [
        {
          "output_type": "stream",
          "name": "stdout",
          "text": [
            "r       V\n",
            "1    4.188\n",
            "2    33.504\n",
            "3    113.076\n",
            "4    268.032\n",
            "5    523.5\n",
            "6    904.608\n",
            "7    1436.484\n",
            "8    2144.256\n",
            "9    3053.052\n",
            "10    4188.0\n"
          ]
        }
      ]
    },
    {
      "cell_type": "markdown",
      "metadata": {
        "id": "z3tBE7E-Xn5X"
      },
      "source": [
        "# Question 4\n",
        "\n",
        "(40 points). In the field of Data Science, data is often formatted as a comma-delimited (CSV) file, where each line in a file corresponds to a field's value. Refer to Chapter 9 (p. 106) for more information on comma-delimited files. To answer this question, you will need to download the file [Assignment1_denton_housing.csv](https://github.com/unt-iialab/info5731-fall2021/blob/main/assignments/Assignment1_denton_housing.csv) included with this assignment. The file [Assignment1_denton_housing.csv](https://github.com/unt-iialab/info5731-fall2021/blob/main/assignments/Assignment1_denton_housing.csv) contains statistics about housing in the city of Denton from 2008 to 2014. Write a program to implement the following questions.\n",
        "\n",
        "(1) (10 pts) Calculate the difference in the number of Occupied Housing Units from year to year and print it. The difference must be calculated for the consecutive years such as 2008-2009, 2009-2010 etc. Finally, print the values in the ascending order.\n",
        "\n",
        "(2) (10 pts) For all the years, calculate the percentage of housing units which are vacant an occupied. Print the results in the following format:\n",
        "\n",
        "Year Vacant Housing Units Occupied Housing Units\n",
        "\n",
        "    2008  30%   70%                          \n",
        "\t2009 ----- -----\n",
        "\t2010 ----- -----\n",
        "    2011 ----- -----\n",
        "\t2012 ----- -----\n",
        "    2013 ----- -----\n",
        "\t2014 ----- -----\n",
        "  \n",
        "  \n",
        "\n",
        "(3) (10 pts) Calculate and print the valued and years in which the highest number of housing units were vacant and occupied. Print the results in the following format:  \n",
        "\n",
        "                              Year\tValue\n",
        "\tVacant Housing Units\t  -----   -----\n",
        "\tOccupied Housing Units\t-----   -----\n",
        "\n",
        "(4) (10 pts) Calculate the harmonic mean of the total housing units and print it out. You can find the information about harmonic mean here: https://ncalculators.com/statistics/harmonic-mean-calculator.htm"
      ]
    },
    {
      "cell_type": "code",
      "metadata": {
        "colab": {
          "resources": {
            "http://localhost:8080/nbextensions/google.colab/files.js": {
              "data": "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",
              "ok": true,
              "headers": [
                [
                  "content-type",
                  "application/javascript"
                ]
              ],
              "status": 200,
              "status_text": ""
            }
          },
          "base_uri": "https://localhost:8080/",
          "height": 73
        },
        "id": "lqGYuHBhcsRH",
        "outputId": "1093e0c1-f7d6-4cd7-c949-341c7c458133"
      },
      "source": [
        "from google.colab import files # upload the file in google colab so that it can be read.\n",
        "uploaded = files.upload()"
      ],
      "execution_count": 9,
      "outputs": [
        {
          "output_type": "display_data",
          "data": {
            "text/html": [
              "\n",
              "     <input type=\"file\" id=\"files-6ab2fa00-77f1-422a-bf62-4b0e876c7789\" name=\"files[]\" multiple disabled\n",
              "        style=\"border:none\" />\n",
              "     <output id=\"result-6ab2fa00-77f1-422a-bf62-4b0e876c7789\">\n",
              "      Upload widget is only available when the cell has been executed in the\n",
              "      current browser session. Please rerun this cell to enable.\n",
              "      </output>\n",
              "      <script src=\"/nbextensions/google.colab/files.js\"></script> "
            ],
            "text/plain": [
              "<IPython.core.display.HTML object>"
            ]
          },
          "metadata": {}
        },
        {
          "output_type": "stream",
          "name": "stdout",
          "text": [
            "Saving INFO5731_Assignment_One.ipynb to INFO5731_Assignment_One.ipynb\n"
          ]
        }
      ]
    },
    {
      "cell_type": "code",
      "metadata": {
        "colab": {
          "base_uri": "https://localhost:8080/",
          "height": 1000
        },
        "id": "ADk70ULdXGdK",
        "outputId": "96a9c823-24a4-4bae-a8b4-04d15a61ad85"
      },
      "source": [
        "import pandas as pd # import pandas library to read the csv as dataframe. data frame aloows to perform data manupulation with ease.\n",
        "data = pd.read_csv(\"Assignment1_denton_housing.csv\")\n",
        "data"
      ],
      "execution_count": 10,
      "outputs": [
        {
          "output_type": "execute_result",
          "data": {
            "text/html": [
              "<div>\n",
              "<style scoped>\n",
              "    .dataframe tbody tr th:only-of-type {\n",
              "        vertical-align: middle;\n",
              "    }\n",
              "\n",
              "    .dataframe tbody tr th {\n",
              "        vertical-align: top;\n",
              "    }\n",
              "\n",
              "    .dataframe thead th {\n",
              "        text-align: right;\n",
              "    }\n",
              "</style>\n",
              "<table border=\"1\" class=\"dataframe\">\n",
              "  <thead>\n",
              "    <tr style=\"text-align: right;\">\n",
              "      <th></th>\n",
              "      <th>year</th>\n",
              "      <th>title_field</th>\n",
              "      <th>value</th>\n",
              "    </tr>\n",
              "  </thead>\n",
              "  <tbody>\n",
              "    <tr>\n",
              "      <th>0</th>\n",
              "      <td>2014</td>\n",
              "      <td>Total Housing Units</td>\n",
              "      <td>49109</td>\n",
              "    </tr>\n",
              "    <tr>\n",
              "      <th>1</th>\n",
              "      <td>2014</td>\n",
              "      <td>Vacant Housing Units</td>\n",
              "      <td>2814</td>\n",
              "    </tr>\n",
              "    <tr>\n",
              "      <th>2</th>\n",
              "      <td>2014</td>\n",
              "      <td>Occupied Housing Units</td>\n",
              "      <td>46295</td>\n",
              "    </tr>\n",
              "    <tr>\n",
              "      <th>3</th>\n",
              "      <td>2013</td>\n",
              "      <td>Total Housing Units</td>\n",
              "      <td>47888</td>\n",
              "    </tr>\n",
              "    <tr>\n",
              "      <th>4</th>\n",
              "      <td>2013</td>\n",
              "      <td>Vacant Housing Units</td>\n",
              "      <td>4215</td>\n",
              "    </tr>\n",
              "    <tr>\n",
              "      <th>5</th>\n",
              "      <td>2013</td>\n",
              "      <td>Occupied Housing Units</td>\n",
              "      <td>43673</td>\n",
              "    </tr>\n",
              "    <tr>\n",
              "      <th>6</th>\n",
              "      <td>2012</td>\n",
              "      <td>Total Housing Units</td>\n",
              "      <td>45121</td>\n",
              "    </tr>\n",
              "    <tr>\n",
              "      <th>7</th>\n",
              "      <td>2012</td>\n",
              "      <td>Vacant Housing Units</td>\n",
              "      <td>3013</td>\n",
              "    </tr>\n",
              "    <tr>\n",
              "      <th>8</th>\n",
              "      <td>2012</td>\n",
              "      <td>Occupied Housing Units</td>\n",
              "      <td>42108</td>\n",
              "    </tr>\n",
              "    <tr>\n",
              "      <th>9</th>\n",
              "      <td>2011</td>\n",
              "      <td>Total Housing Units</td>\n",
              "      <td>44917</td>\n",
              "    </tr>\n",
              "    <tr>\n",
              "      <th>10</th>\n",
              "      <td>2011</td>\n",
              "      <td>Vacant Housing Units</td>\n",
              "      <td>4213</td>\n",
              "    </tr>\n",
              "    <tr>\n",
              "      <th>11</th>\n",
              "      <td>2011</td>\n",
              "      <td>Occupied Housing Units</td>\n",
              "      <td>40704</td>\n",
              "    </tr>\n",
              "    <tr>\n",
              "      <th>12</th>\n",
              "      <td>2010</td>\n",
              "      <td>Total Housing Units</td>\n",
              "      <td>44642</td>\n",
              "    </tr>\n",
              "    <tr>\n",
              "      <th>13</th>\n",
              "      <td>2010</td>\n",
              "      <td>Vacant Housing Units</td>\n",
              "      <td>3635</td>\n",
              "    </tr>\n",
              "    <tr>\n",
              "      <th>14</th>\n",
              "      <td>2010</td>\n",
              "      <td>Occupied Housing Units</td>\n",
              "      <td>41007</td>\n",
              "    </tr>\n",
              "    <tr>\n",
              "      <th>15</th>\n",
              "      <td>2009</td>\n",
              "      <td>Total Housing Units</td>\n",
              "      <td>39499</td>\n",
              "    </tr>\n",
              "    <tr>\n",
              "      <th>16</th>\n",
              "      <td>2009</td>\n",
              "      <td>Vacant Housing Units</td>\n",
              "      <td>3583</td>\n",
              "    </tr>\n",
              "    <tr>\n",
              "      <th>17</th>\n",
              "      <td>2009</td>\n",
              "      <td>Occupied Housing Units</td>\n",
              "      <td>35916</td>\n",
              "    </tr>\n",
              "    <tr>\n",
              "      <th>18</th>\n",
              "      <td>2008</td>\n",
              "      <td>Total Housing Units</td>\n",
              "      <td>41194</td>\n",
              "    </tr>\n",
              "    <tr>\n",
              "      <th>19</th>\n",
              "      <td>2008</td>\n",
              "      <td>Vacant Housing Units</td>\n",
              "      <td>4483</td>\n",
              "    </tr>\n",
              "    <tr>\n",
              "      <th>20</th>\n",
              "      <td>2008</td>\n",
              "      <td>Occupied Housing Units</td>\n",
              "      <td>36711</td>\n",
              "    </tr>\n",
              "    <tr>\n",
              "      <th>21</th>\n",
              "      <td>2014</td>\n",
              "      <td>Owner Occupied</td>\n",
              "      <td>21427</td>\n",
              "    </tr>\n",
              "    <tr>\n",
              "      <th>22</th>\n",
              "      <td>2014</td>\n",
              "      <td>Renter Occupied</td>\n",
              "      <td>24868</td>\n",
              "    </tr>\n",
              "    <tr>\n",
              "      <th>23</th>\n",
              "      <td>2013</td>\n",
              "      <td>Owner Occupied</td>\n",
              "      <td>20845</td>\n",
              "    </tr>\n",
              "    <tr>\n",
              "      <th>24</th>\n",
              "      <td>2013</td>\n",
              "      <td>Renter Occupied</td>\n",
              "      <td>22828</td>\n",
              "    </tr>\n",
              "    <tr>\n",
              "      <th>25</th>\n",
              "      <td>2012</td>\n",
              "      <td>Owner Occupied</td>\n",
              "      <td>20068</td>\n",
              "    </tr>\n",
              "    <tr>\n",
              "      <th>26</th>\n",
              "      <td>2012</td>\n",
              "      <td>Renter Occupied</td>\n",
              "      <td>22040</td>\n",
              "    </tr>\n",
              "    <tr>\n",
              "      <th>27</th>\n",
              "      <td>2011</td>\n",
              "      <td>Owner Occupied</td>\n",
              "      <td>18478</td>\n",
              "    </tr>\n",
              "    <tr>\n",
              "      <th>28</th>\n",
              "      <td>2011</td>\n",
              "      <td>Renter Occupied</td>\n",
              "      <td>22226</td>\n",
              "    </tr>\n",
              "    <tr>\n",
              "      <th>29</th>\n",
              "      <td>2010</td>\n",
              "      <td>Owner Occupied</td>\n",
              "      <td>18867</td>\n",
              "    </tr>\n",
              "    <tr>\n",
              "      <th>30</th>\n",
              "      <td>2010</td>\n",
              "      <td>Renter Occupied</td>\n",
              "      <td>22140</td>\n",
              "    </tr>\n",
              "    <tr>\n",
              "      <th>31</th>\n",
              "      <td>2009</td>\n",
              "      <td>Owner Occupied</td>\n",
              "      <td>18057</td>\n",
              "    </tr>\n",
              "    <tr>\n",
              "      <th>32</th>\n",
              "      <td>2009</td>\n",
              "      <td>Renter Occupied</td>\n",
              "      <td>17859</td>\n",
              "    </tr>\n",
              "    <tr>\n",
              "      <th>33</th>\n",
              "      <td>2008</td>\n",
              "      <td>Owner Occupied</td>\n",
              "      <td>17340</td>\n",
              "    </tr>\n",
              "    <tr>\n",
              "      <th>34</th>\n",
              "      <td>2008</td>\n",
              "      <td>Renter Occupied</td>\n",
              "      <td>19371</td>\n",
              "    </tr>\n",
              "    <tr>\n",
              "      <th>35</th>\n",
              "      <td>2014</td>\n",
              "      <td>Median Gross Rent</td>\n",
              "      <td>905</td>\n",
              "    </tr>\n",
              "    <tr>\n",
              "      <th>36</th>\n",
              "      <td>2013</td>\n",
              "      <td>Median Gross Rent</td>\n",
              "      <td>887</td>\n",
              "    </tr>\n",
              "    <tr>\n",
              "      <th>37</th>\n",
              "      <td>2012</td>\n",
              "      <td>Median Gross Rent</td>\n",
              "      <td>842</td>\n",
              "    </tr>\n",
              "    <tr>\n",
              "      <th>38</th>\n",
              "      <td>2011</td>\n",
              "      <td>Median Gross Rent</td>\n",
              "      <td>821</td>\n",
              "    </tr>\n",
              "    <tr>\n",
              "      <th>39</th>\n",
              "      <td>2010</td>\n",
              "      <td>Median Gross Rent</td>\n",
              "      <td>780</td>\n",
              "    </tr>\n",
              "    <tr>\n",
              "      <th>40</th>\n",
              "      <td>2009</td>\n",
              "      <td>Median Gross Rent</td>\n",
              "      <td>769</td>\n",
              "    </tr>\n",
              "    <tr>\n",
              "      <th>41</th>\n",
              "      <td>2008</td>\n",
              "      <td>Median Gross Rent</td>\n",
              "      <td>768</td>\n",
              "    </tr>\n",
              "  </tbody>\n",
              "</table>\n",
              "</div>"
            ],
            "text/plain": [
              "    year             title_field  value\n",
              "0   2014     Total Housing Units  49109\n",
              "1   2014    Vacant Housing Units   2814\n",
              "2   2014  Occupied Housing Units  46295\n",
              "3   2013     Total Housing Units  47888\n",
              "4   2013    Vacant Housing Units   4215\n",
              "5   2013  Occupied Housing Units  43673\n",
              "6   2012     Total Housing Units  45121\n",
              "7   2012    Vacant Housing Units   3013\n",
              "8   2012  Occupied Housing Units  42108\n",
              "9   2011     Total Housing Units  44917\n",
              "10  2011    Vacant Housing Units   4213\n",
              "11  2011  Occupied Housing Units  40704\n",
              "12  2010     Total Housing Units  44642\n",
              "13  2010    Vacant Housing Units   3635\n",
              "14  2010  Occupied Housing Units  41007\n",
              "15  2009     Total Housing Units  39499\n",
              "16  2009    Vacant Housing Units   3583\n",
              "17  2009  Occupied Housing Units  35916\n",
              "18  2008     Total Housing Units  41194\n",
              "19  2008    Vacant Housing Units   4483\n",
              "20  2008  Occupied Housing Units  36711\n",
              "21  2014          Owner Occupied  21427\n",
              "22  2014         Renter Occupied  24868\n",
              "23  2013          Owner Occupied  20845\n",
              "24  2013         Renter Occupied  22828\n",
              "25  2012          Owner Occupied  20068\n",
              "26  2012         Renter Occupied  22040\n",
              "27  2011          Owner Occupied  18478\n",
              "28  2011         Renter Occupied  22226\n",
              "29  2010          Owner Occupied  18867\n",
              "30  2010         Renter Occupied  22140\n",
              "31  2009          Owner Occupied  18057\n",
              "32  2009         Renter Occupied  17859\n",
              "33  2008          Owner Occupied  17340\n",
              "34  2008         Renter Occupied  19371\n",
              "35  2014       Median Gross Rent    905\n",
              "36  2013       Median Gross Rent    887\n",
              "37  2012       Median Gross Rent    842\n",
              "38  2011       Median Gross Rent    821\n",
              "39  2010       Median Gross Rent    780\n",
              "40  2009       Median Gross Rent    769\n",
              "41  2008       Median Gross Rent    768"
            ]
          },
          "metadata": {},
          "execution_count": 10
        }
      ]
    },
    {
      "cell_type": "code",
      "metadata": {
        "colab": {
          "base_uri": "https://localhost:8080/",
          "height": 329
        },
        "id": "Knc2ihXrbsVs",
        "outputId": "78b50aa6-74e1-45c7-bea5-a788a7bb10f8"
      },
      "source": [
        "# to make it easy create a pivot table\n",
        "data = data.pivot( index = 'year',columns = 'title_field', values = 'value')\n",
        "data"
      ],
      "execution_count": 11,
      "outputs": [
        {
          "output_type": "execute_result",
          "data": {
            "text/html": [
              "<div>\n",
              "<style scoped>\n",
              "    .dataframe tbody tr th:only-of-type {\n",
              "        vertical-align: middle;\n",
              "    }\n",
              "\n",
              "    .dataframe tbody tr th {\n",
              "        vertical-align: top;\n",
              "    }\n",
              "\n",
              "    .dataframe thead th {\n",
              "        text-align: right;\n",
              "    }\n",
              "</style>\n",
              "<table border=\"1\" class=\"dataframe\">\n",
              "  <thead>\n",
              "    <tr style=\"text-align: right;\">\n",
              "      <th>title_field</th>\n",
              "      <th>Median Gross Rent</th>\n",
              "      <th>Occupied Housing Units</th>\n",
              "      <th>Owner Occupied</th>\n",
              "      <th>Renter Occupied</th>\n",
              "      <th>Total Housing Units</th>\n",
              "      <th>Vacant Housing Units</th>\n",
              "    </tr>\n",
              "    <tr>\n",
              "      <th>year</th>\n",
              "      <th></th>\n",
              "      <th></th>\n",
              "      <th></th>\n",
              "      <th></th>\n",
              "      <th></th>\n",
              "      <th></th>\n",
              "    </tr>\n",
              "  </thead>\n",
              "  <tbody>\n",
              "    <tr>\n",
              "      <th>2008</th>\n",
              "      <td>768</td>\n",
              "      <td>36711</td>\n",
              "      <td>17340</td>\n",
              "      <td>19371</td>\n",
              "      <td>41194</td>\n",
              "      <td>4483</td>\n",
              "    </tr>\n",
              "    <tr>\n",
              "      <th>2009</th>\n",
              "      <td>769</td>\n",
              "      <td>35916</td>\n",
              "      <td>18057</td>\n",
              "      <td>17859</td>\n",
              "      <td>39499</td>\n",
              "      <td>3583</td>\n",
              "    </tr>\n",
              "    <tr>\n",
              "      <th>2010</th>\n",
              "      <td>780</td>\n",
              "      <td>41007</td>\n",
              "      <td>18867</td>\n",
              "      <td>22140</td>\n",
              "      <td>44642</td>\n",
              "      <td>3635</td>\n",
              "    </tr>\n",
              "    <tr>\n",
              "      <th>2011</th>\n",
              "      <td>821</td>\n",
              "      <td>40704</td>\n",
              "      <td>18478</td>\n",
              "      <td>22226</td>\n",
              "      <td>44917</td>\n",
              "      <td>4213</td>\n",
              "    </tr>\n",
              "    <tr>\n",
              "      <th>2012</th>\n",
              "      <td>842</td>\n",
              "      <td>42108</td>\n",
              "      <td>20068</td>\n",
              "      <td>22040</td>\n",
              "      <td>45121</td>\n",
              "      <td>3013</td>\n",
              "    </tr>\n",
              "    <tr>\n",
              "      <th>2013</th>\n",
              "      <td>887</td>\n",
              "      <td>43673</td>\n",
              "      <td>20845</td>\n",
              "      <td>22828</td>\n",
              "      <td>47888</td>\n",
              "      <td>4215</td>\n",
              "    </tr>\n",
              "    <tr>\n",
              "      <th>2014</th>\n",
              "      <td>905</td>\n",
              "      <td>46295</td>\n",
              "      <td>21427</td>\n",
              "      <td>24868</td>\n",
              "      <td>49109</td>\n",
              "      <td>2814</td>\n",
              "    </tr>\n",
              "  </tbody>\n",
              "</table>\n",
              "</div>"
            ],
            "text/plain": [
              "title_field  Median Gross Rent  ...  Vacant Housing Units\n",
              "year                            ...                      \n",
              "2008                       768  ...                  4483\n",
              "2009                       769  ...                  3583\n",
              "2010                       780  ...                  3635\n",
              "2011                       821  ...                  4213\n",
              "2012                       842  ...                  3013\n",
              "2013                       887  ...                  4215\n",
              "2014                       905  ...                  2814\n",
              "\n",
              "[7 rows x 6 columns]"
            ]
          },
          "metadata": {},
          "execution_count": 11
        }
      ]
    },
    {
      "cell_type": "code",
      "metadata": {
        "id": "m2FGdAXqZyg1",
        "colab": {
          "base_uri": "https://localhost:8080/",
          "height": 298
        },
        "outputId": "e8d445b5-1841-475e-f4b8-bc53943468be"
      },
      "source": [
        "# Since the above line of code changes the index,\n",
        "data= data.reset_index()\n",
        "data"
      ],
      "execution_count": 12,
      "outputs": [
        {
          "output_type": "execute_result",
          "data": {
            "text/html": [
              "<div>\n",
              "<style scoped>\n",
              "    .dataframe tbody tr th:only-of-type {\n",
              "        vertical-align: middle;\n",
              "    }\n",
              "\n",
              "    .dataframe tbody tr th {\n",
              "        vertical-align: top;\n",
              "    }\n",
              "\n",
              "    .dataframe thead th {\n",
              "        text-align: right;\n",
              "    }\n",
              "</style>\n",
              "<table border=\"1\" class=\"dataframe\">\n",
              "  <thead>\n",
              "    <tr style=\"text-align: right;\">\n",
              "      <th>title_field</th>\n",
              "      <th>year</th>\n",
              "      <th>Median Gross Rent</th>\n",
              "      <th>Occupied Housing Units</th>\n",
              "      <th>Owner Occupied</th>\n",
              "      <th>Renter Occupied</th>\n",
              "      <th>Total Housing Units</th>\n",
              "      <th>Vacant Housing Units</th>\n",
              "    </tr>\n",
              "  </thead>\n",
              "  <tbody>\n",
              "    <tr>\n",
              "      <th>0</th>\n",
              "      <td>2008</td>\n",
              "      <td>768</td>\n",
              "      <td>36711</td>\n",
              "      <td>17340</td>\n",
              "      <td>19371</td>\n",
              "      <td>41194</td>\n",
              "      <td>4483</td>\n",
              "    </tr>\n",
              "    <tr>\n",
              "      <th>1</th>\n",
              "      <td>2009</td>\n",
              "      <td>769</td>\n",
              "      <td>35916</td>\n",
              "      <td>18057</td>\n",
              "      <td>17859</td>\n",
              "      <td>39499</td>\n",
              "      <td>3583</td>\n",
              "    </tr>\n",
              "    <tr>\n",
              "      <th>2</th>\n",
              "      <td>2010</td>\n",
              "      <td>780</td>\n",
              "      <td>41007</td>\n",
              "      <td>18867</td>\n",
              "      <td>22140</td>\n",
              "      <td>44642</td>\n",
              "      <td>3635</td>\n",
              "    </tr>\n",
              "    <tr>\n",
              "      <th>3</th>\n",
              "      <td>2011</td>\n",
              "      <td>821</td>\n",
              "      <td>40704</td>\n",
              "      <td>18478</td>\n",
              "      <td>22226</td>\n",
              "      <td>44917</td>\n",
              "      <td>4213</td>\n",
              "    </tr>\n",
              "    <tr>\n",
              "      <th>4</th>\n",
              "      <td>2012</td>\n",
              "      <td>842</td>\n",
              "      <td>42108</td>\n",
              "      <td>20068</td>\n",
              "      <td>22040</td>\n",
              "      <td>45121</td>\n",
              "      <td>3013</td>\n",
              "    </tr>\n",
              "    <tr>\n",
              "      <th>5</th>\n",
              "      <td>2013</td>\n",
              "      <td>887</td>\n",
              "      <td>43673</td>\n",
              "      <td>20845</td>\n",
              "      <td>22828</td>\n",
              "      <td>47888</td>\n",
              "      <td>4215</td>\n",
              "    </tr>\n",
              "    <tr>\n",
              "      <th>6</th>\n",
              "      <td>2014</td>\n",
              "      <td>905</td>\n",
              "      <td>46295</td>\n",
              "      <td>21427</td>\n",
              "      <td>24868</td>\n",
              "      <td>49109</td>\n",
              "      <td>2814</td>\n",
              "    </tr>\n",
              "  </tbody>\n",
              "</table>\n",
              "</div>"
            ],
            "text/plain": [
              "title_field  year  Median Gross Rent  ...  Total Housing Units  Vacant Housing Units\n",
              "0            2008                768  ...                41194                  4483\n",
              "1            2009                769  ...                39499                  3583\n",
              "2            2010                780  ...                44642                  3635\n",
              "3            2011                821  ...                44917                  4213\n",
              "4            2012                842  ...                45121                  3013\n",
              "5            2013                887  ...                47888                  4215\n",
              "6            2014                905  ...                49109                  2814\n",
              "\n",
              "[7 rows x 7 columns]"
            ]
          },
          "metadata": {},
          "execution_count": 12
        }
      ]
    },
    {
      "cell_type": "markdown",
      "metadata": {
        "id": "nb_3SoMudUJ1"
      },
      "source": [
        "Part 1. (1) (10 pts) Calculate the difference in the number of Occupied Housing Units from year to year and print it. The difference must be \n",
        "calculated for the consecutive years such as 2008-2009, 2009-2010 etc. Finally, print the values in the ascending order.\n"
      ]
    },
    {
      "cell_type": "code",
      "metadata": {
        "colab": {
          "base_uri": "https://localhost:8080/",
          "height": 234
        },
        "id": "vqLhUeNvdOd6",
        "outputId": "69312641-901c-4fe7-e1a9-7fb66c5939c8"
      },
      "source": [
        "consecutive_difference_df = pd.DataFrame() # create an empty data frame that will have two columns with year range and difference later.\n",
        "\n",
        "# Create range of years and put it in the dataframe as a column\n",
        "consecutive_difference_df[\"Years\"] = pd.Series([f'{i} - {i+1}' for i in range(2008,2014)]) # makes a list of years from 2008-2009, 2009-21010 and so on.\n",
        "\n",
        "# Get the absolute of difference for Occupied Housing Units for each year and drop Nan that will occur at first and end and thence reset the index.\n",
        "consecutive_difference = abs(data[\"Occupied Housing Units\"].diff()).dropna().reset_index(drop = True)                                                                  \n",
        "consecutive_difference_df[\"Difference\"] = consecutive_difference # set it as second column of the dataframe \n",
        "\n",
        "\n",
        "# Print the dataframe for results but in ascending order. Use df.sort_values()\n",
        "consecutive_difference_df.sort_values(by = [\"Difference\"], ascending=True )"
      ],
      "execution_count": 13,
      "outputs": [
        {
          "output_type": "execute_result",
          "data": {
            "text/html": [
              "<div>\n",
              "<style scoped>\n",
              "    .dataframe tbody tr th:only-of-type {\n",
              "        vertical-align: middle;\n",
              "    }\n",
              "\n",
              "    .dataframe tbody tr th {\n",
              "        vertical-align: top;\n",
              "    }\n",
              "\n",
              "    .dataframe thead th {\n",
              "        text-align: right;\n",
              "    }\n",
              "</style>\n",
              "<table border=\"1\" class=\"dataframe\">\n",
              "  <thead>\n",
              "    <tr style=\"text-align: right;\">\n",
              "      <th></th>\n",
              "      <th>Years</th>\n",
              "      <th>Difference</th>\n",
              "    </tr>\n",
              "  </thead>\n",
              "  <tbody>\n",
              "    <tr>\n",
              "      <th>2</th>\n",
              "      <td>2010 - 2011</td>\n",
              "      <td>303.0</td>\n",
              "    </tr>\n",
              "    <tr>\n",
              "      <th>0</th>\n",
              "      <td>2008 - 2009</td>\n",
              "      <td>795.0</td>\n",
              "    </tr>\n",
              "    <tr>\n",
              "      <th>3</th>\n",
              "      <td>2011 - 2012</td>\n",
              "      <td>1404.0</td>\n",
              "    </tr>\n",
              "    <tr>\n",
              "      <th>4</th>\n",
              "      <td>2012 - 2013</td>\n",
              "      <td>1565.0</td>\n",
              "    </tr>\n",
              "    <tr>\n",
              "      <th>5</th>\n",
              "      <td>2013 - 2014</td>\n",
              "      <td>2622.0</td>\n",
              "    </tr>\n",
              "    <tr>\n",
              "      <th>1</th>\n",
              "      <td>2009 - 2010</td>\n",
              "      <td>5091.0</td>\n",
              "    </tr>\n",
              "  </tbody>\n",
              "</table>\n",
              "</div>"
            ],
            "text/plain": [
              "         Years  Difference\n",
              "2  2010 - 2011       303.0\n",
              "0  2008 - 2009       795.0\n",
              "3  2011 - 2012      1404.0\n",
              "4  2012 - 2013      1565.0\n",
              "5  2013 - 2014      2622.0\n",
              "1  2009 - 2010      5091.0"
            ]
          },
          "metadata": {},
          "execution_count": 13
        }
      ]
    },
    {
      "cell_type": "markdown",
      "metadata": {
        "id": "cC30duFlunYE"
      },
      "source": [
        "(2) (10 pts) For all the years, calculate the percentage of housing units which are vacant an occupied. Print the results in the following format:\n",
        "\n",
        "Year Vacant Housing Units Occupied Housing Units\n",
        "\n",
        "    2008  30%   70%                          \n",
        "\t2009 ----- -----\n",
        "\t2010 ----- -----\n",
        "    2011 ----- -----\n",
        "\t2012 ----- -----\n",
        "    2013 ----- -----\n",
        "\t2014 ----- -----"
      ]
    },
    {
      "cell_type": "code",
      "metadata": {
        "colab": {
          "base_uri": "https://localhost:8080/",
          "height": 265
        },
        "id": "3MkyWQMYuuGF",
        "outputId": "5394dd36-6128-4f65-d428-032eb60081a9"
      },
      "source": [
        "# Create an empty data frame that will be show the results.\n",
        "\n",
        "# Start with the required years. Can also be obtained from the dataset.\n",
        "Status = pd.DataFrame()\n",
        "Status[\"Years\"] = range(2008,2015)\n",
        "\n",
        "# Calculate Percentage for Occupied Units. Formula => % Occupied = Occupied Units * 100 / Total Housing Units %\n",
        "# Round the answer to 2 floating decimals and change data type to string so that % sign can be added at the end.\n",
        "Status[\"Occupied\"] = (data[\"Occupied Housing Units\"] / data[\"Total Housing Units\"] * 100).round(2).astype(str) + \"%\"\n",
        "\n",
        "# Calculate Percentage for Vacant Units. Formula => % Vacant = Vacant Units * 100 / Total Housing Units %\n",
        "# Round the answer to 2 floating decimals and change data type to string so that % sign can be added at the end.\n",
        "Status[\"Vacant\"] = (data[\"Vacant Housing Units\"] / data[\"Total Housing Units\"] * 100).round(2).astype(str) + \"%\"\n",
        "\n",
        "Status"
      ],
      "execution_count": 14,
      "outputs": [
        {
          "output_type": "execute_result",
          "data": {
            "text/html": [
              "<div>\n",
              "<style scoped>\n",
              "    .dataframe tbody tr th:only-of-type {\n",
              "        vertical-align: middle;\n",
              "    }\n",
              "\n",
              "    .dataframe tbody tr th {\n",
              "        vertical-align: top;\n",
              "    }\n",
              "\n",
              "    .dataframe thead th {\n",
              "        text-align: right;\n",
              "    }\n",
              "</style>\n",
              "<table border=\"1\" class=\"dataframe\">\n",
              "  <thead>\n",
              "    <tr style=\"text-align: right;\">\n",
              "      <th></th>\n",
              "      <th>Years</th>\n",
              "      <th>Occupied</th>\n",
              "      <th>Vacant</th>\n",
              "    </tr>\n",
              "  </thead>\n",
              "  <tbody>\n",
              "    <tr>\n",
              "      <th>0</th>\n",
              "      <td>2008</td>\n",
              "      <td>89.12%</td>\n",
              "      <td>10.88%</td>\n",
              "    </tr>\n",
              "    <tr>\n",
              "      <th>1</th>\n",
              "      <td>2009</td>\n",
              "      <td>90.93%</td>\n",
              "      <td>9.07%</td>\n",
              "    </tr>\n",
              "    <tr>\n",
              "      <th>2</th>\n",
              "      <td>2010</td>\n",
              "      <td>91.86%</td>\n",
              "      <td>8.14%</td>\n",
              "    </tr>\n",
              "    <tr>\n",
              "      <th>3</th>\n",
              "      <td>2011</td>\n",
              "      <td>90.62%</td>\n",
              "      <td>9.38%</td>\n",
              "    </tr>\n",
              "    <tr>\n",
              "      <th>4</th>\n",
              "      <td>2012</td>\n",
              "      <td>93.32%</td>\n",
              "      <td>6.68%</td>\n",
              "    </tr>\n",
              "    <tr>\n",
              "      <th>5</th>\n",
              "      <td>2013</td>\n",
              "      <td>91.2%</td>\n",
              "      <td>8.8%</td>\n",
              "    </tr>\n",
              "    <tr>\n",
              "      <th>6</th>\n",
              "      <td>2014</td>\n",
              "      <td>94.27%</td>\n",
              "      <td>5.73%</td>\n",
              "    </tr>\n",
              "  </tbody>\n",
              "</table>\n",
              "</div>"
            ],
            "text/plain": [
              "   Years Occupied  Vacant\n",
              "0   2008   89.12%  10.88%\n",
              "1   2009   90.93%   9.07%\n",
              "2   2010   91.86%   8.14%\n",
              "3   2011   90.62%   9.38%\n",
              "4   2012   93.32%   6.68%\n",
              "5   2013    91.2%    8.8%\n",
              "6   2014   94.27%   5.73%"
            ]
          },
          "metadata": {},
          "execution_count": 14
        }
      ]
    },
    {
      "cell_type": "markdown",
      "metadata": {
        "id": "odJSIuAWyn5Z"
      },
      "source": [
        "(3) (10 pts) Calculate and print the values and years in which the highest number of housing units were vacant and occupied. Print the results in the following format:  \n",
        "\n",
        "                              Year\tValue\n",
        "\tVacant Housing Units\t  -----   -----\n",
        "\tOccupied Housing Units\t-----   -----\n"
      ]
    },
    {
      "cell_type": "code",
      "metadata": {
        "colab": {
          "base_uri": "https://localhost:8080/",
          "height": 110
        },
        "id": "OKRny1hGyuuY",
        "outputId": "21edd06b-fe41-4ce8-d4ea-763079b6a3de"
      },
      "source": [
        "minmax_df = pd.DataFrame()\n",
        "\n",
        "# Start filling 1st column that has vacant and occupied housing units.\n",
        "minmax_df[\"Maximum number of:\"] = [\"Vacant Housing Units\", \"Occupied Housing Units\"]\n",
        "\n",
        "# Find the index for maximum value of Vacant and Occupied Houisng using argmax() and extract its Year.\n",
        "minmax_df[\"Year\"] = [data.at[data[\"Vacant Housing Units\"].argmax(), \"year\"], data.at[data['Occupied Housing Units'].argmax(), \"year\"]]\n",
        "\n",
        "# Find the actual maximum value in the each column uisng .max()\n",
        "minmax_df[\"Value\"] = [data[\"Vacant Housing Units\"].max(), data['Occupied Housing Units'].max()]\n",
        "\n",
        "minmax_df"
      ],
      "execution_count": 15,
      "outputs": [
        {
          "output_type": "execute_result",
          "data": {
            "text/html": [
              "<div>\n",
              "<style scoped>\n",
              "    .dataframe tbody tr th:only-of-type {\n",
              "        vertical-align: middle;\n",
              "    }\n",
              "\n",
              "    .dataframe tbody tr th {\n",
              "        vertical-align: top;\n",
              "    }\n",
              "\n",
              "    .dataframe thead th {\n",
              "        text-align: right;\n",
              "    }\n",
              "</style>\n",
              "<table border=\"1\" class=\"dataframe\">\n",
              "  <thead>\n",
              "    <tr style=\"text-align: right;\">\n",
              "      <th></th>\n",
              "      <th>Maximum number of:</th>\n",
              "      <th>Year</th>\n",
              "      <th>Value</th>\n",
              "    </tr>\n",
              "  </thead>\n",
              "  <tbody>\n",
              "    <tr>\n",
              "      <th>0</th>\n",
              "      <td>Vacant Housing Units</td>\n",
              "      <td>2008</td>\n",
              "      <td>4483</td>\n",
              "    </tr>\n",
              "    <tr>\n",
              "      <th>1</th>\n",
              "      <td>Occupied Housing Units</td>\n",
              "      <td>2014</td>\n",
              "      <td>46295</td>\n",
              "    </tr>\n",
              "  </tbody>\n",
              "</table>\n",
              "</div>"
            ],
            "text/plain": [
              "       Maximum number of:  Year  Value\n",
              "0    Vacant Housing Units  2008   4483\n",
              "1  Occupied Housing Units  2014  46295"
            ]
          },
          "metadata": {},
          "execution_count": 15
        }
      ]
    },
    {
      "cell_type": "markdown",
      "metadata": {
        "id": "oCqDjHN_y19_"
      },
      "source": [
        "(4) (10 pts) Calculate the harmonic mean of the total housing units and print it out. You can find the information about harmonic mean here: https://ncalculators.com/statistics/harmonic-mean-calculator.htm"
      ]
    },
    {
      "cell_type": "code",
      "metadata": {
        "colab": {
          "base_uri": "https://localhost:8080/"
        },
        "id": "2ahHEHHX7Al6",
        "outputId": "7b1d6e1f-376a-469b-ba13-824fcc14b8ed"
      },
      "source": [
        "# Harmonic Mean = number of observation / (sum of reciprocals of all observation)\n",
        "\n",
        "# Sum of reciprocals for each data in Total housing units is given by:\n",
        "sum_of_reciprocals =  (1 / data[\"Total Housing Units\"]).sum()\n",
        "\n",
        "# Total number of observation is total number of records because there is no row with all empty values.\n",
        "harmonic_mean = len(data) / sum_of_reciprocals\n",
        "harmonic_mean"
      ],
      "execution_count": 36,
      "outputs": [
        {
          "output_type": "execute_result",
          "data": {
            "text/plain": [
              "44398.28543969185"
            ]
          },
          "metadata": {},
          "execution_count": 36
        }
      ]
    },
    {
      "cell_type": "code",
      "metadata": {
        "id": "6mkLdbOi7BaM"
      },
      "source": [
        ""
      ],
      "execution_count": null,
      "outputs": []
    }
  ]
}