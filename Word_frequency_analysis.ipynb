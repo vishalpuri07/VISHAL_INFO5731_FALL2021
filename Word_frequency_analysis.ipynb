{
 "cells": [
  {
   "cell_type": "code",
   "execution_count": 1,
   "metadata": {},
   "outputs": [],
   "source": [
    "# Import necessary libraries\n",
    "\n",
    "import pandas as pd\n",
    "from matplotlib import pyplot as plots\n",
    "import warnings\n",
    "warnings.filterwarnings('ignore')"
   ]
  },
  {
   "cell_type": "code",
   "execution_count": 2,
   "metadata": {},
   "outputs": [
    {
     "data": {
      "text/html": [
       "<div>\n",
       "<style scoped>\n",
       "    .dataframe tbody tr th:only-of-type {\n",
       "        vertical-align: middle;\n",
       "    }\n",
       "\n",
       "    .dataframe tbody tr th {\n",
       "        vertical-align: top;\n",
       "    }\n",
       "\n",
       "    .dataframe thead th {\n",
       "        text-align: right;\n",
       "    }\n",
       "</style>\n",
       "<table border=\"1\" class=\"dataframe\">\n",
       "  <thead>\n",
       "    <tr style=\"text-align: right;\">\n",
       "      <th></th>\n",
       "      <th>hashtag</th>\n",
       "      <th>id</th>\n",
       "      <th>created_at</th>\n",
       "      <th>lang</th>\n",
       "      <th>author_id</th>\n",
       "      <th>text</th>\n",
       "      <th>public_metricsretweet_count</th>\n",
       "      <th>public_metricsreply_count</th>\n",
       "      <th>public_metricslike_count</th>\n",
       "      <th>public_metricsquote_count</th>\n",
       "      <th>...</th>\n",
       "      <th>id.1</th>\n",
       "      <th>geotype</th>\n",
       "      <th>geobbox</th>\n",
       "      <th>country_code</th>\n",
       "      <th>full_name</th>\n",
       "      <th>country</th>\n",
       "      <th>newest_id</th>\n",
       "      <th>oldest_id</th>\n",
       "      <th>result_count</th>\n",
       "      <th>next_token</th>\n",
       "    </tr>\n",
       "  </thead>\n",
       "  <tbody>\n",
       "    <tr>\n",
       "      <th>0</th>\n",
       "      <td>#WarOnDrugs</td>\n",
       "      <td>4.174290e+17</td>\n",
       "      <td>2013-12-29T22:56:48.000Z</td>\n",
       "      <td>en</td>\n",
       "      <td>1.639174e+07</td>\n",
       "      <td>RT @truthout: Why the Right to a Fair Trial Do...</td>\n",
       "      <td>11.0</td>\n",
       "      <td>0.0</td>\n",
       "      <td>0.0</td>\n",
       "      <td>0.0</td>\n",
       "      <td>...</td>\n",
       "      <td>b046074b1030a44d</td>\n",
       "      <td>Feature</td>\n",
       "      <td>[-74.107995, 40.666879, -74.0253309, 40.769124]</td>\n",
       "      <td>US</td>\n",
       "      <td>Jersey City, NJ</td>\n",
       "      <td>United States</td>\n",
       "      <td>4.174290e+17</td>\n",
       "      <td>4.134530e+17</td>\n",
       "      <td>500.0</td>\n",
       "      <td>1jzu9lk96gu5npw15vg9msz0xn5d8bt0tp9fg88gal4t</td>\n",
       "    </tr>\n",
       "    <tr>\n",
       "      <th>1</th>\n",
       "      <td>#WarOnDrugs</td>\n",
       "      <td>4.174280e+17</td>\n",
       "      <td>2013-12-29T22:51:34.000Z</td>\n",
       "      <td>en</td>\n",
       "      <td>4.813894e+08</td>\n",
       "      <td>#warondrugs #newjimcrow #itsreal @RollingStone...</td>\n",
       "      <td>0.0</td>\n",
       "      <td>0.0</td>\n",
       "      <td>0.0</td>\n",
       "      <td>0.0</td>\n",
       "      <td>...</td>\n",
       "      <td>ea0a61fa0c646676</td>\n",
       "      <td>Feature</td>\n",
       "      <td>[3.9418364, 51.8421131, 4.6013785, 52.0068016]</td>\n",
       "      <td>NL</td>\n",
       "      <td>Rotterdam, The Netherlands</td>\n",
       "      <td>The Netherlands</td>\n",
       "      <td>4.134520e+17</td>\n",
       "      <td>4.106310e+17</td>\n",
       "      <td>494.0</td>\n",
       "      <td>1jzu9lk96gu5npw15vf0a7zy0wvyixygxxkr7ge7l75p</td>\n",
       "    </tr>\n",
       "    <tr>\n",
       "      <th>2</th>\n",
       "      <td>#WarOnDrugs</td>\n",
       "      <td>4.174270e+17</td>\n",
       "      <td>2013-12-29T22:49:46.000Z</td>\n",
       "      <td>en</td>\n",
       "      <td>4.158263e+08</td>\n",
       "      <td>@Aennie1 NSA's main target with WHITETAMALE is...</td>\n",
       "      <td>0.0</td>\n",
       "      <td>0.0</td>\n",
       "      <td>0.0</td>\n",
       "      <td>0.0</td>\n",
       "      <td>...</td>\n",
       "      <td>b49b3053b5c25bf5</td>\n",
       "      <td>Feature</td>\n",
       "      <td>[-105.109815, 39.614151, -104.734372, 39.812975]</td>\n",
       "      <td>US</td>\n",
       "      <td>Denver, CO</td>\n",
       "      <td>United States</td>\n",
       "      <td>4.106270e+17</td>\n",
       "      <td>4.083510e+17</td>\n",
       "      <td>499.0</td>\n",
       "      <td>1jzu9lk96gu5npw15silgorbm61ya0m6jzaxeb7itta5</td>\n",
       "    </tr>\n",
       "    <tr>\n",
       "      <th>3</th>\n",
       "      <td>#WarOnDrugs</td>\n",
       "      <td>4.174250e+17</td>\n",
       "      <td>2013-12-29T22:40:15.000Z</td>\n",
       "      <td>en</td>\n",
       "      <td>2.510128e+08</td>\n",
       "      <td>Colorado pot sales to begin in 2014 #warondrug...</td>\n",
       "      <td>0.0</td>\n",
       "      <td>0.0</td>\n",
       "      <td>0.0</td>\n",
       "      <td>0.0</td>\n",
       "      <td>...</td>\n",
       "      <td>2468025af2bcc4cb</td>\n",
       "      <td>Feature</td>\n",
       "      <td>[-114.993892, 50.309675, -113.375347, 51.940658]</td>\n",
       "      <td>CA</td>\n",
       "      <td>Division No.  6, Alberta</td>\n",
       "      <td>Canada</td>\n",
       "      <td>4.083500e+17</td>\n",
       "      <td>4.072140e+17</td>\n",
       "      <td>494.0</td>\n",
       "      <td>1jzu9lk96gu5npw15si68ww825furuhnemsedj6hilx9</td>\n",
       "    </tr>\n",
       "    <tr>\n",
       "      <th>4</th>\n",
       "      <td>#WarOnDrugs</td>\n",
       "      <td>4.174150e+17</td>\n",
       "      <td>2013-12-29T21:59:21.000Z</td>\n",
       "      <td>en</td>\n",
       "      <td>3.021527e+08</td>\n",
       "      <td>#Schumacher may die f/ skiing. Hypocritical t ...</td>\n",
       "      <td>0.0</td>\n",
       "      <td>0.0</td>\n",
       "      <td>1.0</td>\n",
       "      <td>0.0</td>\n",
       "      <td>...</td>\n",
       "      <td>e4a0d228eb6be76b</td>\n",
       "      <td>Feature</td>\n",
       "      <td>[-75.280284, 39.871811, -74.955712, 40.13792]</td>\n",
       "      <td>US</td>\n",
       "      <td>Philadelphia, PA</td>\n",
       "      <td>United States</td>\n",
       "      <td>4.072120e+17</td>\n",
       "      <td>4.048460e+17</td>\n",
       "      <td>497.0</td>\n",
       "      <td>1jzu9lk96gu5npw15sgx4wbt853rxphz16x5geh0n2wt</td>\n",
       "    </tr>\n",
       "    <tr>\n",
       "      <th>5</th>\n",
       "      <td>#WarOnDrugs</td>\n",
       "      <td>4.174150e+17</td>\n",
       "      <td>2013-12-29T21:59:07.000Z</td>\n",
       "      <td>en</td>\n",
       "      <td>4.158263e+08</td>\n",
       "      <td>.@Aennie1  These are new details on #Snowden d...</td>\n",
       "      <td>0.0</td>\n",
       "      <td>0.0</td>\n",
       "      <td>0.0</td>\n",
       "      <td>0.0</td>\n",
       "      <td>...</td>\n",
       "      <td>fef01a8cb0eacb64</td>\n",
       "      <td>Feature</td>\n",
       "      <td>[-81.628444, 40.995137, -81.405059, 41.166618]</td>\n",
       "      <td>US</td>\n",
       "      <td>Akron, OH</td>\n",
       "      <td>United States</td>\n",
       "      <td>4.048150e+17</td>\n",
       "      <td>4.024420e+17</td>\n",
       "      <td>497.0</td>\n",
       "      <td>1jzu9lk96gu5npw15sg2l5j7plkflwucix9vp4gvgs59</td>\n",
       "    </tr>\n",
       "    <tr>\n",
       "      <th>6</th>\n",
       "      <td>#WarOnDrugs</td>\n",
       "      <td>4.174120e+17</td>\n",
       "      <td>2013-12-29T21:50:09.000Z</td>\n",
       "      <td>en</td>\n",
       "      <td>2.557629e+08</td>\n",
       "      <td>The #Government spends about 20million dollars...</td>\n",
       "      <td>0.0</td>\n",
       "      <td>0.0</td>\n",
       "      <td>0.0</td>\n",
       "      <td>0.0</td>\n",
       "      <td>...</td>\n",
       "      <td>1b107df3ccc0aaa1</td>\n",
       "      <td>Feature</td>\n",
       "      <td>[-73.991482, -33.7510506, -32.378186, 5.27192]</td>\n",
       "      <td>BR</td>\n",
       "      <td>Brazil</td>\n",
       "      <td>Brazil</td>\n",
       "      <td>4.024320e+17</td>\n",
       "      <td>4.008970e+17</td>\n",
       "      <td>500.0</td>\n",
       "      <td>1jzu9lk96gu5npw15sf8ii264zgt64k2yqqlz1yo24cd</td>\n",
       "    </tr>\n",
       "    <tr>\n",
       "      <th>7</th>\n",
       "      <td>#WarOnDrugs</td>\n",
       "      <td>4.173900e+17</td>\n",
       "      <td>2013-12-29T20:21:07.000Z</td>\n",
       "      <td>en</td>\n",
       "      <td>2.015286e+08</td>\n",
       "      <td>Father of missing boy admits checkered past; w...</td>\n",
       "      <td>0.0</td>\n",
       "      <td>0.0</td>\n",
       "      <td>0.0</td>\n",
       "      <td>0.0</td>\n",
       "      <td>...</td>\n",
       "      <td>2641d0d645fad2ab</td>\n",
       "      <td>Feature</td>\n",
       "      <td>[-0.15191, 51.410792, -0.078902, 51.509887]</td>\n",
       "      <td>GB</td>\n",
       "      <td>Lambeth, England</td>\n",
       "      <td>United Kingdom</td>\n",
       "      <td>4.008930e+17</td>\n",
       "      <td>4.004000e+17</td>\n",
       "      <td>500.0</td>\n",
       "      <td>1jzu9lk96gu5npw15sf87ufij9xejdtdxqkdnrqdxmyl</td>\n",
       "    </tr>\n",
       "    <tr>\n",
       "      <th>8</th>\n",
       "      <td>#WarOnDrugs</td>\n",
       "      <td>4.173750e+17</td>\n",
       "      <td>2013-12-29T19:22:07.000Z</td>\n",
       "      <td>en</td>\n",
       "      <td>1.411389e+09</td>\n",
       "      <td>#WarOnDrugs RT @CNN: On Jan 1, Colorado will b...</td>\n",
       "      <td>0.0</td>\n",
       "      <td>0.0</td>\n",
       "      <td>0.0</td>\n",
       "      <td>0.0</td>\n",
       "      <td>...</td>\n",
       "      <td>13f1b1eadfb47f9b</td>\n",
       "      <td>Feature</td>\n",
       "      <td>[-71.178586, 42.29466, -71.105725, 42.351818]</td>\n",
       "      <td>US</td>\n",
       "      <td>Brookline, MA</td>\n",
       "      <td>United States</td>\n",
       "      <td>4.004000e+17</td>\n",
       "      <td>3.992160e+17</td>\n",
       "      <td>495.0</td>\n",
       "      <td>1jzu9lk96gu5npw0l92nrxbxgfwno56qky1d0bp3dhtp</td>\n",
       "    </tr>\n",
       "    <tr>\n",
       "      <th>9</th>\n",
       "      <td>#WarOnDrugs</td>\n",
       "      <td>4.173710e+17</td>\n",
       "      <td>2013-12-29T19:07:55.000Z</td>\n",
       "      <td>en</td>\n",
       "      <td>2.844395e+07</td>\n",
       "      <td>A Civil Servant in Mexico Tests U.S. on Asylum...</td>\n",
       "      <td>0.0</td>\n",
       "      <td>0.0</td>\n",
       "      <td>0.0</td>\n",
       "      <td>0.0</td>\n",
       "      <td>...</td>\n",
       "      <td>4ec01c9dbc693497</td>\n",
       "      <td>Feature</td>\n",
       "      <td>[-87.634643, 24.396308, -79.974307, 31.001056]</td>\n",
       "      <td>US</td>\n",
       "      <td>Florida, USA</td>\n",
       "      <td>United States</td>\n",
       "      <td>3.992150e+17</td>\n",
       "      <td>3.977810e+17</td>\n",
       "      <td>490.0</td>\n",
       "      <td>1jzu9lk96gu5npw0l91trf65fm1rfpam4kftdzfu7fy5</td>\n",
       "    </tr>\n",
       "  </tbody>\n",
       "</table>\n",
       "<p>10 rows × 25 columns</p>\n",
       "</div>"
      ],
      "text/plain": [
       "       hashtag            id                created_at lang     author_id  \\\n",
       "0  #WarOnDrugs  4.174290e+17  2013-12-29T22:56:48.000Z   en  1.639174e+07   \n",
       "1  #WarOnDrugs  4.174280e+17  2013-12-29T22:51:34.000Z   en  4.813894e+08   \n",
       "2  #WarOnDrugs  4.174270e+17  2013-12-29T22:49:46.000Z   en  4.158263e+08   \n",
       "3  #WarOnDrugs  4.174250e+17  2013-12-29T22:40:15.000Z   en  2.510128e+08   \n",
       "4  #WarOnDrugs  4.174150e+17  2013-12-29T21:59:21.000Z   en  3.021527e+08   \n",
       "5  #WarOnDrugs  4.174150e+17  2013-12-29T21:59:07.000Z   en  4.158263e+08   \n",
       "6  #WarOnDrugs  4.174120e+17  2013-12-29T21:50:09.000Z   en  2.557629e+08   \n",
       "7  #WarOnDrugs  4.173900e+17  2013-12-29T20:21:07.000Z   en  2.015286e+08   \n",
       "8  #WarOnDrugs  4.173750e+17  2013-12-29T19:22:07.000Z   en  1.411389e+09   \n",
       "9  #WarOnDrugs  4.173710e+17  2013-12-29T19:07:55.000Z   en  2.844395e+07   \n",
       "\n",
       "                                                text  \\\n",
       "0  RT @truthout: Why the Right to a Fair Trial Do...   \n",
       "1  #warondrugs #newjimcrow #itsreal @RollingStone...   \n",
       "2  @Aennie1 NSA's main target with WHITETAMALE is...   \n",
       "3  Colorado pot sales to begin in 2014 #warondrug...   \n",
       "4  #Schumacher may die f/ skiing. Hypocritical t ...   \n",
       "5  .@Aennie1  These are new details on #Snowden d...   \n",
       "6  The #Government spends about 20million dollars...   \n",
       "7  Father of missing boy admits checkered past; w...   \n",
       "8  #WarOnDrugs RT @CNN: On Jan 1, Colorado will b...   \n",
       "9  A Civil Servant in Mexico Tests U.S. on Asylum...   \n",
       "\n",
       "   public_metricsretweet_count  public_metricsreply_count  \\\n",
       "0                         11.0                        0.0   \n",
       "1                          0.0                        0.0   \n",
       "2                          0.0                        0.0   \n",
       "3                          0.0                        0.0   \n",
       "4                          0.0                        0.0   \n",
       "5                          0.0                        0.0   \n",
       "6                          0.0                        0.0   \n",
       "7                          0.0                        0.0   \n",
       "8                          0.0                        0.0   \n",
       "9                          0.0                        0.0   \n",
       "\n",
       "   public_metricslike_count  public_metricsquote_count  ...              id.1  \\\n",
       "0                       0.0                        0.0  ...  b046074b1030a44d   \n",
       "1                       0.0                        0.0  ...  ea0a61fa0c646676   \n",
       "2                       0.0                        0.0  ...  b49b3053b5c25bf5   \n",
       "3                       0.0                        0.0  ...  2468025af2bcc4cb   \n",
       "4                       1.0                        0.0  ...  e4a0d228eb6be76b   \n",
       "5                       0.0                        0.0  ...  fef01a8cb0eacb64   \n",
       "6                       0.0                        0.0  ...  1b107df3ccc0aaa1   \n",
       "7                       0.0                        0.0  ...  2641d0d645fad2ab   \n",
       "8                       0.0                        0.0  ...  13f1b1eadfb47f9b   \n",
       "9                       0.0                        0.0  ...  4ec01c9dbc693497   \n",
       "\n",
       "   geotype                                           geobbox country_code  \\\n",
       "0  Feature   [-74.107995, 40.666879, -74.0253309, 40.769124]           US   \n",
       "1  Feature    [3.9418364, 51.8421131, 4.6013785, 52.0068016]           NL   \n",
       "2  Feature  [-105.109815, 39.614151, -104.734372, 39.812975]           US   \n",
       "3  Feature  [-114.993892, 50.309675, -113.375347, 51.940658]           CA   \n",
       "4  Feature     [-75.280284, 39.871811, -74.955712, 40.13792]           US   \n",
       "5  Feature    [-81.628444, 40.995137, -81.405059, 41.166618]           US   \n",
       "6  Feature    [-73.991482, -33.7510506, -32.378186, 5.27192]           BR   \n",
       "7  Feature       [-0.15191, 51.410792, -0.078902, 51.509887]           GB   \n",
       "8  Feature     [-71.178586, 42.29466, -71.105725, 42.351818]           US   \n",
       "9  Feature    [-87.634643, 24.396308, -79.974307, 31.001056]           US   \n",
       "\n",
       "                    full_name          country     newest_id     oldest_id  \\\n",
       "0             Jersey City, NJ    United States  4.174290e+17  4.134530e+17   \n",
       "1  Rotterdam, The Netherlands  The Netherlands  4.134520e+17  4.106310e+17   \n",
       "2                  Denver, CO    United States  4.106270e+17  4.083510e+17   \n",
       "3    Division No.  6, Alberta           Canada  4.083500e+17  4.072140e+17   \n",
       "4            Philadelphia, PA    United States  4.072120e+17  4.048460e+17   \n",
       "5                   Akron, OH    United States  4.048150e+17  4.024420e+17   \n",
       "6                      Brazil           Brazil  4.024320e+17  4.008970e+17   \n",
       "7            Lambeth, England   United Kingdom  4.008930e+17  4.004000e+17   \n",
       "8               Brookline, MA    United States  4.004000e+17  3.992160e+17   \n",
       "9                Florida, USA    United States  3.992150e+17  3.977810e+17   \n",
       "\n",
       "  result_count                                    next_token  \n",
       "0        500.0  1jzu9lk96gu5npw15vg9msz0xn5d8bt0tp9fg88gal4t  \n",
       "1        494.0  1jzu9lk96gu5npw15vf0a7zy0wvyixygxxkr7ge7l75p  \n",
       "2        499.0  1jzu9lk96gu5npw15silgorbm61ya0m6jzaxeb7itta5  \n",
       "3        494.0  1jzu9lk96gu5npw15si68ww825furuhnemsedj6hilx9  \n",
       "4        497.0  1jzu9lk96gu5npw15sgx4wbt853rxphz16x5geh0n2wt  \n",
       "5        497.0  1jzu9lk96gu5npw15sg2l5j7plkflwucix9vp4gvgs59  \n",
       "6        500.0  1jzu9lk96gu5npw15sf8ii264zgt64k2yqqlz1yo24cd  \n",
       "7        500.0  1jzu9lk96gu5npw15sf87ufij9xejdtdxqkdnrqdxmyl  \n",
       "8        495.0  1jzu9lk96gu5npw0l92nrxbxgfwno56qky1d0bp3dhtp  \n",
       "9        490.0  1jzu9lk96gu5npw0l91trf65fm1rfpam4kftdzfu7fy5  \n",
       "\n",
       "[10 rows x 25 columns]"
      ]
     },
     "execution_count": 2,
     "metadata": {},
     "output_type": "execute_result"
    }
   ],
   "source": [
    "# Import the original dataset that contains RAW/ UNCLEANED data.\n",
    "df_raw = pd.read_csv(r\"C:\\Users\\visha\\OneDrive\\Desktop\\NLP\\Final project\\processed data\\OriginalDS.csv\")\n",
    "df_raw.head(10)"
   ]
  },
  {
   "cell_type": "code",
   "execution_count": 8,
   "metadata": {},
   "outputs": [
    {
     "data": {
      "image/png": "[encoded data removed]",
      "text/plain": [
       "<Figure size 432x288 with 1 Axes>"
      ]
     },
     "metadata": {
      "needs_background": "light"
     },
     "output_type": "display_data"
    }
   ],
   "source": [
    "# Number of characters in each sentences.\n",
    "fig, ax = plots.subplots()\n",
    "df_raw[\"text\"].str.len().hist(bins =30);\n",
    "plots.grid(visible = None)\n",
    "plots.xlabel(\"Length of characters in a sentence\", labelpad = 15)\n",
    "plots.ylabel(\"Number of sentences in data\", labelpad = 15)\n",
    "ax.set_xlim([0,400])\n",
    "ax.set_title(\"Explore number of characters in each sentence\");"
   ]
  },
  {
   "cell_type": "code",
   "execution_count": 9,
   "metadata": {},
   "outputs": [
    {
     "data": {
      "image/png": "[encoded data removed]",
      "text/plain": [
       "<Figure size 432x288 with 1 Axes>"
      ]
     },
     "metadata": {
      "needs_background": "light"
     },
     "output_type": "display_data"
    }
   ],
   "source": [
    "# Number of words in each tweet.\n",
    "df_raw['totalwords'] = df_raw['text'].str.count(' ') + 1 # COunt spaces and add 1 to it.\n",
    "\n",
    "fig, ax = plots.subplots();\n",
    "df_raw['totalwords'].hist(bins = 30);\n",
    "plots.grid(visible = None)\n",
    "plots.xlabel(\"Number of words in a sentence\", labelpad = 15)\n",
    "plots.ylabel(\"Number of such sentences in the data\", labelpad = 15)\n",
    "ax.set_xlim([0,60])\n",
    "ax.set_title(\"Explore number of words in each sentence\");"
   ]
  },
  {
   "cell_type": "code",
   "execution_count": 10,
   "metadata": {},
   "outputs": [],
   "source": [
    "df_raw = df_raw[df_raw[\"text\"].notna()]"
   ]
  },
  {
   "cell_type": "code",
   "execution_count": 11,
   "metadata": {},
   "outputs": [
    {
     "data": {
      "image/png": "[encoded data removed]",
      "text/plain": [
       "<Figure size 432x288 with 1 Axes>"
      ]
     },
     "metadata": {
      "needs_background": "light"
     },
     "output_type": "display_data"
    }
   ],
   "source": [
    "import numpy as np\n",
    "\n",
    "def plot_word_length_histogram(text):\n",
    "    text.str.split().\\\n",
    "        apply(lambda x : [len(i) for i in x]). \\\n",
    "        map(lambda x: np.mean(x)).\\\n",
    "        hist(bins = 40)\n",
    "\n",
    "fig, ax = plots.subplots();\n",
    "plot_word_length_histogram(df_raw['text'])\n",
    "plots.grid(visible = None)\n",
    "plots.xlabel(\"Average words in a sentence\", labelpad = 15)\n",
    "plots.ylabel(\"Number of such sentences in the data\", labelpad = 15)\n",
    "ax.set_xlim([0,30])\n",
    "ax.set_title(\"Average number of words in each sentence\");"
   ]
  },
  {
   "cell_type": "code",
   "execution_count": 12,
   "metadata": {},
   "outputs": [],
   "source": [
    "# Count occurence of stop words.\n",
    "import matplotlib.pyplot as plots\n",
    "import numpy as np\n",
    "from nltk.corpus import stopwords\n",
    "\n",
    "def plot_top_stopwords_barchart(text):\n",
    "    stop=set(stopwords.words('english'))\n",
    "    \n",
    "    new= text.str.split()\n",
    "    new=new.values.tolist()\n",
    "    corpus=[word for i in new for word in i]\n",
    "    from collections import defaultdict\n",
    "    dic=defaultdict(int)\n",
    "    for word in corpus:\n",
    "        if word in stop:\n",
    "            dic[word]+=1\n",
    "            \n",
    "    top=sorted(dic.items(), key=lambda x:x[1],reverse=True)[:15] \n",
    "    x,y=zip(*top)\n",
    "    plots.bar(x,y)"
   ]
  },
  {
   "cell_type": "code",
   "execution_count": 13,
   "metadata": {},
   "outputs": [
    {
     "data": {
      "image/png": "[encoded data removed]",
      "text/plain": [
       "<Figure size 432x288 with 1 Axes>"
      ]
     },
     "metadata": {
      "needs_background": "light"
     },
     "output_type": "display_data"
    }
   ],
   "source": [
    "fig, ax = plots.subplots();\n",
    "plot_top_stopwords_barchart(df_raw['text'])\n",
    "plots.xlabel(\"Stopwords\", labelpad = 15);\n",
    "plots.ylabel(\"Number of such stopwords in data\", labelpad = 15);\n",
    "ax.set_title(\"Stopwords count\");"
   ]
  },
  {
   "cell_type": "code",
   "execution_count": 14,
   "metadata": {},
   "outputs": [],
   "source": [
    "# Import clean data\n",
    "df_clean = pd.read_csv(r\"C:\\Users\\visha\\OneDrive\\Desktop\\NLP\\Final project\\processed data\\Final.csv\")\n",
    "df_clean.head(10)\n",
    "df_clean = df_clean[df_clean[\"CleanedTweet\"].notna()]"
   ]
  },
  {
   "cell_type": "code",
   "execution_count": 15,
   "metadata": {},
   "outputs": [],
   "source": [
    "import seaborn as sns\n",
    "from nltk.corpus import stopwords\n",
    "from collections import  Counter\n",
    "\n",
    "def plot_top_non_stopwords_barchart(text):\n",
    "    stop=set(stopwords.words('english'))\n",
    "    \n",
    "    new= text.str.split()\n",
    "    new=new.values.tolist()\n",
    "    corpus=[word for i in new for word in i]\n",
    "\n",
    "    counter=Counter(corpus)\n",
    "    most=counter.most_common()\n",
    "    x, y=[], []\n",
    "    for word,count in most[:28]:\n",
    "        if (word not in stop):\n",
    "            x.append(word)\n",
    "            y.append(count)\n",
    "            \n",
    "    sns.barplot(x=y,y=x)"
   ]
  },
  {
   "cell_type": "code",
   "execution_count": 16,
   "metadata": {},
   "outputs": [
    {
     "data": {
      "image/png": "[encoded data removed]",
      "text/plain": [
       "<Figure size 432x288 with 1 Axes>"
      ]
     },
     "metadata": {
      "needs_background": "light"
     },
     "output_type": "display_data"
    }
   ],
   "source": [
    "fig, ax = plots.subplots();\n",
    "plot_top_non_stopwords_barchart(df_clean[\"CleanedTweet\"]);\n",
    "plots.xlabel(\"Frequency of words\", labelpad = 15);\n",
    "plots.ylabel(\"words\");\n",
    "ax.set_title(\"Most common words in cleaned data\");"
   ]
  },
  {
   "cell_type": "code",
   "execution_count": 76,
   "metadata": {},
   "outputs": [],
   "source": [
    "from sklearn.feature_extraction.text import CountVectorizer\n",
    "from collections import  Counter\n",
    "\n",
    "def plot_top_ngrams_barchart(text, n=2):\n",
    "    stop=set(stopwords.words('english'))\n",
    "\n",
    "    new= text.str.split()\n",
    "    new=new.values.tolist()\n",
    "    corpus=[word for i in new for word in i]\n",
    "\n",
    "    def _get_top_ngram(corpus, n=None):\n",
    "        vec = CountVectorizer(ngram_range=(n, n)).fit(corpus)\n",
    "        bag_of_words = vec.transform(corpus)\n",
    "        sum_words = bag_of_words.sum(axis=0) \n",
    "        words_freq = [(word, sum_words[0, idx]) \n",
    "                      for word, idx in vec.vocabulary_.items()]\n",
    "        words_freq =sorted(words_freq, key = lambda x: x[1], reverse=True)\n",
    "        return words_freq[:10]\n",
    "\n",
    "    top_n_bigrams=_get_top_ngram(text,n)[:18]\n",
    "    x,y=map(list,zip(*top_n_bigrams))\n",
    "    sns.barplot(x=y,y=x)"
   ]
  },
  {
   "cell_type": "code",
   "execution_count": 77,
   "metadata": {},
   "outputs": [
    {
     "data": {
      "image/png": "[encoded data removed]",
      "text/plain": [
       "<Figure size 432x288 with 1 Axes>"
      ]
     },
     "metadata": {
      "needs_background": "light"
     },
     "output_type": "display_data"
    }
   ],
   "source": [
    "fig, ax = plots.subplots();\n",
    "plot_top_ngrams_barchart(df_clean[\"CleanedTweet\"],2)\n",
    "plots.xlabel(\"Number of repetitions\", labelpad = 15);\n",
    "plots.ylabel(\"Top Bigrams\", labelpad = 10);\n",
    "ax.set_title(\"Most common bigrams in cleaned data\");"
   ]
  },
  {
   "cell_type": "code",
   "execution_count": 78,
   "metadata": {},
   "outputs": [
    {
     "data": {
      "image/png": "[encoded data removed]",
      "text/plain": [
       "<Figure size 432x288 with 1 Axes>"
      ]
     },
     "metadata": {
      "needs_background": "light"
     },
     "output_type": "display_data"
    }
   ],
   "source": [
    "fig, ax = plots.subplots();\n",
    "plot_top_ngrams_barchart(df_clean[\"CleanedTweet\"],3)\n",
    "plots.xlabel(\"Number of repetitions\", labelpad = 15);\n",
    "plots.ylabel(\"Top Trigrams\", labelpad = 10);\n",
    "ax.set_title(\"Most common Trigrams in cleaned data\");"
   ]
  },
  {
   "cell_type": "code",
   "execution_count": null,
   "metadata": {},
   "outputs": [],
   "source": []
  }
 ],
 "metadata": {
  "kernelspec": {
   "display_name": "Python 3",
   "language": "python",
   "name": "python3"
  },
  "language_info": {
   "codemirror_mode": {
    "name": "ipython",
    "version": 3
   },
   "file_extension": ".py",
   "mimetype": "text/x-python",
   "name": "python",
   "nbconvert_exporter": "python",
   "pygments_lexer": "ipython3",
   "version": "3.8.3"
  }
 },
 "nbformat": 4,
 "nbformat_minor": 4
}
