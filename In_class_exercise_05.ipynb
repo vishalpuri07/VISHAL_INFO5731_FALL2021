{
  "nbformat": 4,
  "nbformat_minor": 0,
  "metadata": {
    "kernelspec": {
      "display_name": "Python 3",
      "language": "python",
      "name": "python3"
    },
    "language_info": {
      "codemirror_mode": {
        "name": "ipython",
        "version": 3
      },
      "file_extension": ".py",
      "mimetype": "text/x-python",
      "name": "python",
      "nbconvert_exporter": "python",
      "pygments_lexer": "ipython3",
      "version": "3.8.5"
    },
    "colab": {
      "name": "In_class_exercise_05_1 (1).ipynb",
      "provenance": [],
      "collapsed_sections": [
        "LPsCVrhId1ec",
        "zd_x7ZA0hU87",
        "O0KenJL9jVSI"
      ],
      "include_colab_link": true
    }
  },
  "cells": [
    {
      "cell_type": "markdown",
      "metadata": {
        "id": "view-in-github",
        "colab_type": "text"
      },
      "source": [
        "<a href=\"https://colab.research.google.com/github/vishalpuri07/VISHAL_INFO5731_FALL2021/blob/main/In_class_exercise_05.ipynb\" target=\"_parent\"><img src=\"https://colab.research.google.com/assets/colab-badge.svg\" alt=\"Open In Colab\"/></a>"
      ]
    },
    {
      "cell_type": "markdown",
      "metadata": {
        "id": "7cTwX-dPShsb"
      },
      "source": [
        "# **The fifth in-class-exercise (40 points in total, 11/11/2021)**"
      ]
    },
    {
      "cell_type": "markdown",
      "metadata": {
        "id": "J4zvHOGtShsk"
      },
      "source": [
        "(20 points) The purpose of the question is to practice different machine learning algorithms for text classification as well as the performance evaluation. In addition, you are requried to conduct *10 fold cross validation (https://scikit-learn.org/stable/modules/cross_validation.html)* in the training. \n",
        "\n",
        "The dataset can be download from here: https://github.com/unt-iialab/info5731_spring2021/blob/main/class_exercises/exercise09_datacollection.zip. The dataset contains two files train data and test data for sentiment analysis in IMDB review, it has two categories: 1 represents positive and 0 represents negative. You need to split the training data into training and validate data (80% for training and 20% for validation, https://towardsdatascience.com/train-test-split-and-cross-validation-in-python-80b61beca4b6) and perform 10 fold cross validation while training the classifier. The final trained model was final evaluated on the test data. \n",
        "\n",
        "Algorithms:\n",
        "\n",
        "(1) MultinominalNB\n",
        "\n",
        "(2) SVM \n",
        "\n",
        "(3) KNN \n",
        "\n",
        "(4) Decision tree\n",
        "\n",
        "(5) Random Forest\n",
        "\n",
        "(6) XGBoost\n",
        "\n",
        "Evaluation measurement:\n",
        "\n",
        "(1) Accuracy\n",
        "\n",
        "(2) Recall\n",
        "\n",
        "(3) Precison \n",
        "\n",
        "(4) F-1 score"
      ]
    },
    {
      "cell_type": "code",
      "metadata": {
        "colab": {
          "resources": {
            "http://localhost:8080/nbextensions/google.colab/files.js": {
              "data": "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",
              "ok": true,
              "headers": [
                [
                  "content-type",
                  "application/javascript"
                ]
              ],
              "status": 200,
              "status_text": ""
            }
          },
          "base_uri": "https://localhost:8080/",
          "height": 72
        },
        "id": "o9EMe-aUShsm",
        "outputId": "f7c5c40e-6871-4e4a-bb9d-30f75505d2c9"
      },
      "source": [
        "# Import necessary Libraries\n",
        "import pandas as pd\n",
        "\n",
        "\n",
        "# Import the training and testing dataset and convert it to dataframe for easy data cleaning.\n",
        "from google.colab import files\n",
        "uploaded = files.upload()"
      ],
      "execution_count": 1,
      "outputs": [
        {
          "output_type": "display_data",
          "data": {
            "text/html": [
              "\n",
              "     <input type=\"file\" id=\"files-de1e8e09-76d8-45d8-ba67-b82e9518c15c\" name=\"files[]\" multiple disabled\n",
              "        style=\"border:none\" />\n",
              "     <output id=\"result-de1e8e09-76d8-45d8-ba67-b82e9518c15c\">\n",
              "      Upload widget is only available when the cell has been executed in the\n",
              "      current browser session. Please rerun this cell to enable.\n",
              "      </output>\n",
              "      <script src=\"/nbextensions/google.colab/files.js\"></script> "
            ],
            "text/plain": [
              "<IPython.core.display.HTML object>"
            ]
          },
          "metadata": {}
        },
        {
          "output_type": "stream",
          "name": "stdout",
          "text": [
            "Saving stsa-train.txt to stsa-train.txt\n"
          ]
        }
      ]
    },
    {
      "cell_type": "code",
      "metadata": {
        "colab": {
          "resources": {
            "http://localhost:8080/nbextensions/google.colab/files.js": {
              "data": "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",
              "ok": true,
              "headers": [
                [
                  "content-type",
                  "application/javascript"
                ]
              ],
              "status": 200,
              "status_text": ""
            }
          },
          "base_uri": "https://localhost:8080/",
          "height": 72
        },
        "id": "KKJ6pOCra8dp",
        "outputId": "9daae950-c63a-4ed7-ddca-641457626263"
      },
      "source": [
        "from google.colab import files # for test data\n",
        "uploaded = files.upload()"
      ],
      "execution_count": 2,
      "outputs": [
        {
          "output_type": "display_data",
          "data": {
            "text/html": [
              "\n",
              "     <input type=\"file\" id=\"files-d070b514-0748-445e-ac88-e609bfeb7307\" name=\"files[]\" multiple disabled\n",
              "        style=\"border:none\" />\n",
              "     <output id=\"result-d070b514-0748-445e-ac88-e609bfeb7307\">\n",
              "      Upload widget is only available when the cell has been executed in the\n",
              "      current browser session. Please rerun this cell to enable.\n",
              "      </output>\n",
              "      <script src=\"/nbextensions/google.colab/files.js\"></script> "
            ],
            "text/plain": [
              "<IPython.core.display.HTML object>"
            ]
          },
          "metadata": {}
        },
        {
          "output_type": "stream",
          "name": "stdout",
          "text": [
            "Saving stsa-test.txt to stsa-test.txt\n"
          ]
        }
      ]
    },
    {
      "cell_type": "code",
      "metadata": {
        "id": "Vj-DNmd4BgVy"
      },
      "source": [
        "import warnings # Ignore all the warning for better reading.\n",
        "warnings.filterwarnings('ignore')"
      ],
      "execution_count": 4,
      "outputs": []
    },
    {
      "cell_type": "code",
      "metadata": {
        "id": "VbtHuCn7bLAK"
      },
      "source": [
        "training_data = open(\"stsa-train.txt\").read() \n",
        "testing_data = open(\"stsa-test.txt\").read()"
      ],
      "execution_count": 5,
      "outputs": []
    },
    {
      "cell_type": "code",
      "metadata": {
        "colab": {
          "base_uri": "https://localhost:8080/",
          "height": 103
        },
        "id": "PhI3Gi9TbXha",
        "outputId": "15050a70-a2ed-4a3c-8d5a-ad6acd2c4c6f"
      },
      "source": [
        "testing_data # quick check. Print one of the data. To see the formatting and clean it accordingly."
      ],
      "execution_count": 6,
      "outputs": [
        {
          "output_type": "execute_result",
          "data": {
            "application/vnd.google.colaboratory.intrinsic+json": {
              "type": "string"
            },
            "text/plain": [
              "\"0 no movement , no yuks , not much of anything .\\n0 a gob of drivel so sickly sweet , even the eager consumers of moore 's pasteurized ditties will retch it up like rancid crème brûlée .\\n0 gangs of new york is an unapologetic mess , whose only saving grace is that it ends by blowing just about everything up .\\n0 we never really feel involved with the story , as all of its ideas remain just that : abstract ideas .\\n1 this is one of polanski 's best films .\\n1 take care of my cat offers a refreshingly different slice of asian cinema .\\n0 acting , particularly by tambor , almost makes `` never again '' worthwhile , but -lrb- writer\\\\/director -rrb- schaeffer should follow his titular advice\\n1 the movie exists for its soccer action and its fine acting .\\n0 arnold 's jump from little screen to big will leave frowns on more than a few faces .\\n0 if this holiday movie is supposed to be a gift , somebody unwrapped it early , took out all the good stuff , and left behind the crap -lrb- literally -rrb- .\\n1 jason x has cheesy effects and a hoary plot , but its macabre , self-deprecating sense of humor makes up for a lot .\\n0 even as lame horror flicks go , this is lame .\\n0 oft-described as the antidote to american pie-type sex comedies , it actually has a bundle in common with them , as the film diffuses every opportunity for a breakthrough\\n1 though the violence is far less sadistic than usual , the film is typical miike : fast , furious and full of off-the-cuff imaginative flourishes .\\n0 when a set of pre-shooting guidelines a director came up with for his actors turns out to be cleverer , better written and of considerable more interest than the finished film , that 's a bad sign .\\n1 the passions aroused by the discord between old and new cultures are set against the strange , stark beauty of the mideast desert , so lovingly and perceptively filmed that you can almost taste the desiccated air .\\n1 if your senses have n't been dulled by slasher films and gorefests , if you 're a connoisseur of psychological horror , this is your ticket .\\n0 any one episode of the sopranos would send this ill-conceived folly to sleep with the fishes .\\n0 as conceived by mr. schaeffer , christopher and grace are little more than collections of quirky traits lifted from a screenwriter 's outline and thrown at actors charged with the impossible task of making them jell .\\n0 those who managed to avoid the deconstructionist theorizing of french philosopher jacques derrida in college can now take an 85-minute brush-up course with the documentary derrida .\\n1 most new movies have a bright sheen .\\n0 but what saves lives on the freeway does not necessarily make for persuasive viewing .\\n1 steve irwin 's method is ernest hemmingway at accelerated speed and volume .\\n1 nicely serves as an examination of a society in transition .\\n0 the film would work much better as a video installation in a museum , where viewers would be free to leave .\\n0 culkin exudes none of the charm or charisma that might keep a more general audience even vaguely interested in his bratty character .\\n0 the whole thing plays out with the drowsy heaviness of synchronized swimmer wearing a wool wetsuit .\\n1 not a cozy or ingratiating work , but it 's challenging , sometimes clever , and always interesting , and those are reasons enough to see it .\\n0 the premise for this kegger comedy probably sounded brilliant four six-packs and a pitcher of margaritas in , but the film must have been written ... in the thrall of a vicious hangover .\\n1 it 's a pleasure to see seinfeld griping about the biz with buddies chris rock , garry shandling and colin quinn .\\n1 finally , a genre movie that delivers -- in a couple of genres , no less .\\n0 the low-budget full frontal was one of the year 's murkiest , intentionally obscure and self-indulgent pictures , and solaris is its big-budget brother .\\n1 exquisitely acted and masterfully if preciously interwoven ... -lrb- the film -rrb- addresses in a fascinating , intelligent manner the intermingling of race , politics and local commerce .\\n1 an enthralling , playful film that constantly frustrates our desire to know the ` truth ' about this man , while deconstructing the very format of the biography in a manner that derrida would doubtless give his blessing to .\\n1 as a singular character study , it 's perfect .\\n1 haneke challenges us to confront the reality of sexual aberration .\\n1 an experience so engrossing it is like being buried in a new environment .\\n1 all the performances are top notch and , once you get through the accents , all or nothing becomes an emotional , though still positive , wrench of a sit .\\n1 a cockamamie tone poem pitched precipitously between swoony lyricism and violent catastrophe ... the most aggressively nerve-wracking and screamingly neurotic romantic comedy in cinema history .\\n0 i do n't have an i am sam clue .\\n1 zhang yimou delivers warm , genuine characters who lie not through dishonesty , but because they genuinely believe it 's the only way to bring happiness to their loved ones .\\n1 the pleasures of super troopers may be fleeting , but they 'll register strongly with anybody who still retains a soft spot for precollegiate humor .\\n0 the thrill is -lrb- long -rrb- gone .\\n1 much monkeyfun for all .\\n0 a dreary , incoherent , self-indulgent mess of a movie in which a bunch of pompous windbags drone on inanely for two hours ... a cacophony of pretentious , meaningless prattle .\\n1 much of the way , though , this is a refreshingly novel ride .\\n1 for the first time in several years , mr. allen has surpassed himself with the magic he 's spun with the hollywood empress of ms. leoni 's ellie .\\n1 one scarcely needs the subtitles to enjoy this colorful action farce .\\n0 as it abruptly crosscuts among the five friends , it fails to lend the characters ' individual stories enough dramatic resonance to make us care about them .\\n1 what might have been a predictably heartwarming tale is suffused with complexity .\\n0 with generic sets and b-grade special effects , jason is about as convincing on the sci-fi front as tv 's defunct cleopatra 2525 .\\n1 this is simply the most fun you 'll ever have with a documentary !\\n1 it represents better-than-average movie-making that does n't demand a dumb , distracted audience .\\n0 ... the sum of the parts equals largely a confused mediocrity .\\n0 it may be an easy swipe to take , but this barbershop just does n't make the cut .\\n1 the fact that the rookie is a nearly impeccable cinematic experience -- and a wonderful all-ages triumph besides -- is a miracle akin to the story the film portrays .\\n0 how on earth , or anywhere else , did director ron underwood manage to blow $ 100 million on this ?\\n1 for all its failed connections , divine secrets of the ya-ya sisterhood is nurturing , in a gauzy , dithering way .\\n0 as are its star , its attitude and its obliviousness .\\n0 sluggishly directed by episodic tv veteran joe zwick , it 's a sitcom without the snap-crackle .\\n1 a dream cast of solid female talent who build a seamless ensemble .\\n0 the plot is straight off the shelf , the performances are television - caliber and the message of providing solace through deception is a little creepy .\\n0 instead of accurately accounting a terrible true story , the film 's more determined to become the next texas chainsaw massacre .\\n1 the movie is well shot and very tragic , and one to ponder after the credits roll .\\n1 it is ridiculous , of course ... but it is also refreshing , disarming , and just outright enjoyable despite its ridiculousness .\\n1 everything you loved about it in 1982 is still there , for everybody who wants to be a kid again , or show it to their own kids .\\n1 tadpole is a sophisticated , funny and good-natured treat , slight but a pleasure .\\n0 a turgid little history lesson , humourless and dull .\\n0 the cartoon that is n't really good enough to be on afternoon tv is now a movie that is n't really good enough to be in theaters .\\n1 a sensual performance from abbass buoys the flimsy story , but her inner journey is largely unexplored and we 're left wondering about this exotic-looking woman whose emotional depths are only hinted at .\\n1 a harmless and mildly amusing family comedy .\\n0 not ` terrible filmmaking ' bad , but more like , ' i once had a nightmare like this , and it 's now coming true ' bad .\\n0 a movie that , rather than skip along the seine , more or less slogs its way through soggy paris , tongue uncomfortably in cheek .\\n1 it does succeed by following a feel-good formula with a winning style , and by offering its target audience of urban kids some welcome role models and optimism .\\n1 -lrb- schweiger is -rrb- talented and terribly charismatic , qualities essential to both movie stars and social anarchists .\\n0 a well acted and well intentioned snoozer .\\n1 serry does a fine job of capturing the climate of the times and , perhaps unwittingly , relating it to what is happening in america in 2002 .\\n0 for all its alleged youthful fire , xxx is no less subservient to bond 's tired formula of guns , girls and gadgets while brandishing a new action hero .\\n1 this cuddly sequel to the 1999 hit is a little more visually polished , a little funnier , and a little more madcap .\\n0 now it 's just tired .\\n0 not so much a movie as a picture book for the big screen .\\n0 it 's difficult to say whether the tuxedo is more boring or embarrassing -- i 'm prepared to call it a draw .\\n0 about as satisfying and predictable as the fare at your local drive through .\\n0 the movie succumbs to being nothing more than a formulaic chase in the dark .\\n1 as lo-fi as the special effects are , the folks who cobbled nemesis together indulge the force of humanity over hardware in a way that george lucas has long forgotten .\\n1 writer-director burger imaginatively fans the embers of a dormant national grief and curiosity that has calcified into chronic cynicism and fear .\\n0 truth to tell , if you 've seen more than half-a-dozen horror films , there 's nothing here you have n't seen before .\\n0 george , hire a real director and good writers for the next installment , please .\\n0 all these developments and challenges facing santa weigh down the plot so heavily that they drain all the film of its energy and needlessly strain credibility .\\n0 it 's so full of wrong choices that all you can do is shake your head in disbelief -- and worry about what classic oliver parker intends to mangle next time .\\n1 the film runs on equal parts of innocence and wisdom -- wisdom that comes with experience .\\n1 goyer 's screenplay and direction are thankfully understated , and he has drawn excellent performances from his cast .\\n1 reinforces the often forgotten fact of the world 's remarkably varying human population and mindset , and its capacity to heal using creative , natural and ancient antidotes .\\n0 abandons all pretense of creating historical context and waltzes off into a hectic soap about the ups and downs of the heavy breathing between the two artists .\\n1 if it tried to do anything more , it would fail and perhaps explode , but at this level of manic whimsy , it is just about right .\\n1 scores a few points for doing what it does with a dedicated and good-hearted professionalism .\\n0 director dirk shafer and co-writer greg hinton ride the dubious divide where gay porn reaches for serious drama .\\n0 without a strong script and energetic acting , dogma films can produce the same sleep-inducing effects as watching your neighbor 's home videos .\\n0 a frantic search for laughs , with a hit-to-miss ratio that does n't exactly favour the audience .\\n0 de niro may enjoy the same free ride from critics afforded to clint eastwood in the lazy bloodwork .\\n1 an intelligent fiction about learning through cultural clash .\\n1 greengrass has delivered an undoubted stylistic tour-de-force , and has managed elements such as sound and cinematography with skill\\n0 there 's something fundamental missing from this story : something or someone to care about .\\n1 at heart the movie is a deftly wrought suspense yarn whose richer shadings work as coloring rather than substance .\\n1 sometimes , nothing satisfies like old-fashioned swashbuckling .\\n0 enough similarities to gymkata and howie long 's firestorm that my fingernails instinctively crawled towards my long-suffering eyeballs .\\n1 despite what anyone believes about the goal of its makers , the show ... represents a spectacular piece of theater , and there 's no denying the talent of the creative forces behind it .\\n1 here 's a british flick gleefully unconcerned with plausibility , yet just as determined to entertain you .\\n1 a well-made and often lovely depiction of the mysteries of friendship .\\n0 if i spy were funny -lrb- enough -rrb- or exciting -lrb- enough -rrb- then it would be fairly simple to forgive the financial extortion it 's trying to reap from the moviegoing public .\\n0 a great ending does n't make up for a weak movie , and crazy as hell does n't even have a great ending .\\n0 demands too much of most viewers .\\n1 rare is the ` urban comedy ' that even attempts the insight and honesty of this disarming indie .\\n0 its lack of quality earns it a place alongside those other two recent dumas botch-jobs , the man in the iron mask and the musketeer .\\n1 a deviant topical comedy which is funny from start to finish .\\n0 arguably the year 's silliest and most incoherent movie .\\n0 the movie quickly drags on becoming boring and predictable .\\n1 while not as aggressively impressive as its american counterpart , `` in the bedroom , '' moretti 's film makes its own , quieter observations\\n0 imagine if you will a tony hawk skating video interspliced with footage from behind enemy lines and set to jersey shore techno .\\n1 a refreshingly authentic coming-of-age tale .\\n1 the smartest bonehead comedy of the summer .\\n1 u.s. audiences may find -lrb- attal and gainsbourg 's -rrb- unfamiliar personas give the film an intimate and quaint reality that is a little closer to human nature than what hollywood typically concocts .\\n1 escapism in its purest form .\\n1 the cast is uniformly excellent and relaxed .\\n1 works because , for the most part , it avoids the stupid cliches and formulaic potholes that befall its brethren .\\n0 sucking all the ` classic ' out of robert louis stevenson 's treasure island and filling the void with sci-fi video game graphics and disney-fied adolescent angst ...\\n0 audiences conditioned to getting weepy over saucer-eyed , downy-cheeked moppets and their empathetic caretakers will probably feel emotionally cheated by the film 's tart , sugar-free wit .\\n1 despite some gulps the film is a fuzzy huggy .\\n0 nothing debases a concept comedy quite like the grinding of bad ideas , and showtime is crammed full of them .\\n1 it 's an example of sophisticated , challenging filmmaking that stands , despite its noticeable lack of emotional heft , in welcome contrast to the indulgent dead-end experimentation of the director 's previous full frontal .\\n0 even if britney spears is really cute , her movie is really bad .\\n0 the backyard battles you staged with your green plastic army men were more exciting and almost certainly made more sense .\\n0 the ring just left me cold and wet like i was out in the seattle drizzle without rainwear .\\n0 the plot is very clever , but boyd weighs it down with too many characters and events , all intertwined and far too complicated to keep track of .\\n1 it 's one of the saddest films i have ever seen that still manages to be uplifting but not overly sentimental .\\n0 it 's all pretty cynical and condescending , too .\\n1 it takes this never-ending confusion and hatred , puts a human face on it , evokes shame among all who are party to it and even promotes understanding .\\n0 barely goes beyond comic book status .\\n1 even if you ca n't pronounce `` gyro '' correctly , you 'll appreciate much of vardalos ' humor , which transcends ethnic boundaries .\\n0 borrows from so many literary and cinematic sources that this future world feels absolutely deja vu .\\n1 once again , director jackson strikes a rewarding balance between emotion on the human scale and action\\\\/effects on the spectacular scale .\\n0 as adapted by kevin molony from simon leys ' novel `` the death of napoleon '' and directed by alan taylor , napoleon 's journey is interesting but his parisian rebirth is stillborn\\n1 not everything works , but the average is higher than in mary and most other recent comedies .\\n0 it smacks of purely commercial motivation , with no great love for the original .\\n1 a fairly by-the-books blend of action and romance with sprinklings of intentional and unintentional comedy .\\n0 a dreary rip-off of goodfellas that serves as a muddled and offensive cautionary tale for hispanic americans .\\n1 sits uneasily as a horror picture ... but finds surprising depth in its look at the binds of a small family .\\n0 lacking gravitas , macdowell is a placeholder for grief , and ergo this sloppy drama is an empty vessel .\\n1 an impressive debut for first-time writer-director mark romanek , especially considering his background is in music video .\\n0 it 's push-the-limits teen comedy , the type written by people who ca n't come up with legitimate funny , and it 's used so extensively that good bits are hopelessly overshadowed .\\n0 the story and characters are nowhere near gripping enough .\\n0 ridiculous .\\n0 no. .\\n1 if it seems like a minor miracle that its septuagenarian star is young enough to be the nonagenarian filmmaker 's son , more incredible still are the clear-eyed boldness and quiet irony with which actor and director take on life 's urgent questions .\\n0 a long-winded and stagy session of romantic contrivances that never really gels like the shrewd feminist fairy tale it could have been .\\n0 a film so tedious that it is impossible to care whether that boast is true or not .\\n1 and in this regard , on guard delivers .\\n1 something the true film buff will enjoy .\\n0 the result is solemn and horrifying , yet strangely detached .\\n1 a gentle , compassionate drama about grief and healing .\\n0 the story itself is uninteresting , and the songs are painfully undistinguished : they might be giants ' so to be one of us may be the most tuneless tune ever composed .\\n1 it 's the cinematic equivalent of a good page-turner , and even if it 's nonsense , its claws dig surprisingly deep .\\n1 the result is something quite fresh and delightful .\\n1 if you love motown music , you 'll love this documentary .\\n1 it 's solid and affecting and exactly as thought-provoking as it should be .\\n1 you have to pay attention to follow all the stories , but they 're each interesting .\\n1 -lrb- wendigo is -rrb- why we go to the cinema : to be fed through the eye , the heart , the mind .\\n1 lovingly choreographed bloodshed taking place in a pristine movie neverland , basically .\\n1 a thoughtful , moving piece that faces difficult issues with honesty and beauty .\\n0 for a film about two mismatched buddies , crystal and de niro share little screen time and even less chemistry .\\n0 spousal abuse is a major problem in contemporary society , but the film reduces this domestic tragedy to florid melodrama .\\n1 frida 's artistic brilliance is undeniable -- it 's among the most breathtakingly designed films i 've ever seen .\\n0 i hate this movie\\n0 not so much funny as aggressively sitcom-cute , it 's full of throwaway one-liners , not-quite jokes , and a determined tv amiability that allen personifies .\\n1 the film overcomes the regular minefield of coming-of-age cliches with potent doses of honesty and sensitivity .\\n1 like dickens with his passages , mcgrath crafts quite moving scenes throughout his resolutely dramatic variation on the novel .\\n1 city by the sea is the cinematic equivalent of defensive driving : it 's careful , conscientious and makes no major mistakes .\\n1 it 's both a necessary political work and a fascinating documentary ...\\n1 this insightful , oscar-nominated documentary , in which children on both sides of the ever-escalating conflict have their say away from watchful parental eyes , gives peace yet another chance .\\n0 this film is so slick , superficial and trend-hoppy , that it 's easy to imagine that a new software program spit out the screenplay .\\n0 too much of this well-acted but dangerously slow thriller feels like a preamble to a bigger , more complicated story , one that never materializes .\\n1 so young , so smart , such talent , such a wise \\\\*\\\\*\\\\* .\\n1 resourceful and ingenious entertainment .\\n0 ` enigma ' is a good name for a movie this delibrately obtuse and unapproachable .\\n1 rain is a small treasure , enveloping the viewer in a literal and spiritual torpor that is anything but cathartic .\\n1 this romantic thriller is steeped in the atmosphere of wartime england , and ably captures the speech patterns , moral codes and ideals of the 1940s .\\n0 reggio falls victim to relying on the very digital technology that he fervently scorns , creating a meandering , inarticulate and ultimately disappointing film .\\n1 a masterpiece four years in the making .\\n0 `` an entire film about researchers quietly reading dusty old letters . ''\\n1 in adobo , ethnicity is not just the spice , but at the heart of more universal concerns .\\n0 do we really need a 77-minute film to tell us exactly why a romantic relationship between a 15-year-old boy and a 40-year-old woman does n't work ?\\n0 this self-infatuated goofball is far from the only thing wrong with the clumsy comedy stealing harvard , but he 's the most obvious one .\\n1 the film often achieves a mesmerizing poetry .\\n1 a triumph , relentless and beautiful in its downbeat darkness .\\n0 the movie 's biggest offense is its complete and utter lack of tension .\\n1 digital-video documentary about stand-up comedians is a great glimpse into a very different world .\\n1 impresses you with its open-endedness and surprises .\\n0 the smug , oily demeanor that donovan adopts throughout the stupidly named pipe dream is just repulsive .\\n1 her delivery and timing are flawless .\\n0 if high crimes were any more generic it would have a universal product code instead of a title .\\n1 almost every scene in this film is a gem that could stand alone , a perfectly realized observation of mood , behavior and intent .\\n0 when it 's on dry land , though , this surfer-girl melodrama starts gasping like a beached grouper .\\n0 like a tone-deaf singer at a benefit concert , john q. is a bad movie appearing on behalf of a good cause .\\n0 boring we did n't .\\n1 a spunky , original take on a theme that will resonate with singles of many ages .\\n0 undercover brother does n't go far enough .\\n0 moot point .\\n0 let 's cut to the consumer-advice bottom line : stay home .\\n1 as green-guts monster movies go , it 's a beaut .\\n1 elling , portrayed with quiet fastidiousness by per christian ellefsen , is a truly singular character , one whose frailties are only slightly magnified versions of the ones that vex nearly everyone .\\n1 the movie is full of fine performances , led by josef bierbichler as brecht and monica bleibtreu as helene weigel , his wife .\\n1 münch 's genuine insight makes the film 's occasional overindulgence forgivable .\\n0 the sum of all fears is almost impossible to follow -- and there 's something cringe-inducing about seeing an american football stadium nuked as pop entertainment .\\n1 all but the most persnickety preteens should enjoy this nonthreatening but thrilling adventure .\\n0 the problem , it is with most of these things , is the script .\\n0 beyond a handful of mildly amusing lines ... there just is n't much to laugh at .\\n0 this miserable excuse of a movie runs on empty , believing flatbush machismo will get it through .\\n1 for the first two-thirds of this sparklingly inventive and artful , always fast and furious tale , kids will go happily along for the ride .\\n0 neither funny nor suspenseful nor particularly well-drawn .\\n0 a compendium of solondz 's own worst instincts in under 90 minutes .\\n0 all i can say is fuhgeddaboutit .\\n1 biggie and tupac is so single-mindedly daring , it puts far more polished documentaries to shame .\\n0 anyone who can count to five -lrb- the film 's target market ? -rrb-\\n0 warmed-over tarantino by way of wannabe elmore leonard .\\n1 an endearingly offbeat romantic comedy with a great meet-cute gimmick .\\n1 emerges as something rare , an issue movie that 's so honest and keenly observed that it does n't feel like one .\\n1 sharp , lively , funny and ultimately sobering film .\\n1 shainberg weaves a carefully balanced scenario that is controlled by neither character , is weirdly sympathetic to both and manages to be tender and darkly comic .\\n0 thirty years ago , it would have been groundbreaking .\\n0 it is a comedy that 's not very funny and an action movie that is not very thrilling -lrb- and an uneasy alliance , at that -rrb- .\\n0 unfortunately , as a writer , mr. montias is n't nearly as good to his crew as he is as a director or actor .\\n0 a long-winded , predictable scenario .\\n1 invincible is a wonderful movie .\\n1 earns its laughs from stock redneck ` types ' and from the many , many moments when we recognize even without the elizabethan prose , the play behind the thing .\\n1 a smart , sweet and playful romantic comedy .\\n1 a moody horror\\\\/thriller elevated by deft staging and the director 's well-known narrative gamesmanship .\\n0 a dreadful live-action movie .\\n1 s personal revelations regarding what the shop means in the big picture , iconic characters gambol fluidly through the story , with charming results .\\n1 for the most part , i spy was an amusing lark that will probably rank as one of murphy 's better performances in one of his lesser-praised movies .\\n1 though the controversial korean filmmaker 's latest effort is not for all tastes , it offers gorgeous imagery , effective performances , and an increasingly unsettling sense of foreboding .\\n1 well worth the time .\\n0 they felt like the same movie to me .\\n1 witty , touching and well paced .\\n0 i would have preferred a transfer down the hall to mr. holland 's class for the music , or to robin williams 's lecture so i could listen to a teacher with humor , passion , and verve .\\n1 this is the best american movie about troubled teens since 1998 's whatever .\\n0 absorbing and disturbing -- perhaps more disturbing than originally intended -- but a little clarity would have gone a long way .\\n1 good movie .\\n1 i whole-heartedly recommend that everyone see this movie -- for its historical significance alone .\\n0 it 's badly acted , blandly directed , and could have been scripted by someone who just graduated from elementary school .\\n1 but what spectacular sizzle it is !\\n1 stephen earnhart 's homespun documentary mule skinner blues has nothing but love for its posse of trailer park denizens .\\n1 it 's a sly wink to the others without becoming a postmodern joke , made creepy by its `` men in a sardine can '' warped logic .\\n1 a cop story that understands the medium amazingly well .\\n0 taken individually or collectively , the stories never add up to as much as they promise .\\n0 when she speaks , her creepy egyptian demigod voice is as computer processed and overproduced as it was in her music .\\n1 one of the greatest romantic comedies of the past decade .\\n0 the plot grinds on with yawn-provoking dullness .\\n1 an amusing , breezily apolitical documentary about life on the campaign trail .\\n1 time changer may not be the most memorable cinema session but its profound self-evaluation message about our fragile existence and the absence of spiritual guidance should at least invade an abundance of mindsets\\n1 a very witty take on change , risk and romance , and the film uses humour to make its points about acceptance and growth .\\n0 ... the last time i saw a theater full of people constantly checking their watches was during my sats .\\n1 these are lives worth watching , paths worth following .\\n0 static , repetitive , muddy and blurry , hey arnold !\\n0 this is a throwaway , junk-food movie whose rap soundtrack was better tended to than the film itself .\\n1 the wwii drama is well plotted , visually striking and filled with enjoyably complex characters who are never what they first appear .\\n1 a film that is a portrait of grace in an imperfect world .\\n0 ultimately the project comes across as clinical , detached , uninvolving , possibly prompting audience members to wonder , ` what 's the point ? '\\n1 the best movie of its kind since ` brazil . '\\n1 davis has filled out his cast with appealing fresh faces .\\n1 it might be tempting to regard mr. andrew and his collaborators as oddballs , but mr. earnhart 's quizzical , charming movie allows us to see them , finally , as artists .\\n0 sadly , hewitt 's forte is leaning forward while wearing low-cut gowns , not making snappy comebacks .\\n0 so what is the point ?\\n0 the issue of faith is not explored very deeply\\n1 my oh my , is this an invigorating , electric movie .\\n1 director ferzan ozpetek creates an interesting dynamic with the members of this group , who live in the same apartment building .\\n0 i kept thinking over and over again , ' i should be enjoying this . '\\n0 do n't expect any surprises in this checklist of teamwork cliches ...\\n0 i saw knockaround guys yesterday , and already the details have faded like photographs from the spanish-american war ... it 's so unmemorable that it turned my ballpoint notes to invisible ink .\\n1 the stunning , dreamlike visuals will impress even those viewers who have little patience for euro-film pretension .\\n1 an eccentric little comic\\\\/thriller deeply in love with its own quirky personality .\\n1 my goodness , queen latifah has a lot to offer and she seemed to have no problem flaunting her natural gifts .\\n0 egoyan 's movie is too complicated to sustain involvement , and , if you 'll excuse a little critical heresy , too intellectually ambitious .\\n1 will grab your children by the imagination and amaze them and amuse them .\\n0 a chaotic panorama that 's too busy flying a lot of metaphoric flags .\\n0 the overall feel of the film is pretty cheesy , but there 's still a real sense that the star trek tradition has been honored as best it can , given the embarrassing script and weak direction .\\n1 this is one for the ages .\\n1 the animated subplot keenly depicts the inner struggles of our adolescent heroes - insecure , uncontrolled , and intense .\\n1 a compelling , moving film that respects its audience and its source material .\\n1 the talents of the actors helps `` moonlight mile '' rise above its heart-on-its-sleeve writing .\\n0 as elegantly crafted as it often is , anderson 's movie is essentially a one-trick pony that , hampered by an undeveloped script , ultimately pulls up lame .\\n0 all the characters are stereotypes , and their interaction is numbingly predictable .\\n1 day is not a great bond movie , but it is a good bond movie , which still makes it much better than your typical bond knock-offs .\\n0 the tug-of-war at the core of beijing bicycle becomes weighed down with agonizing contrivances , overheated pathos and long , wistful gazes .\\n0 quick : who wants to see a comedy about shoddy airport security ?\\n0 by the end , i was looking for something hard with which to bludgeon myself unconscious .\\n0 the only element of suspense is whether the movie will change titles or distributors again before the closing credits roll .\\n1 this clever caper movie has twists worthy of david mamet and is enormous fun for thinking audiences .\\n1 most of crush is a clever and captivating romantic comedy with a welcome pinch of tartness .\\n1 makmalbaf follows a resolutely realistic path in this uncompromising insight into the harsh existence of the kurdish refugees of iran 's borderlands .\\n0 despite a blue-chip cast and a provocative title , writer-director peter mattei 's first feature microwaves dull leftover romantic motifs basted in faux-contemporary gravy .\\n1 well-written , nicely acted and beautifully shot and scored , the film works on several levels , openly questioning social mores while ensnaring the audience with its emotional pull .\\n1 this is n't a narrative film -- i do n't know if it 's possible to make a narrative film about september 11th , though i 'm sure some will try -- but it 's as close as anyone has dared to come .\\n1 christians sensitive to a reductionist view of their lord as a luv-spreading dr. feelgood or omnipotent slacker will feel vastly more affronted than secularists , who might even praise god for delivering such an instant camp classic .\\n1 a clever blend of fact and fiction .\\n0 there 's plenty of style in guillermo del toro 's sequel to the 1998 hit but why do we need 117 minutes to tell a tale that simply ca n't sustain more than 90 minutes .\\n0 the writers , director wally wolodarsky , and all the actors should start their own coeducational fraternity : kappa rho alpha phi .\\n1 the filmmakers skillfully evoke the sense of menace that nature holds for many urban dwellers .\\n0 it 's best to avoid imprisonment with the dull , nerdy folks that inhabit cherish .\\n0 based on a david leavitt story , the film shares that writer 's usual blend of observant cleverness , too-facile coincidence and slightly noxious preciousness .\\n1 pray 's film works well and will appeal even to those who are n't too familiar with turntablism .\\n0 it 's drained of life in an attempt to be sober and educational , and yet it 's so devoid of realism that its lack of whistles and bells just makes it obnoxious and stiff .\\n1 to the film 's credit , the acting is fresh and unselfconscious , and munch is a marvel of reality versus sappy sentiment .\\n0 why come up with something even quasi-original , when you can pillage from shirley jackson , richard matheson ... and puke up something like rose red ?\\n1 an absorbing trip into the minds and motivations of people under stress as well as a keen , unsentimental look at variations on the theme of motherhood .\\n1 though a bit of a patchwork in script and production , a glossy , rich green , environment almost makes the picture work .\\n0 well-shot but badly written tale set in a future ravaged by dragons .\\n0 outrageousness is all plympton seemed to be going for this time .\\n1 there 's a vastness implied in metropolis that is just breathtaking .\\n1 a feel-good picture in the best sense of the term .\\n1 this is a happy throwback to the time when cartoons were cinema 's most idiosyncratic form instead of one of its most predictable .\\n1 newton draws our attention like a magnet , and acts circles around her better known co-star , mark wahlberg .\\n1 vividly conveys both the pitfalls and the pleasures of over-the-top love .\\n0 formula 51 is so trite that even yu 's high-energy action stylings ca n't break through the stupor .\\n1 when your leading ladies are a couple of screen-eating dominatrixes like goldie hawn and susan sarandon at their raunchy best , even hokum goes down easily .\\n0 flaccid drama and exasperatingly slow journey .\\n0 too silly to be frightening , too stolid to be funny , it projects the same lazy affability as its nominal star , david arquette .\\n0 overall , the film misses the brilliance of jelinek 's novel by some way .\\n1 an incredibly low-rent danish film , it brings a group of people together in a sweet and charming way , if a little convenient\\n0 the film meant well in its horse tale about freedom , but was n't able to reach the heart because it was too overbearing .\\n1 occasionally funny , always very colorful and enjoyably overblown in the traditional almodóvar style .\\n0 high crimes miscasts nearly every leading character .\\n1 pretty darn good , despite its smarty-pants aura .\\n0 a mixed bag of a comedy that ca n't really be described as out of this world .\\n1 a movie that will touch the hearts of both children and adults , as well as bring audiences to the edge of their seats .\\n1 -lrb- an -rrb- hilarious romantic comedy .\\n1 both deeply weird and charmingly dear .\\n0 the ill-conceived modern-day ending falls flat where it should deliver a moral punch .\\n1 the movie has lots of dancing and fabulous music .\\n1 what you would end up with if you took orwell , bradbury , kafka , george lucas and the wachowski brothers and threw them into a blender .\\n1 a hip ride into hyper-time , clockstoppers is a lively and enjoyable adventure for all ages at any time .\\n0 it risks seeming slow and pretentious , because it thinks the gamble is worth the promise .\\n1 occasionally melodramatic , it 's also extremely effective .\\n0 a very stylish but ultimately extremely silly tale ... a slick piece of nonsense but nothing more .\\n0 it 's really yet another anemic and formulaic lethal weapon-derived buddy-cop movie , trying to pass off its lack of imagination as hip knowingness .\\n1 an enjoyably half-wit remake of the venerable italian comedy big deal on madonna street .\\n0 rainy days and movies about the disintegration of families always get me down .\\n1 the second chapter of the harry potter series is even more magical than the first and simply the best family film of the year .\\n0 it 's hard not to feel you 've just watched a feature-length video game with some really heavy back story .\\n1 it 's one of the most honest films ever made about hollywood .\\n0 where last time jokes flowed out of cho 's life story , which provided an engrossing dramatic through line , here the comedian hides behind obviously constructed routines .\\n1 -lrb- but it 's -rrb- worth recommending because of two marvelous performances by michael caine and brendan fraser .\\n1 there is a kind of attentive concern that hoffman brings to his characters , as if he has been giving them private lessons , and now it is time for their first public recital .\\n0 philip k. dick must be turning in his grave , along with my stomach .\\n0 its characters are thinner than cardboard -- or even comic-book paper .\\n0 fine acting but there is no sense of connecting the dots , just dots .\\n0 theology aside , why put someone who ultimately does n't learn at the center of a kids ' story ?\\n1 the movie 's quiet affirmation of neighborhood values gives it an honest , lived-in glow .\\n0 it might as well have been problem child iv .\\n0 feels like one of those contrived , only-in - hollywood productions where name actors deliver big performances created for the sole purpose of generating oscar talk .\\n1 good ol' urban legend stuff .\\n1 the film 's greatest asset is how much it 's not just another connect-the-dots , spy-on-the-run picture .\\n0 home alone goes hollywood , a funny premise until the kids start pulling off stunts not even steven spielberg would know how to do .\\n1 if it 's possible for a sequel to outshine the original , then sl2 does just that .\\n1 one of those rare , exhilarating cinematic delights that gets even better in hindsight , as you mull over its every nuance in your mind .\\n0 sunshine state lacks the kind of dynamic that limbo offers , and in some ways is a rather indulgent piece .\\n1 painful to watch , but viewers willing to take a chance will be rewarded with two of the year 's most accomplished and riveting film performances .\\n0 do not , under any circumstances , consider taking a child younger than middle school age to this wallow in crude humor .\\n1 he simply presents his point of view that ayurveda works .\\n0 for all its surface frenzy , high crimes should be charged with loitering -- so much on view , so little to offer .\\n0 like a marathon runner trying to finish a race , you need a constant influx of liquid just to get through it .\\n0 it took 19 predecessors to get this ?\\n0 ... perhaps the heaviest , most joyless movie ever made about giant dragons taking over the world .\\n1 while surprisingly sincere , this average little story is adorned with some awesome action photography and surfing .\\n1 an endlessly fascinating , landmark movie that is as bold as anything the cinema has seen in years .\\n0 begins as a promising meditation on one of america 's most durable obsessions but winds up as a slender cinematic stunt .\\n1 a yarn that respects the marvel version without becoming ensnared by it .\\n1 -lrb- howard -rrb- so good as leon barlow ... that he hardly seems to be acting .\\n1 the tug of war that ensues is as much a snapshot of modern china in microcosm as it is a crash course in movie mythology .\\n0 but in its child-centered , claustrophobic context , it can be just as frightening and disturbing -- even punishing .\\n1 the whole cast looks to be having so much fun with the slapstick antics and silly street patois , tossing around obscure expressions like bellini and mullinski , that the compact 86 minutes breezes by .\\n0 though ganesh is successful in a midlevel sort of way , there 's nothing so striking or fascinating or metaphorically significant about his career as to rate two hours of our attention .\\n1 the people in dogtown and z-boys are so funny , aggressive and alive , you have to watch them because you ca n't wait to see what they do next .\\n0 reggio 's trippy , ambitious downer can also sometimes come across like nothing more than a glorified nike ad .\\n1 -lrb- fessenden -rrb- is much more into ambiguity and creating mood than he is for on screen thrills\\n1 if you can get past the fantastical aspects and harsh realities of `` the isle '' you 'll get a sock-you-in-the-eye flick that is a visual tour-de-force and a story that is unlike any you will likely see anywhere else .\\n1 jacquot 's tosca is a treat .\\n0 you 're better off staying home and watching the x-files .\\n1 the drama is played out with such aching beauty and truth that it brings tears to your eyes .\\n0 the sequel has turned completely and irrevocably bizarre to the point of utter nonsense .\\n1 divine secrets of the ya-ya sisterhood may not be exactly divine , but it 's definitely -- defiantly -- ya ya , what with all of those terrific songs and spirited performances .\\n0 the subject of swinging still seems ripe for a documentary -- just not this one .\\n1 the principals in this cast are all fine , but bishop and stevenson are standouts .\\n1 but it offers plenty to ponder and chew on as its unusual relationship slowly unfolds .\\n0 the ending is a cop-out .\\n0 the makers of divine secrets of the ya-ya sisterhood should offer a free ticket -lrb- second prize , of course , two free tickets -rrb- to anyone who can locate a genuinely honest moment in their movie .\\n0 no , it 's not nearly as good as any of its influences .\\n0 but he loses his focus when he concentrates on any single person .\\n0 bullock 's complete lack of focus and ability quickly derails the film\\n0 say this for the soundtrack , it drowns out the lousy dialogue .\\n0 all ends well , sort of , but the frenzied comic moments never click .\\n0 proves that a movie about goodness is not the same thing as a good movie .\\n1 workmanlike , maybe , but still a film with all the elements that made the other three great , scary times at the movies .\\n0 this formulaic chiller will do little to boost stallone 's career .\\n1 like the film 's almost anthropologically detailed realization of early - '80s suburbia , it 's significant without being overstated .\\n0 accuracy and realism are terrific , but if your film becomes boring , and your dialogue is n't smart , then you need to use more poetic license .\\n1 elling really is about a couple of crazy guys , and it 's therapeutic to laugh along with them .\\n0 ... too gory to be a comedy and too silly to be an effective horror film .\\n0 a boring , formulaic mix of serial killers and stalk 'n' slash .\\n1 a refreshing korean film about five female high school friends who face an uphill battle when they try to take their relationships into deeper waters .\\n1 hu and liu offer natural , matter-of-fact performances that glint with sorrow , longing and love .\\n0 the kids often appear to be reading the lines and are incapable of conveying any emotion .\\n0 just one more collection of penis , breast and flatulence gags in search of a story .\\n1 not a bad journey at all .\\n1 has a shambling charm ... a cheerfully inconsequential diversion .\\n0 the film 's 45-minute running time stops shy of overkill , though viewers may be more exhausted than the athletes onscreen .\\n0 collateral damage is , despite its alleged provocation post-9 \\\\/ 11 , an antique , in the end .\\n0 even those of a single digit age will be able to recognize that this story is too goofy ... even for disney .\\n1 bubba ho-tep is a wonderful film with a bravura lead performance by bruce campbell that does n't deserve to leave the building until everyone is aware of it .\\n0 the movie is as far as you can get from racy , to the point where it almost stops the blood flow to your brain ; it has a dull , costumey feel .\\n1 hilarious , touching and wonderfully dyspeptic .\\n1 it is a film that will have people walking out halfway through , will encourage others to stand up and applaud , and will , undoubtedly , leave both camps engaged in a ferocious debate for years to come .\\n0 a cumbersome and cliche-ridden movie greased with every emotional device known to man .\\n1 a comprehensive and provocative film -- one that pushes the boundaries of biography , and challenges its audience .\\n0 despite the authenticity of the trappings , the film is overblown in its plotting , hackneyed in its dialogue and anachronistic in its style .\\n0 the character is too forced and overwritten to be funny or believable much of the time , and clayburgh does n't always improve the over-the-top mix .\\n1 this version incarnates the prophetic book in a way even its exacting author might admire .\\n0 herzog is obviously looking for a moral to his fable , but the notion that a strong , unified showing among germany and eastern european jews might have changed 20th-century history is undermined by ahola 's inadequate performance .\\n0 the performances are so leaden , michael rymer 's direction is so bloodless and the dialogue is so corny that the audience laughs out loud .\\n1 a thoughtful , provocative , insistently humanizing film .\\n0 the movie bounces all over the map .\\n0 a frustrating combination of strained humor and heavy-handed sentimentality .\\n1 it 's traditional moviemaking all the way , but it 's done with a lot of careful period attention as well as some very welcome wit .\\n1 it 's as close as we 'll ever come to looking through a photographer 's viewfinder as he works .\\n1 the film is all a little lit crit 101 , but it 's extremely well played and often very funny .\\n1 de oliveira creates an emotionally rich , poetically plump and visually fulsome , but never showy , film whose bittersweet themes are reinforced and brilliantly personified by michel piccoli .\\n1 funny and , at times , poignant , the film from director george hickenlooper all takes place in pasadena , `` a city where people still read . ''\\n0 too loud , too long and too frantic by half , die another day suggests that the bond franchise has run into a creative wall that 007 can not fly over , tunnel under or barrel through .\\n0 the film is itself a sort of cinematic high crime , one that brings military courtroom dramas down very , very low .\\n1 fuller would surely have called this gutsy and at times exhilarating movie a great yarn .\\n0 a long slog for anyone but the most committed pokemon fan .\\n0 though avary has done his best to make something out of ellis ' nothing novel , in the end , his rules is barely worth following .\\n0 this idea has lost its originality ... and neither star appears very excited at rehashing what was basically a one-joke picture .\\n0 little more than a frothy vanity project .\\n0 a depressing confirmation of everything those of us who do n't object to the description `` unelected '' have suspected all along : george w. bush is an incurious , uncharismatic , overgrown frat boy with a mean streak a mile wide .\\n1 an enchanting film that presents an audacious tour of the past and takes within its warm embrace the bounties of cultural artifacts inside st. petersburg 's hermitage museum .\\n1 the new guy does have a heart .\\n0 screenwriters scott abbott and michael petroni have turned rice 's complex akasha into a cartoon monster .\\n1 nolan bravely treads where few american films dare to delve -- into the world of ambivalence and ambiguity ...\\n1 few films this year have been as resolute in their emotional nakedness .\\n0 i did n't laugh at the ongoing efforts of cube , and his skinny buddy mike epps , to make like laurel and hardy 'n the hood .\\n0 the streets , shot by cinematographer michael ballhaus , may be as authentic as they are mean , but it is nearly impossible to care about what happens on them .\\n0 if you 're looking for comedy to be served up , better look elsewhere .\\n0 the movie makes absolutely no sense .\\n1 it extends the writings of jean genet and john rechy , the films of fassbinder , perhaps even the nocturnal works of goya .\\n1 edited and shot with a syncopated style mimicking the work of his subjects , pray turns the idea of the documentary on its head , making it rousing , invigorating fun lacking any mtv puffery .\\n1 this ecologically minded , wildlife friendly film teaches good ethics while entertaining with its unconventionally wacky but loving family\\n0 almost everything else is wan .\\n1 as hugh grant says repeatedly throughout the movie , ` lovely !\\n1 it never fails to engage us .\\n1 only an epic documentary could get it all down , and spike lee 's jim brown : all american at long last gives its subject a movie worthy of his talents .\\n0 shadyac shoots his film like an m. night shyamalan movie , and he frequently maintains the same snail 's pace ; he just forgot to add any genuine tension .\\n1 waydowntown is by no means a perfect film , but its boasts a huge charm factor and smacks of originality .\\n1 i complain all the time about seeing the same ideas repeated in films over and over again , but the bourne identity proves that a fresh take is always possible .\\n0 the stupidest , most insulting movie of 2002 's first quarter .\\n0 no more .\\n0 -lrb- newton -rrb- wanders through charlie completely unaware she needs to show some presence and star quality .\\n0 i did n't believe for a moment in these villains or their plot .\\n1 a tale of horror and revenge that is nearly perfect in its relentless descent to the depths of one man 's tortured soul .\\n1 an original gem about an obsession with time .\\n0 she lists ingredients , but never mixes and stirs .\\n0 none of this violates the letter of behan 's book , but missing is its spirit , its ribald , full-throated humor .\\n1 a journey through memory , a celebration of living , and a sobering rumination on fatality , classism , and ignorance .\\n1 this is art paying homage to art .\\n1 happily for mr. chin -- though unhappily for his subjects -- the invisible hand of the marketplace wrote a script that no human screenwriter could have hoped to match .\\n1 makes s&m seem very romantic , and maggie gyllenhaal is a delight .\\n0 like most bond outings in recent years , some of the stunts are so outlandish that they border on being cartoonlike .\\n1 it has the courage to wonder about big questions with sincerity and devotion .\\n0 in the second half of the film , frei 's control loosens in direct proportion to the amount of screen time he gives nachtwey for self-analysis .\\n1 the year 's happiest surprise , a movie that deals with a real subject in an always surprising way .\\n1 an intelligent , moving and invigorating film .\\n1 daring , mesmerizing and exceedingly hard to forget .\\n1 ... as the story congeals you feel the pieces of the star wars saga falling into place in a way that makes your spine tingle with revelation and excitement .\\n1 never -lrb- sinks -rrb- into exploitation .\\n0 leaves you with a knot in your stomach , its power is undercut by its own head-banging obviousness .\\n0 the cast is so low-wattage that none of the characters comes off as big ... and the setting remains indistinct .\\n1 a splendid entertainment , young in spirit but accomplished in all aspects with the fullness of spirit and sense of ease that comes only with experience .\\n1 it 's hard not to be seduced by -lrb- witherspoon 's -rrb- charisma , even in this run-of-the-mill vehicle , because this girl knows how to drive it to the max .\\n0 glib , satirical documentary that fudges facts , makes facile points and engages in the cinematic equivalent of tabloid journalism .\\n1 with the film 's striking ending , one realizes that we have a long way to go before we fully understand all the sexual permutations involved .\\n0 you 'll have more fun setting fire to yourself in the parking lot .\\n1 foster nails the role , giving a tight , focused performance illuminated by shards of feeling .\\n1 it dares to be a little different , and that shading is what makes it worthwhile .\\n0 fear dot com is so rambling and disconnected it never builds any suspense .\\n1 tuck everlasting achieves a delicate balance of romantic innocence and philosophical depth .\\n1 this is carion 's debut feature but his script and direction hums with a confidence that many spend entire careers trying to reach .\\n1 an elegant , exquisitely modulated psychological thriller .\\n0 stars matthew perry and elizabeth hurley illicit more than a chuckle , and more jokes land than crash , but ultimately serving sara does n't distinguish itself from the herd .\\n0 hey , who else needs a shower ?\\n0 but even a hero can stumble sometimes .\\n0 the tone shifts abruptly from tense to celebratory to soppy .\\n1 moore 's performance impresses almost as much as her work with haynes in 1995 's safe .\\n0 not even the hanson brothers can save it\\n1 a picture that extols the virtues of comradeship and community in a spunky , spirited fashion .\\n1 too bad , but thanks to some lovely comedic moments and several fine performances , it 's not a total loss .\\n1 his characters are engaging , intimate and the dialogue is realistic and greatly moving .\\n1 now trimmed by about 20 minutes , this lavish three-year-old production has enough grandeur and scale to satisfy as grown-up escapism .\\n1 an imaginative comedy\\\\/thriller .\\n0 technically , the film is about as interesting as an insurance commercial .\\n0 the only thing in pauline and paulette that you have n't seen before is a scene featuring a football field-sized oriental rug crafted out of millions of vibrant flowers .\\n1 offers enough playful fun to entertain the preschool set while embracing a wholesome attitude .\\n1 there are times when a rumor of angels plays like an extended episode of touched by an angel -- a little too much dancing , a few too many weeping scenes -- but i liked its heart and its spirit .\\n0 for anyone who grew up on disney 's 1950 treasure island , or remembers the 1934 victor fleming classic , this one feels like an impostor .\\n1 ... an inviting piece of film .\\n0 ... a big , baggy , sprawling carnival of a movie , stretching out before us with little rhyme or reason .\\n0 flashy , pretentious and as impenetrable as morvern 's thick , working-class scottish accent .\\n0 maudlin and melodramatic we expected .\\n0 shocking only in that it reveals the filmmaker 's bottomless pit of self-absorption .\\n1 the visuals alone make metropolis worth seeing .\\n0 uncertain in tone ... a garbled exercise in sexual politics , a junior varsity short cuts by way of very bad things .\\n0 a waste of good performances .\\n0 one of those movies where you walk out of the theater not feeling cheated exactly , but feeling pandered to , which , in the end , might be all the more infuriating .\\n0 a bit of an unwieldy mess .\\n0 the picture , scored by a perversely cheerful marcus miller accordion\\\\/harmonica\\\\/banjo abomination , is a monument to bad in all its florid variety .\\n0 julia is played with exasperating blandness by laura regan .\\n1 a romantic comedy that operates by the rules of its own self-contained universe .\\n0 liman , of swingers and go , makes his big-budget action film debut something of a clunker as he delivers a long , low-heat chase , interrupted by a middling car chase .\\n1 a triumph of art direction over narrative , but what art direction !\\n0 propelled not by characters but by caricatures .\\n0 never mind whether you buy the stuff about barris being a cia hit man .\\n0 here 's a self-congratulatory 3d imax rah-rah .\\n0 every bit as bogus as most disney live action family movies are -- no real plot , no real conflict , no real point .\\n1 one of the most haunting , viciously honest coming-of-age films in recent memory .\\n1 the film has just enough of everything -- re-enactments , archival footage , talking-head interviews -- and the music is simply sublime .\\n1 i like the new footage and still love the old stuff .\\n0 i weep for the future when a good portion of the respected critical community in this country consider blue crush to be an intelligent film about young women .\\n0 without september 11 , collateral damage would have been just another bad movie .\\n1 gollum 's ` performance ' is incredible !\\n1 superior genre storytelling , which gets under our skin simply by crossing the nuclear line .\\n0 there are films that try the patience of even the most cinema-besotted critic -- and this was one of them .\\n1 an unabashedly schmaltzy and thoroughly enjoyable true story .\\n0 if this dud had been made in the '70s , it would have been called the hills have antlers and played for about three weeks in drive-ins .\\n1 a deliciously mordant , bitter black comedy .\\n0 a sophomoric exploration of ` life problems ' most people solved long ago -- or at least got tired of hearing people kvetch about .\\n1 flavorful and romantic , you could call this how martha got her groove back -- assuming , that is , she ever had one to begin with .\\n1 director rob marshall went out gunning to make a great one .\\n0 lanie 's professional success means she must be a failure at life , because she 's driven by ambition and does n't know how to have fun .\\n1 it almost plays like solaris , but with guns and jokes .\\n0 kwan makes the mix-and - match metaphors intriguing , while lulling us into torpor with his cultivated allergy to action .\\n0 you could nap for an hour and not miss a thing .\\n1 the tenderness of the piece is still intact .\\n0 these people would n't know subtle characterization if it put on a giant furry monster costume and then gave them a lapdance .\\n0 a graceless , witless attempt at mating some like it hot with the wwii espionage thriller .\\n0 the impact of the armenian genocide is diluted by too much stage business in the modern day .\\n1 while undercover brother is definitely one for the masses , it 's also full of sharp , smart satire .\\n1 visits spy-movie territory like a novel you ca n't put down , examines a footnote to history seldom brought to light on the screen , and keeps you guessing from first frame to last .\\n1 it suggests the wide-ranging effects of media manipulation , from the kind of reporting that is done by the supposedly liberal media ... to the intimate and ultimately tragic heartache of maverick individuals like hatfield and hicks .\\n1 this warm and gentle romantic comedy has enough interesting characters to fill several movies , and its ample charms should win over the most hard-hearted cynics .\\n0 half of it is composed of snappy patter and pseudo-sophisticated cultural observations , while the remainder ... would be more at home on a daytime television serial .\\n0 though howard demonstrates a great eye as a director , this southern gothic drama is sadly a tough sit , with an undeveloped narrative and enough flashbacks and heavy-handed metaphors to choke a horse -- or at least slow him down to a canter .\\n1 a tough go , but leigh 's depth and rigor , and his skill at inspiring accomplished portrayals that are all the more impressive for their lack of showiness , offsets to a notable degree the film 's often-mined and despairing milieu .\\n0 at first , the sight of a blind man directing a film is hilarious , but as the film goes on , the joke wears thin .\\n1 a charming romantic comedy that is by far the lightest dogme film and among the most enjoyable .\\n1 while the isle is both preposterous and thoroughly misogynistic , its vistas are incredibly beautiful to look at .\\n1 denis and co-writer michele petin 's impeccable screenplay penetrates with a rawness that that is both unflinching and tantalizing .\\n0 expect to be reminded of other , better films , especially seven , which director william malone slavishly copies .\\n1 lathan and diggs have considerable personal charm , and their screen rapport makes the old story seem new .\\n1 the reason this picture works better than its predecessors is that myers is no longer simply spoofing the mini-mod-madness of '60s spy movies .\\n0 he has not learnt that storytelling is what the movies are about .\\n1 an intelligent , earnest , intimate film that drops the ball only when it pauses for blunt exposition to make sure you 're getting its metaphysical point .\\n1 majidi 's poetic love story is a ravishing consciousness-raiser , if a bit draggy at times .\\n1 westfeldt and juergensen exude a chemistry and comfort level that 's both saucy and endearing .\\n1 quite funny for the type of movie it is ...\\n1 run , do n't walk , to see this barbed and bracing comedy on the big screen .\\n0 matthew mcconaughey tries , and fails , to control the screen with swaggering machismo and over-the-top lunacy .\\n0 a predictable and stereotypical little b-movie .\\n0 i 'm not suggesting that you actually see it , unless you 're the kind of person who has seen every wim wenders film of the '70s .\\n0 dialogue-heavy and too cerebral for its own good -- or , at any rate , too cerebral for its racy subject matter .\\n1 when it 's all wet , blue crush is highly enjoyable .\\n1 a somewhat crudely constructed but gripping , questing look at a person so racked with self-loathing , he becomes an enemy to his own race .\\n0 usually when i get this much syrup , i like pancakes to go with it .\\n1 mr. wedge and mr. saldanha handle the mix of verbal jokes and slapstick well .\\n1 longley has constructed a remarkably coherent , horrifically vivid snapshot of those turbulent days .\\n1 a slick , well-oiled machine , exquisitely polished and upholstered .\\n1 the result is mesmerizing -- filled with menace and squalor .\\n1 do n't plan on the perfect ending , but sweet home alabama hits the mark with critics who escaped from a small town life .\\n1 a stunning piece of visual poetry that will , hopefully , be remembered as one of the most important stories to be told in australia 's film history .\\n0 too timid to bring a sense of closure to an ugly chapter of the twentieth century .\\n0 plays less like a coming-of-age romance than an infomercial .\\n0 all that -lrb- powerpuff girls -rrb- charm is present in the movie , but it 's spread too thin .\\n1 jirí hubac 's script is a gem .\\n0 as -lrb- the characters -rrb- get more depressed , the story gets more tiresome , especially as it continues to mount a conspicuous effort to be profound .\\n1 even when foreign directors ... borrow stuff from hollywood , they invariably shake up the formula and make it more interesting .\\n0 feels like six different movies fighting each other for attention .\\n1 this bold and lyrical first feature from raja amari expands the pat notion that middle-aged women just wanna have fun into a rousing treatise of sensual empowerment .\\n1 often gruelling and heartbreaking to witness , but seldahl and wollter 's sterling performances raise this far above the level of the usual maudlin disease movie .\\n0 a mix of velocity and idiocy , this ruinous remake lacks the brawn -- and the brains -- of the 1970s original .\\n1 cantet perfectly captures the hotel lobbies , two-lane highways , and roadside cafes that permeate vincent 's days\\n0 friday after next has the same problem that next friday did -- it 's called where 's chris tucker when you need him ?\\n0 extremely confusing .\\n0 well-intentioned though it may be , its soap-opera morality tales have the antiseptic , preprogrammed feel of an after-school special .\\n1 but fans should have fun meeting a brand-new pokemon called celebi .\\n0 son of the bride may be a good half-hour too long but comes replete with a flattering sense of mystery and quietness .\\n0 it 's laughing at us .\\n0 like most sequels , it takes what worked last time , repeats it and adds more characters , more stunts , more stuff in attempt to camouflage its sameness .\\n0 this film 's relationship to actual tension is the same as what christmas-tree flocking in a spray can is to actual snow : a poor -- if durable -- imitation .\\n0 helmer devito ... attempts to do too many things in this story about ethics , payola , vice , murder , kids ' tv and revenge .\\n0 the humor is hinged on the belief that knees in the crotch , elbows in the face and spit in the eye are inherently funny .\\n1 4 friends , 2 couples , 2000 miles , and all the pabst blue ribbon beer they can drink - it 's the ultimate redneck road-trip .\\n0 still , i 'm not quite sure what the point is ...\\n0 has it ever been possible to say that williams has truly inhabited a character ?\\n0 after that , it just gets stupid and maudlin .\\n0 unfortunately , heartbreak hospital wants to convey the same kind of haughtiness in its own sketchy material but this territory has already been explored previously with better aplomb and sardonic wit .\\n1 by the end of no such thing the audience , like beatrice , has a watchful affection for the monster .\\n0 a baffling misfire , and possibly the weakest movie -lrb- woody allen -rrb- has made in the last twenty years .\\n1 the production values are up there .\\n0 rates an ` e ' for effort -- and a ` b ' for boring .\\n1 the pianist is a fine valedictory work for polanski , made richer by his own experiences , making his other movies somehow richer in the bargain .\\n0 being author wells ' great-grandson , you 'd think filmmaker simon wells would have more reverence for the material .\\n0 a modest and messy metaphysical thriller offering more questions than answers .\\n1 it 's the best film of the year so far , the benchmark against which all other best picture contenders should be measured .\\n1 smith 's approach is never to tease , except gently and in that way that makes us consider our own eccentricities and how they are expressed through our homes .\\n0 a shambles of a movie -- visually unattractive , unbearably loud and utterly silly ... its hilarity is completely unintentional .\\n1 its direction , its script , and weaver 's performance as a vaguely discontented woman of substance make for a mildly entertaining 77 minutes , if that 's what you 're in the mood for .\\n1 it is so refreshing to see robin williams turn 180 degrees from the string of insultingly innocuous and sappy fiascoes he 's been making for the last several years .\\n0 `` collateral damage '' goes by the numbers and reps decent action entertainment -- until the silly showdown ending that forces the viewer to totally suspend disbelief\\n0 still , this thing feels flimsy and ephemeral .\\n1 a blessed gift to film geeks and historians .\\n1 what jackson has accomplished here is amazing on a technical level .\\n1 it should be mentioned that the set design and interiors of the haunted vessel are more than effectively creepy and moodily lit .\\n1 there 's no denying the physically spectacular qualities of the film ... or the emotional integrity of the performances .\\n1 whether you 're moved and love it , or bored or frustrated by the film , you 'll still feel something .\\n1 a psychologically rich and suspenseful moral thriller with a stellar performance by al pacino .\\n1 an absorbing , slice-of-depression life that touches nerves and rings true .\\n0 moderately involving despite bargain-basement photography and hackneyed romance .\\n1 this is a film well worth seeing , talking and singing heads and all .\\n0 what was subtle and mystifying in the novella is now broad and farcical .\\n0 the plot is so predictable and sentimental that viewers are likely to lose interest before sandrine and her goats walk off into the sunset .\\n1 roger michell , who did an appealing job directing persuasion and notting hill in england , gets too artsy in his american debut .\\n0 maybe it 's asking too much , but if a movie is truly going to inspire me , i want a little more than this .\\n1 ... there are enough moments of heartbreaking honesty to keep one glued to the screen .\\n1 i loved it !\\n1 brilliant ! '\\n0 some studio pizazz might have helped .\\n0 it will come as no surprise that the movie is n't scary .\\n0 all the well-meaningness in the world ca n't erase the fact that the believer feels like a 12-step program for the jewish nazi .\\n0 a grim , flat and boring werewolf movie that refuses to develop an energy level .\\n0 a hideous , confusing spectacle , one that may well put the nail in the coffin of any future rice adaptations .\\n0 as tweedy talks about canning his stockbroker and repairing his pool , you yearn for a few airborne tv sets or nude groupies on the nod to liven things up .\\n1 cedar takes a very open-minded approach to this sensitive material , showing impressive control , both visually and in the writing .\\n0 you can practically smell the patchouli oil .\\n1 cute , funny , heartwarming digitally animated feature film with plenty of slapstick humor for the kids , lots of in-jokes for the adults and heart enough for everyone .\\n1 what full frontal lacks in thematic coherence it largely makes up for as loosey-goosey , experimental entertainment .\\n0 mark me down as a non-believer in werewolf films that are not serious and rely on stupidity as a substitute for humor .\\n1 maguire is a surprisingly effective peter\\\\/spider-man .\\n1 windtalkers is shapelessly gratifying , the kind of movie that invites you to pick apart its faults even as you have to admit that somehow it hit you where you live .\\n1 for its seriousness , high literary aspirations and stunning acting , the film can only be applauded .\\n0 so clichéd that , at one point , they literally upset an apple cart .\\n1 a byzantine melodrama that stimulates the higher brain functions as well as the libido .\\n1 cho 's fearless in picking apart human foibles , not afraid to lay her life bare in front of an audience .\\n1 about nowhere kids who appropriated turfs as they found them and become self-made celebrity athletes -- a low-down version of the american dream .\\n0 ... an unimaginative , nasty , glibly cynical piece of work .\\n1 ... in this incarnation its fizz is infectious .\\n0 it 's just incredibly dull .\\n1 genuinely touching because it 's realistic about all kinds of love .\\n1 nicolas philibert observes life inside a one-room schoolhouse in northern france in his documentary to be and to have , easily one of the best films of the year .\\n1 it 's rare to find a film that dazzles the eye , challenges the brain , and satisfies our lust for fast-paced action , but minority report delivers all that and a whole lot more .\\n1 a charming , quirky and leisurely paced scottish comedy -- except with an outrageous central gimmick that could have been a reject from monty python 's meaning of life .\\n1 a graceful , contemplative film that gradually and artfully draws us into a world where the personal and the political get fatally intertwined .\\n0 what will , most likely , turn out to be the most repellent movie of 2002 .\\n0 a little too pat for its own good .\\n0 the story is familiar from its many predecessors ; like them , it eventually culminates in the not-exactly - stunning insight that crime does n't pay .\\n0 even legends like alfred hitchcock and john huston occasionally directed trifles ... so it 's no surprise to see a world-class filmmaker like zhang yimou behind the camera for a yarn that 's ultimately rather inconsequential .\\n1 if nothing else , this movie introduces a promising , unusual kind of psychological horror .\\n0 a sermonizing and lifeless paean to teenage dullards .\\n0 for all its highfalutin title and corkscrew narrative , the movie turns out to be not much more than a shaggy human tale .\\n0 had anyone here done anything remotely intelligent , we all could have stopped watching long ago .\\n1 a teasing drama whose relentless good-deed\\\\/bad-deed reversals are just interesting enough to make a sinner like me pray for an even more interesting , less symmetrical , less obviously cross-shaped creation .\\n0 there is not a character in the movie with a shred of plausibility , not an event that is believable , not a confrontation that is not staged , not a moment that is not false .\\n0 bad company leaves a bad taste , not only because of its bad-luck timing , but also the staleness of its script .\\n0 mckay deflates his piece of puffery with a sour cliche and heavy doses of mean-spiritedness\\n0 ethan hawke has always fancied himself the bastard child of the beatnik generation and it 's all over his chelsea walls .\\n0 the film might have been more satisfying if it had , in fact , been fleshed out a little more instead of going for easy smiles .\\n1 an unbelievably fun film just a leading man away from perfection .\\n0 extremely dumb .\\n0 flotsam in the sea of moviemaking , not big enough for us to worry about it causing significant harm and not smelly enough to bother despising .\\n0 cliches are as thick as the cigarette smoke .\\n0 leave these flowers unpicked -- they 're dead on the vine .\\n0 when the plot kicks in , the film loses credibility .\\n1 may be spoofing an easy target -- those old ' 50 's giant creature features -- but ... it acknowledges and celebrates their cheesiness as the reason why people get a kick out of watching them today .\\n0 the unceasing sadism is so graphically excessive , the director just ends up exposing his own obsession .\\n0 imagine the james woods character from videodrome making a home movie of audrey rose and showing it to the kid from the sixth sense and you 've imagined the ring .\\n0 this film was made to get laughs from the slowest person in the audience -- just pure slapstick with lots of inane , inoffensive screaming and exaggerated facial expressions .\\n0 it 's so underwritten that you ca n't figure out just where the other characters , including ana 's father and grandfather , come down on the issue of ana 's future .\\n1 think of it as a sort of comfort food for the mind .\\n1 hilarious , acidic brit comedy .\\n1 an incredibly clever and superbly paced caper filled with scams within scams within scams .\\n0 myers never knows when to let a gag die ; thus , we 're subjected to one mind-numbingly lengthy riff on poo and pee jokes after another .\\n1 but watching huppert , a great actress tearing into a landmark role , is riveting .\\n1 a marvellous journey from childhood idealism to adolescent self-absorption .\\n1 whether seen on a 10-inch television screen or at your local multiplex , the edge-of-your-seat , educational antics of steve irwin are priceless entertainment .\\n0 how did it ever get made ?\\n1 it is also , at times , curiously moving .\\n1 it is inspirational in characterizing how people from such diverse cultures share the same human and spiritual needs .\\n1 a candid and often fascinating documentary about a pentecostal church in dallas that assembles an elaborate haunted house each year to scare teenagers into attending services .\\n1 the invincible werner herzog is alive and well and living in la\\n1 worth the effort to watch .\\n1 everything that has to do with yvan and charlotte , and everything that has to do with yvan 's rambunctious , jewish sister and her non-jew husband , feels funny and true .\\n1 grant gets to display his cadness to perfection , but also to show acting range that may surprise some who thought light-hearted comedy was his forte .\\n0 just a bloody mess .\\n0 suffers from rambling , repetitive dialogue and the visual drabness endemic to digital video .\\n1 the film is often filled with a sense of pure wonderment and excitement not often seen in today 's cinema du sarcasm\\n1 i do n't think i 've been as entranced and appalled by an asian film since shinya tsukamoto 's iron man .\\n1 the powers team has fashioned a comedy with more laughs than many , no question .\\n1 anchored by a terrific performance by abbass , satin rouge shows that the idea of women 's self-actualization knows few continental divides .\\n1 kaufman creates an eerie sense of not only being there at the time of these events but the very night matthew was killed .\\n0 as an actor , the rock is aptly named .\\n1 thoughtful , provocative and entertaining .\\n0 scene-by-scene , things happen , but you 'd be hard-pressed to say what or why .\\n0 at nearly three hours , the whole of safe conduct is less than the sum of its parts .\\n0 dawdles and drags when it should pop ; it does n't even have the virtue of enough mindless violence to break up the tedium of all its generational bonding .\\n0 places a slightly believable love triangle in a difficult-to-swallow setting , and then disappointingly moves the story into the realm of an improbable thriller .\\n0 trivial where it should be profound , and hyper-cliched where it should be sincere .\\n1 there 's not much more to this adaptation of the nick hornby novel than charm -- effortless , pleasurable , featherweight charm .\\n0 good for a few unintentional laughs , `` extreme ops '' was obviously made for the `` xxx '' crowd , people who enjoy mindless action without the benefit of decent acting , writing , and direction .\\n1 tim story 's not there yet - but ` barbershop ' shows he 's on his way .\\n1 a sports movie with action that 's exciting on the field and a story you care about off it .\\n1 those outside show business will enjoy a close look at people they do n't really want to know .\\n1 the values that have held the enterprise crew together through previous adventures and perils do so again-courage , self-sacrifice and patience under pressure .\\n0 what happened with pluto nash ?\\n0 notorious c.h.o. has oodles of vulgar highlights .\\n0 before long , the film starts playing like general hospital crossed with a saturday night live spoof of dog day afternoon .\\n0 it 's just a silly black genre spoof .\\n0 as written by michael berg and michael j. wilson from a story by wilson , this relentless , all-wise-guys-all-the-time approach tries way too hard and gets tiring in no time at all .\\n1 in fessenden 's horror trilogy , this theme has proved important to him and is especially so in the finale .\\n0 splashes its drama all over the screen , subjecting its audience and characters to action that feels not only manufactured , but also so false you can see the filmmakers ' puppet strings .\\n1 offers that rare combination of entertainment and education .\\n1 romanek keeps the film constantly taut ... reflecting the character 's instability with a metaphorical visual style and an unnerving , heartbeat-like score .\\n1 despite the long running time , the pace never feels slack -- there 's no scene that screams `` bathroom break ! ''\\n1 greene delivers a typically solid performance in a role that is a bit of a departure from the noble characters he has played in the past , and he is matched by schweig , who carries the film on his broad , handsome shoulders .\\n1 moore 's complex and important film is also , believe it or not , immensely entertaining , a david and goliath story that 's still very much playing itself out .\\n0 there 's no denying the elaborateness of the artist 's conceptions , nor his ability to depict them with outrageous elan , but really the whole series is so much pretentious nonsense , lavishly praised by those who equate obscurity with profundity .\\n1 as a belated nod to some neglected all-stars , standing in the shadows of motown is cultural history of the best kind : informative , revealing and richly entertaining .\\n1 engagingly captures the maddening and magnetic ebb and flow of friendship .\\n1 eventually , it wins you over .\\n1 you 'll be left with the sensation of having just witnessed a great performance and , perhaps , give in to the urge to get on your feet and shake it .\\n0 if we do n't demand a standard of quality for the art that we choose , we deserve the trash that we get .\\n1 the acting alone is worth the price of admission .\\n1 i admired this work a lot .\\n0 might have been better off as a documentary , with less of mr. eyre 's uninspired dramatics and more of his sense of observation and outrage .\\n0 it tries too hard , and overreaches the logic of its own world .\\n1 highlights are the terrific performances by christopher plummer , as the prime villain , and nathan lane as vincent crummles , the eccentric theater company manager .\\n1 bullock does a good job here of working against her natural likability .\\n1 the 3d images only enhance the film 's otherworldly quality , giving it a strange combo of you-are-there closeness with the disorienting unreality of the seemingly broken-down fourth wall of the movie screen .\\n1 this version 's no classic like its predecessor , but its pleasures are still plentiful .\\n0 it 's neither as romantic nor as thrilling as it should be .\\n0 if this is the danish idea of a good time , prospective tourists might want to consider a different destination -- some jolly country embroiled in a bloody civil war , perhaps .\\n1 but some unexpected zigs and zags help .\\n1 we can see the wheels turning , and we might resent it sometimes , but this is still a nice little picture , made by bright and friendly souls with a lot of good cheer .\\n1 it is not a mass-market entertainment but an uncompromising attempt by one artist to think about another .\\n1 an irresistible combination of a rousing good story set on a truly grand scale .\\n1 de niro and mcdormand give solid performances , but their screen time is sabotaged by the story 's inability to create interest .\\n0 the master of disaster - it 's a piece of dreck disguised as comedy .\\n1 as weber and weissman demonstrate with such insight and celebratory verve , the cockettes were n't as much about gender , sexual preference or political agitprop as they were simply a triumph of the indomitable human will to rebel , connect and create .\\n1 a psychological thriller with a smart script and an obsessive-compulsive 's attention to detail .\\n1 interacting eyeball-to-eyeball and toe-to-toe , hopkins and norton are a winning combination -- but fiennes steals ` red dragon ' right from under their noses .\\n0 what could and should have been biting and droll is instead a tepid waste of time and talent .\\n0 if you think that jennifer lopez has shown poor judgment in planning to marry ben affleck , wait till you see maid in manhattan .\\n1 a map of the inner rhythms of love and jealousy and sacrifice drawn with a master 's steady stroke .\\n1 there is n't a weak or careless performance amongst them .\\n1 the perfect film for those who like sick comedies that can be snide .\\n0 it virtually defines a comedy that 's strongly mediocre , with funny bits surfacing every once in a while .\\n1 the film benefits greatly from a less manic tone than its predecessor , as cho appears to have settled comfortably into her skin .\\n1 fans of nijinsky will savor every minute of cox 's work .\\n1 novak manages to capture a cruelly hilarious vein of black comedy in the situation with his cast of non-actors and a gritty , no-budget approach .\\n1 what really surprises about wisegirls is its low-key quality and genuine tenderness .\\n1 i enjoyed the ride -lrb- bumps and all -rrb- , creamy depth , and ultimate theme .\\n0 what you get with empire is a movie you 've seen many times before , repackaged as new material because there is a latino in the lead .\\n0 a very average science fiction film .\\n0 it 's a great deal of sizzle and very little steak .\\n0 the film is like a series of beginnings and middles that never take off .\\n0 verbinski substitutes atmosphere for action , tedium for thrills .\\n0 no reason for anyone to invest their hard-earned bucks into a movie which obviously did n't invest much into itself either .\\n0 the charms of willful eccentricity , at least as evidenced by this latest cinematic essay , are beginning to wear a bit thin .\\n0 though everything might be literate and smart , it never took off and always seemed static .\\n0 we miss the quirky amazement that used to come along for an integral part of the ride .\\n1 complex , affecting and uniquely almodóvar , the film evokes strong emotions and pushes viewers to question their deepest notions of moral right and wrong .\\n1 a savvy exploration of paranoia and insecurity in america 's culture of fear .\\n0 while the mystery surrounding the nature of the boat 's malediction remains intriguing enough to sustain mild interest , the picture refuses to offer much accompanying sustenance in the way of characterization , humor or plain old popcorn fun .\\n1 theirs is a simple and heart-warming story , full of mirth that should charm all but the most cynical .\\n0 cho 's fans are sure to be entertained ; it 's only fair in the interest of full disclosure to say that -- on the basis of this film alone -- i 'm not one of them .\\n1 while it would be easy to give crush the new title of two weddings and a funeral , it 's a far more thoughtful film than any slice of hugh grant whimsy .\\n0 while benigni -lrb- who stars and co-wrote -rrb- seems to be having a wonderful time , he might be alone in that .\\n1 smith 's point is simple and obvious -- people 's homes are extensions of themselves , and particularly eccentric people have particularly eccentric living spaces -- but his subjects are charmers .\\n0 divertingly ridiculous , headbangingly noisy .\\n0 extremely boring .\\n1 an impossible romance , but we root for the patronized iranian lad .\\n0 i doubt anyone will remember the picture by the time christmas really rolls around , but maybe it 'll be on video by then .\\n1 eight crazy nights is a showcase for sandler 's many talents .\\n0 too lazy to take advantage of its semi-humorous premise .\\n1 if there 's a way to effectively teach kids about the dangers of drugs , i think it 's in projects like the -lrb- unfortunately r-rated -rrb- paid .\\n0 you 'll be more entertained getting hit by a bus .\\n1 an enjoyable film for the family , amusing and cute for both adults and kids .\\n1 it 's a glorious groove that leaves you wanting more .\\n0 there are touching moments in etoiles , but for the most part this is a dull , dour documentary on what ought to be a joyful or at least fascinating subject .\\n1 more honest about alzheimer 's disease , i think , than iris .\\n0 what 's at stake in this film is nothing more than an obsolete , if irritating , notion of class .\\n0 offensive in the way it exploits the hot-button issue of domestic abuse for cheap thrills and disgusting in the manner it repeatedly puts a small child in jeopardy , treating her as little more than a prop to be cruelly tormented .\\n1 some movies are like a tasty hors-d'oeuvre ; this one is a feast .\\n0 it would n't be my preferred way of spending 100 minutes or $ 7.00 .\\n1 you might not want to hang out with samantha , but you 'll probably see a bit of yourself in her unfinished story .\\n0 a monster combat thriller as impersonal in its relentlessness as the videogame series that inspired it .\\n1 effectively feeds our senses with the chilling sights and sounds from within the camp to create a completely numbing experience .\\n0 life is a crock -- or something like it .\\n1 a richly imagined and admirably mature work from a gifted director who definitely has something on his mind .\\n1 from spiritual rebirth to bruising defeat , vincent 's odyssey resonates in a profound way , comparable to the classic films of jean renoir .\\n1 is n't quite the equal of woo 's best earlier work , but it 's easily his finest american film ... comes close to recapturing the brilliance of his hong kong films .\\n0 the weight of water uses water as a metaphor for subconscious desire , but this leaky script barely stays afloat .\\n0 automatically pegs itself for the straight-to-video sci-fi rental shelf .\\n0 one minute , you think you 're watching a serious actioner ; the next , it 's as though clips from the pink panther strikes again and\\\\/or sailor moon have been spliced in .\\n1 director benoit jacquot , making his first opera-to-film translation with tosca , conveys the heaving passion of puccini 's famous love-jealousy - murder-suicide fandango with great cinematic innovation .\\n0 a boring , wincingly cute and nauseatingly politically correct cartoon guaranteed to drive anyone much over age 4 screaming from the theater .\\n0 never quite transcends jokester status ... and the punchline does n't live up to barry 's dead-eyed , perfectly chilled delivery .\\n0 choppy editing and too many repetitive scenes spoil what could have been an important documentary about stand-up comedy .\\n1 makes an aborbing if arguable case for the man 's greatness .\\n0 an unsatisfying hybrid of blair witch and typical stalk-and-slash fare , where the most conservative protagonist is always the last one living .\\n1 the diversity of the artists represented , both in terms of style and ethnicity , prevents the proceedings from feeling repetitious , as does the appropriately brief 40-minute running time .\\n0 unfortunately , they 're sandwiched in between the most impossibly dry account of kahlo 's life imaginable .\\n0 this extremely unfunny film clocks in at 80 minutes , but feels twice as long .\\n1 it 's like a poem .\\n0 a strong first quarter , slightly less so second quarter , and average second half .\\n0 earnest but earthbound ... a slow , soggy , soporific , visually dank crime melodrama\\\\/character study that would be more at home on the small screen but for its stellar cast .\\n0 it 's as flat as an open can of pop left sitting in the sun .\\n0 a movie far more cynical and lazy than anything a fictitious charlie kaufman might object to .\\n0 a sour , nasty offering .\\n0 everyone connected to this movie seems to be part of an insider clique , which tends to breed formulaic films rather than fresh ones .\\n0 this time kaufman 's imagination has failed him .\\n1 ... breathes surprising new life into the familiar by amalgamating genres and adding true human complexity to its not-so-stock characters . '\\n0 suggests puns about ingredients and soup and somebody being off their noodle , but let 's just say the ingredients do n't quite add up to a meal .\\n1 the movie has an avalanche of eye-popping visual effects .\\n0 this is junk food cinema at its greasiest .\\n1 clever , brutal and strangely soulful movie .\\n0 -lrb- director -rrb- byler may yet have a great movie in him , but charlotte sometimes is only half of one .\\n1 if you liked the 1982 film then , you 'll still like it now .\\n1 a miniscule little bleep on the film radar , but one that many more people should check out\\n0 shamelessly sappy and , worse , runs away from its own provocative theme .\\n1 choose your reaction : a. -rrb- that sure is funny !\\n0 it 's the kind of movie that ends up festooning u.s. art house screens for no reason other than the fact that it 's in french -lrb- well , mostly -rrb- with english subtitles and is magically ` significant ' because of that .\\n1 droll caper-comedy remake of `` big deal on madonna street '' that 's a sly , amusing , laugh-filled little gem in which the ultimate `` bellini '' begins to look like a `` real kaputschnik . ''\\n1 call me a wimp , but i cried , not once , but three times in this animated sweet film .\\n1 japan 's premier stylist of sex and blood hits audiences with what may be his most demented film to date .\\n1 and if the hours wins ` best picture ' i just might .\\n0 another rent installment for the ian fleming estate .\\n0 instead of kicking off the intrigue and suspense and mystery of the whole thing , hart 's war , like the st. louis rams in the super bowl , waits until after halftime to get started .\\n1 murderous maids may well be the most comprehensive of these films and also strike closest to the truth .\\n0 some of seagal 's action pictures are guilty pleasures , but this one is so formulaic that it seems to be on auto-pilot .\\n1 one of the greatest family-oriented , fantasy-adventure movies ever .\\n0 for caine lovers only .\\n0 a trashy , exploitative , thoroughly unpleasant experience .\\n0 opens at a funeral , ends on the protagonist 's death bed and does n't get much livelier in the three hours in between .\\n0 ... surprisingly inert for a movie in which the main character travels back and forth between epochs .\\n1 thrilling , provocative and darkly funny , this timely sci-fi mystery works on so many different levels that it not only invites , it demands repeated viewings .\\n1 farrell ... thankfully manages to outshine the role and successfully plays the foil to willis 's world-weary colonel .\\n1 that zhang would make such a strainingly cute film -- with a blind orphan at its center , no less -- indicates where his ambitions have wandered .\\n1 those who would follow haneke on his creepy explorations ... are rewarded by brutal , committed performances from huppert and magimel .\\n0 but it pays a price for its intricate intellectual gamesmanship .\\n1 a fascinating and fun film .\\n1 the use of cgi and digital ink-and-paint make the thing look really slick .\\n1 a sad , superior human comedy played out on the back roads of life .\\n0 the lack of opposing viewpoints soon grows tiresome -- the film feels more like a series of toasts at a testimonial dinner than a documentary .\\n0 wait for video -- and then do n't rent it .\\n0 remember when bond had more glamour than clamor ?\\n0 -lrb- i -rrb- f you 've been to more than one indie flick in your life , chances are you 've already seen this kind of thing .\\n1 excellent acting and direction .\\n1 a tender and touching drama , based on the true story of a troubled african-american 's quest to come to terms with his origins , reveals the yearning we all have in our hearts for acceptance within the family circle .\\n1 a very funny movie .\\n1 ranks among willams ' best screen work .\\n1 you can feel the heat that ignites this gripping tale , and the humor and humanity that root it in feeling .\\n1 this may not have the dramatic gut-wrenching impact of other holocaust films , but it 's a compelling story , mainly because of the way it 's told by the people who were there .\\n0 these spiders can outrun a motorcycle and wrap a person in a sticky cocoon in seconds , but they fall short of being interesting or entertaining .\\n1 it 's a terrific american sports movie and dennis quaid is its athletic heart .\\n0 there are weird resonances between actor and role here , and they 're not exactly flattering .\\n0 the fight scenes are fun , but it grows tedious .\\n0 considering the harsh locations and demanding stunts , this must have been a difficult shoot , but the movie proves rough going for the audience as well .\\n1 an idealistic love story that brings out the latent 15-year-old romantic in everyone .\\n1 what kids will discover is a new collectible .\\n0 could the whole plan here have been to produce something that makes fatal attraction look like a classic by comparison ?\\n0 even die-hard fans of japanese animation ... will find this one a challenge .\\n1 it 's a brave attempt to tap into the heartbeat of the world , a salute to the universal language of rhythm and a zippy sampling of sounds .\\n1 ford deserves to be remembered at oscar time for crafting this wonderful portrait of a conflicted soldier .\\n1 that rara avis : the intelligent romantic comedy with actual ideas on its mind .\\n0 could the country bears really be as bad as its trailers ?\\n0 while mcfarlane 's animation lifts the film firmly above the level of other coming-of-age films ... it 's also so jarring that it 's hard to get back into the boys ' story .\\n0 when -lrb- de palma 's -rrb- bad , he 's really bad , and femme fatale ranks with the worst he has done .\\n1 behind the snow games and lovable siberian huskies -lrb- plus one sheep dog -rrb- , the picture hosts a parka-wrapped dose of heart .\\n1 a captivating cross-cultural comedy of manners .\\n1 hawke draws out the best from his large cast in beautifully articulated portrayals that are subtle and so expressive they can sustain the poetic flights in burdette 's dialogue .\\n1 a deceivingly simple film , one that grows in power in retrospect .\\n1 dolgin and franco fashion a fascinating portrait of a vietnamese-born youngster who eagerly and easily assimilated as an all-american girl with a brand new name in southern tennessee .\\n1 look , this is a terrific flick replete with dazzling camera-work , dancing and music .\\n1 presents an astute appraisal of middle american musical torpor and the desperate struggle to escape it .\\n0 mocking them now is an exercise in pointlessness .\\n1 this is how you use special effects .\\n0 like its two predecessors , 1983 's koyaanisqatsi and 1988 's powaqqatsi , the cinematic collage naqoyqatsi could be the most navel-gazing film ever .\\n1 what 's most striking about this largely celebratory film ... is the sense of isolation that permeates these bastions of individuality in an ikea world .\\n1 he 's super spy !\\n0 though the book runs only about 300 pages , it is so densely packed ... that even an ambitious adaptation and elaborate production like mr. schepisi 's seems skimpy and unclear .\\n1 i do n't know precisely what to make of steven soderbergh 's full frontal , though that did n't stop me from enjoying much of it .\\n0 has the feel of an unedited personal journal .\\n0 the film takes too long getting to the good stuff , then takes too long figuring out what to do next .\\n1 skip work to see it at the first opportunity .\\n0 ecks this one off your must-see list .\\n1 gosling provides an amazing performance that dwarfs everything else in the film .\\n0 the movie has very little to offer besides unintentional laughs .\\n0 ostensibly celebrates middle-aged girl power , even as it presents friendship between women as pathetic , dysfunctional and destructive .\\n1 the movie will reach far beyond its core demographic .\\n1 so many documentaries like this presuppose religious bigotry or zealous nuttiness of its antagonists , but family fundamentals displays a rare gift for unflinching impartiality .\\n1 smart science fiction for grown-ups , with only a few false steps along the way .\\n1 the movie is one of the best examples of artful large format filmmaking you are likely to see anytime soon .\\n1 merely as a technical , logistical feat , russian ark marks a cinematic milestone .\\n1 but if it is indeed a duty of art to reflect life , than leigh has created a masterful piece of artistry right here .\\n0 not a movie but a live-action agitprop cartoon so shameless and coarse , it 's almost funny .\\n0 murder and mayhem of this sort quickly becomes monotonous .\\n1 even with all those rough edges safely sanded down , the american insomnia is still pretty darned good .\\n0 the reason we keep seeing the same movie with roughly the same people every year is because so many of us keep going and then , out of embarrassment or stupidity , not warning anyone .\\n0 there is not an ounce of honesty in the entire production .\\n0 it 's getting harder and harder to ignore the fact that hollywood is n't laughing with us , folks .\\n0 gee , a second assassin shot kennedy ?\\n0 birot 's directorial debut -lrb- she co-wrote the script with christophe honoré -rrb- is n't so much bad as it is bland .\\n1 as bundy , michael reilly burke -lrb- octopus 2 : river of fear -rrb- has just the right amount of charisma and menace .\\n0 it feels like a community theater production of a great broadway play : even at its best , it will never hold a candle to the original .\\n0 scarlet diva has a voyeuristic tug , but all in all it 's a lot less sensational than it wants to be .\\n0 b. -rrb- that sure is pathetic !\\n0 this pep-talk for faith , hope and charity does little to offend , but if saccharine earnestness were a crime , the film 's producers would be in the clink for life .\\n1 the director , steven shainberg , has succeeded by focusing intently on his characters , making them quirky individuals rather than figures of fun .\\n1 it 's a decent glimpse into a time period , and an outcast , that is no longer accessible , but it does n't necessarily shed more light on its subject than the popular predecessor .\\n0 -lrb- u -rrb- nrelentingly stupid .\\n0 the film makes a tragic error by going on for too long , trying to mirror every subsequent event in chinese history : war , revolution , communism , etc. .\\n1 compelling as it is exotic , fast runner has a plot that rivals shakespeare for intrigue , treachery and murder .\\n1 renner 's performance as dahmer is unforgettable , deeply absorbing .\\n0 big fat liar is just futile silliness looking to tap into the kiddie sensibilities .\\n0 afraid to pitch into farce , yet only half-hearted in its spy mechanics , all the queen 's men is finally just one long drag .\\n0 a painfully leaden film destined for pre-dawn cable television slots .\\n0 it would be hard to think of a recent movie that has worked this hard to achieve this little fun .\\n0 a recipe for cinematic disaster ... part quentin tarantino , part guy ritchie , and part 1960s spy spoof , it 's all bad .\\n1 hands down the year 's most thought-provoking film .\\n0 the furious coherence that -lrb- deniro -rrb- brings to this part only underscores the fuzzy sentimentality of the movie itself , which feels , as it plods toward the end , less like a movie than like the filmed reading of a script in need of polishing .\\n0 you might not buy the ideas .\\n0 looks like a high school film project completed the day before it was due .\\n1 as shaky as the plot is , kaufman 's script is still memorable for some great one-liners .\\n1 not for everyone , but for those with whom it will connect , it 's a nice departure from standard moviegoing fare .\\n1 this road movie gives you emotional whiplash , and you 'll be glad you went along for the ride .\\n0 too stupid to be satire , too obviously hateful to be classified otherwise , frank novak 's irritating slice of lumpen life is as reliably soul-killing as its title is nearly meaningless .\\n0 at times , however , dogtown and z-boys lapses into an insider 's lingo and mindset that the uninitiated may find hard to follow , or care about .\\n1 a compelling journey ... and `` his best friend remembers '' is up there with the finest of specials .\\n1 a real movie , about real people , that gives us a rare glimpse into a culture most of us do n't know .\\n0 after seeing swept away , i feel sorry for madonna .\\n0 but buying into sham truths and routine `` indie '' filmmaking , freundlich has made just another safe movie .\\n0 a clutchy , indulgent and pretentious travelogue and diatribe against ... well , just stuff .\\n0 the vampire thriller blade ii starts off as a wild hoot and then sucks the blood out of its fun -- toward the end , you can feel your veins cringing from the workout .\\n1 what makes the movie a comedy is the way it avoids the more serious emotions involved .\\n0 it 's not horrible , just horribly mediocre .\\n0 the title 's lameness should clue you in on how bad the movie is .\\n0 a gimmick in search of a movie : how to get carvey into as many silly costumes and deliver as many silly voices as possible , plot mechanics be damned .\\n0 nothing about it fits .\\n0 the makers have forsaken the entertaining elements of the original and , instead , rehash old jokes and leave any life at the doorstep .\\n0 ordinary melodrama that is heavy on religious symbols but wafer-thin on dramatic substance\\n1 it 's a good film -- not a classic , but odd , entertaining and authentic .\\n1 a bold and subversive film that cuts across the grain of what is popular and powerful in this high-tech age , speaking its truths with spellbinding imagery and the entrancing music of philip glass .\\n1 it 's rather like a lifetime special -- pleasant , sweet and forgettable .\\n1 must-see viewing for anyone involved in the high-tech industry .\\n1 does what a fine documentary does best : it extends a warm invitation into an unfamiliar world , then illuminates it fully and allows the larger implications of the journey to sink in unobtrusively .\\n0 when the first few villians are introduced as `` spider '' and `` snake '' you know you 're in for a real winner , creativity at its peak .\\n0 this is n't a `` friday '' worth waiting for .\\n0 maybe i found the proceedings a little bit too conventional .\\n0 even the unwatchable soapdish is more original .\\n1 a wildly funny prison caper .\\n1 it 's not exactly a gourmet meal but the fare is fair , even coming from the drive-thru .\\n0 obvious politics and rudimentary animation reduce the chances that the appeal of hey arnold !\\n0 nair stuffs the film with dancing , henna , ornamentation , and group song , but her narrative clichés and telegraphed episodes smell of old soap opera .\\n0 unfortunately , the picture failed to capture me .\\n0 its save-the-planet message clashes with its crass marketing .\\n0 when a film is created solely because it 's a marketable product , soulless and ugly movies like this are the result .\\n1 often hilarious , well-shot and , importantly , entertaining , hell house is a fascinating document of an event that has to be seen to be believed .\\n1 there 's enough science to make it count as educational , and enough beauty to make it unforgettable .\\n0 it 's also heavy-handed and devotes too much time to bigoted views .\\n1 although very much like the first movie based on j.k. rowling 's phenomenal fantasy best sellers , this second go-round possesses a quite pleasing , headlong thrust and a likably delinquent attitude .\\n1 merchant effectively translates naipaul 's lively mix of characters from the page to screen .\\n0 others may find it migraine-inducing , despite moore 's attempts at whimsy and spoon feeding .\\n0 you 've seen them a million times .\\n1 the comic performances are all spot on , especially lee ross 's turn as ken .\\n0 nothing plot-wise is worth e-mailing home about .\\n1 message movie or an action-packed submarine spectacular ?\\n1 disney 's live-action division has a history of releasing cinematic flotsam , but this is one occasion when they have unearthed a rare gem .\\n0 first good , then bothersome .\\n0 adam sandler is to gary cooper what a gnat is to a racehorse .\\n0 even by dumb action-movie standards , ballistic : ecks vs. sever is a dumb action movie .\\n1 if no one singles out any of these performances as award-worthy , it 's only because we would expect nothing less from this bunch .\\n0 ... watching this film nearly provoked me to take my own life .\\n0 but this time there 's some mold on the gold .\\n1 a model of what films like this should be like .\\n0 a soggy , cliche-bound epic-horror yarn that ends up being even dumber than its title .\\n0 -lrb- t -rrb- hose same extremes prevent us from taking its message seriously , and the stepford wives mentality does n't work in a modern context .\\n1 a movie for 11-year-old boys with sports dreams of their own and the preteen girls who worship lil ' bow wow .\\n1 aside from being the funniest movie of the year , simone , andrew niccol 's brilliant anti-hollywood satire , has a wickedly eccentric enchantment to it .\\n1 a fast-moving and remarkable film that appears destined to become a landmark in japanese animation .\\n1 a truly moving experience , and a perfect example of how art -- when done right -- can help heal , clarify , and comfort .\\n1 the hours is what movies are supposed to be ...\\n0 just another fish-out-of-water story that barely stays afloat .\\n1 when it really counts ... bloody sunday connects on a visceral level that transcends language .\\n0 ... with the candy-like taste of it fading faster than 25-cent bubble gum , i realized this is a throwaway movie that wo n't stand the test of time .\\n1 a remarkable 179-minute meditation on the nature of revolution .\\n0 nothing more than a mediocre trifle .\\n1 full of profound , real-life moments that anyone can relate to , it deserves a wide audience .\\n0 you would be better off investing in the worthy emi recording that serves as the soundtrack , or the home video of the 1992 malfitano-domingo production .\\n0 audiences can be expected to suspend their disbelief only so far -- and that does not include the 5 o'clock shadow on the tall wooden kid as he skips off to school .\\n1 a perverse little truffle , dainty psychological terror on the outside with a creamy filling of familial jealousy and unrepentant domestic psychopathy .\\n1 as a randy film about sexy people in gorgeous places being pushed and pulled -lrb- literally and figuratively -rrb- by desire ... -lrb- sex and lucía -rrb- makes for an arousing good time .\\n1 a work of intricate elegance , literary lyricism and profound common sense .\\n1 solid , lump-in-the-throat family entertainment that derives its power by sticking to the facts .\\n1 for all its serious sense of purpose ... -lrb- it -rrb- finds a way to lay bare the tragedies of its setting with a good deal of warmth and humor .\\n1 far from perfect , but its heart is in the right place ... innocent and well-meaning .\\n1 despite its flaws , secretary stays in your head and makes you question your own firmly held positions .\\n1 the film hinges on its performances , and both leads are up to the task .\\n0 the irwins emerge unscathed , but the fictional footage is unconvincing and criminally badly acted .\\n1 it helps that the central performers are experienced actors , and that they know their roles so well .\\n0 the title trapped turns out to be a pretty fair description of how you feel while you 're watching this ultra-manipulative thriller .\\n0 the thriller side of this movie is falling flat , as the stalker does n't do much stalking , and no cop or lawyer grasps the concept of actually investigating the case .\\n0 as with too many studio pics , plot mechanics get in the way of what should be the lighter-than-air adventure .\\n0 it 's an awfully derivative story .\\n0 now it 's a bad , embarrassing movie .\\n0 fails to bring as much to the table .\\n1 sturdy , entertaining period drama ... both caine and fraser have their moments .\\n0 focuses on joan 's raging hormones and sledgehammers the audience with spanish inquisitions about her `` madness '' so much that i became mad that i wasted 123 minutes and $ 9.50 on this 21st century torture device .\\n1 there are moments in this account of the life of artist frida kahlo that are among cinema 's finest this year .\\n1 dark , resonant , inventively detailed and packed with fleet turns of plot and a feast of visual amazement .\\n1 narc may not get an ` a ' for originality , but it wears its b-movie heritage like a badge of honor .\\n1 the story may not be new , but australian director john polson , making his american feature debut , jazzes it up adroitly .\\n1 i admired it , particularly that unexpected downer of an ending .\\n0 a tv episode inflated past its natural length .\\n1 zany , exuberantly irreverent animated space adventure .\\n0 the creaking , rusty ship makes a fine backdrop , but the ghosts ' haunting is routine .\\n1 it 's not so much enjoyable to watch as it is enlightening to listen to new sides of a previous reality , and to visit with some of the people who were able to make an impact in the theater world .\\n1 celebrated at sundance , this slight comedy of manners has winning performances and a glossy , glib charm that 's hard to beat .\\n1 -lrb- davis -rrb- has a bright , chipper style that keeps things moving , while never quite managing to connect her wish-fulfilling characters to the human race .\\n0 enough trivializes an important crisis , reduces it to an almost comic embarrassment .\\n1 the film is an enjoyable family film -- pretty much aimed at any youngster who loves horses .\\n0 watching trouble every day , at least if you do n't know what 's coming , is like biting into what looks like a juicy , delicious plum on a hot summer day and coming away with your mouth full of rotten pulp and living worms .\\n1 rarely do films come along that are as intelligent , exuberant , and moving as monsoon wedding .\\n1 the laser-projected paintings provide a spell-casting beauty , while russell and dreyfus are a romantic pairing of hearts , preciously exposed as history corners them .\\n0 there are a few laughs and clever sight gags scattered about , but not enough to make this anything more than another big-budget bust .\\n1 a thoughtful look at a painful incident that made headlines in 1995 .\\n0 an intermittently pleasing but mostly routine effort .\\n0 the film has a few cute ideas and several modest chuckles but it is n't exactly kiddie-friendly ... alas , santa is more ho-hum than ho-ho-ho and the snowman -lrb- who never gets to play that flute -rrb- has all the charm of a meltdown .\\n0 marisa tomei is good , but just a kiss is just a mess .\\n1 as teen movies go , `` orange county '' is a refreshing change\\n1 attal mixes comedy with a serious exploration of ego and jealousy within a seemingly serene marriage .\\n0 with a story inspired by the tumultuous surroundings of los angeles , where feelings of marginalization loom for every dreamer with a burst bubble , the dogwalker has a few characters and ideas , but it never manages to put them on the same path .\\n0 a mostly tired retread of several other mob tales .\\n0 flaunts its quirky excesses like a new year 's eve drunk sporting a paper party hat .\\n0 lame , haphazard teen comedy .\\n1 somewhat blurred , but kinnear 's performance is razor sharp .\\n0 ... fifty minutes of tedious adolescent melodramatics followed by thirty-five minutes of inflated nonsense .\\n0 no number of fantastic sets , extras , costumes and spectacular locales can disguise the emptiness at the center of the story .\\n1 a slick , skillful little horror film .\\n1 there are as many misses as hits , but ultimately , it finds humor in the foibles of human behavior , and it 's a welcome return to the roots of a genre that should depend on surprises .\\n1 more a load of enjoyable , conan-esque claptrap than the punishing , special-effects soul assaults the mummy pictures represent .\\n1 on the surface , it 's a lovers-on-the-run crime flick , but it has a lot in common with piesiewicz 's and kieslowski 's earlier work , films like the double life of veronique .\\n0 in the end , punch-drunk love is one of those films that i wanted to like much more than i actually did .\\n1 it helps that lil bow wow ... tones down his pint-sized gangsta act to play someone who resembles a real kid .\\n1 finds a way to tell a simple story , perhaps the simplest story of all , in a way that seems compelling and even original .\\n0 most of the supporting characters in eastwood films are weak , as are most of the subplots .\\n0 began life as a computer game , then morphed into a movie -- a bad one , of course .\\n1 it 's a beautifully accomplished lyrical meditation on a bunch of despondent and vulnerable characters living in the renown chelsea hotel ...\\n0 much of what is meant to be ` inspirational ' and ` uplifting ' is simply distasteful to audiences not already sharing -lrb- the movie 's -rrb- mindset .\\n1 but based on cq , i 'll certainly be keeping an eye out for his next project .\\n1 disturbing and brilliant documentary .\\n0 chaotic , self-indulgent and remarkably ugly to look at , it 's ... like a series of pretentiously awful student films strung together into one feature-length horror .\\n1 windtalkers celebrates the human spirit and packs an emotional wallop .\\n1 what it lacks in originality it makes up for in intelligence and b-grade stylishness .\\n1 an exciting and involving rock music doc , a smart and satisfying look inside that tumultuous world .\\n0 the lack of pace kills it , although , in a movie about cancer , this might be apt .\\n0 alas , it 's neither .\\n0 ... this movie has a glossy coat of action movie excess while remaining heartless at its core .\\n0 men in black ii has sequel-itis something fierce .\\n1 not too far below the gloss you can still feel director denis villeneuve 's beating heart and the fondness he has for his characters .\\n1 it 's astonishing .\\n1 a film that takes you inside the rhythms of its subject : you experience it as you watch .\\n1 a resonant tale of racism , revenge and retribution .\\n1 a mostly intelligent , engrossing and psychologically resonant suspenser .\\n0 between bedroom scenes , viewers may find themselves wishing they could roll over and take a nap .\\n0 the central story lacks punch .\\n0 not every animated film from disney will become a classic , but forgive me if i 've come to expect more from this studio than some 79-minute after-school `` cartoon '' .\\n0 a didactic and dull documentary glorifying software anarchy .\\n1 a well-made thriller with a certain level of intelligence and non-reactionary morality .\\n1 if you 're like me , a sucker for a good old fashion romance and someone who shamelessly loves to eat , then mostly martha offers all the perfect ingredients to more than satisfy your appetite .\\n0 all in all , there 's only one thing to root for : expulsion for everyone .\\n0 it 's never a good sign when a film 's star spends the entirety of the film in a coma .\\n1 we need -lrb- moore 's -rrb- noisy , cocky energy , his passion and class consciousness ; we need his shticks , we need his stones .\\n1 roman coppola may never become the filmmaker his dad was , but heck -- few filmmakers will .\\n1 gets under the skin of a man who has just lost his wife .\\n0 national lampoon 's van wilder could be the worst thing to come out of national lampoon since class reunion\\n0 the acting by the over-25s lacks spark , with csokas particularly unconnected .\\n1 -lrb- broomfield -rrb- uncovers a story powerful enough to leave the screen sizzling with intrigue .\\n1 it 's the kind of pigeonhole-resisting romp that hollywood too rarely provides .\\n0 has a plot full of twists upon knots ... and a nonstop parade of mock-tarantino scuzbag types that starts out clever but veers into overkill .\\n0 there 's nothing provocative about this film save for the ways in which it studiously avoids provoking thought .\\n1 a gentle blend of present day testimonials , surviving footage of burstein and his family performing , historical archives , and telling stills .\\n0 -lrb- it 's -rrb- a prison soccer movie starring charismatic tough guy vinnie jones , but it had too much spitting for me to enjoy .\\n1 there are slow and repetitive parts , but it has just enough spice to keep it interesting .\\n0 rambles on in a disjointed , substandard fashion from one poorly executed action sequence to the next .\\n0 if this is satire , it 's the smug and self-congratulatory kind that lets the audience completely off the hook .\\n1 here , adrian lyne comes as close to profundity as he is likely to get .\\n1 jagger the actor is someone you want to see again .\\n1 the level of maturity displayed by this 33-year-old first-time feature director is astonishing , considering her inexperience and her subject matter .\\n0 murder by numbers is like a couple of mediocre tv-movie - of-the-week films clumsily stuck together .\\n1 but in imax 3-d , the clichés disappear into the vertiginous perspectives opened up by the photography .\\n0 there 's more scatological action in 8 crazy nights than a proctologist is apt to encounter in an entire career .\\n0 the two leads chomp considerably more scenery with their acting than fire-breathing monsters barbecue with their breath ...\\n1 ... a roller-coaster ride of a movie\\n0 just like hearst 's enormous yacht , it 's slow and unwieldy and takes a long time to reach its destination .\\n1 tsai ming-liang has taken his trademark style and refined it to a crystalline point .\\n0 god help the poor woman if attal is this insecure in real life : his fictional yvan 's neuroses are aggravating enough to exhaust the patience of even the most understanding spouse .\\n1 the film is surprisingly well-directed by brett ratner , who keeps things moving well -- at least until the problematic third act .\\n1 the story feels more like a serious read , filled with heavy doses of always enticing sayles dialogue .\\n1 the hours makes you examine your own life in much the same way its characters do , and the experience is profound .\\n1 hugh grant and sandra bullock are two such likeable actors .\\n1 in its ragged , cheap and unassuming way , the movie works .\\n0 while the film misfires at every level , the biggest downside is the paucity of laughter in what 's supposed to be a comedy .\\n1 i love the way that it took chances and really asks you to take these great leaps of faith and pays off .\\n0 lacks heart , depth and , most of all , purpose .\\n0 oedekerk wrote patch adams , for which he should not be forgiven .\\n0 with a story as bizarre and mysterious as this , you do n't want to be worrying about whether the ineffectual broomfield is going to have the courage to knock on that door .\\n0 marries the amateurishness of the blair witch project with the illogic of series 7 : the contenders to create a completely crass and forgettable movie .\\n1 the movie 's eventual success should be credited to dennis quaid , in fighting trim shape as an athlete as well as an actor\\n0 the actors do n't inhabit their roles -- they 're trapped by them , forced to change behavior in bizarre unjustified fashion and spout dialog that consists mostly of platitudes .\\n0 strong setup and ambitious goals fade as the film descends into unsophisticated scare tactics and b-film thuggery .\\n0 vile and tacky are the two best adjectives to describe ghost ship .\\n1 bow 's best moments are when he 's getting busy on the basketball court because that 's when he really scores .\\n0 a movie that tries to fuse the two ` woods ' but winds up a bolly-holly masala mess .\\n0 but that 's just the problem with it - the director has n't added enough of his own ingredients .\\n1 who knows what exactly godard is on about in this film , but his words and images do n't have to add up to mesmerize you .\\n0 it becomes gimmicky instead of compelling .\\n0 sets up a nice concept for its fiftysomething leading ladies , but fails loudly in execution .\\n0 undone by its overly complicated and derivative screenplay , the glacier-paced direction and the stereotypical characters .\\n0 some , like ballistic , arrive stillborn ... looking like the beaten , well-worn video box cover of seven years into the future .\\n0 the sort of movie that gives tastelessness a bad rap .\\n0 this time out , -lrb- sade -rrb- is an unsettlingly familiar figure -- in turns loyal and deceitful , responsible and reckless , idealistically selfless and coldly self-interested .\\n1 a pleasant romantic comedy .\\n0 the director 's twitchy sketchbook style and adroit perspective shifts grow wearisome amid leaden pacing and indifferent craftsmanship -lrb- most notably wretched sound design -rrb- .\\n1 must be seen to be believed .\\n1 ... a poignant and powerful narrative that reveals that reading writing and arithmetic are not the only subjects to learn in life .\\n1 this is a film brimming with detail and nuance and one that speaks volumes about the ability of the human spirit to find solace in events that could easily crush it forever .\\n0 birot is a competent enough filmmaker , but her story has nothing fresh or very exciting about it .\\n1 it 's a minor comedy that tries to balance sweetness with coarseness , while it paints a sad picture of the singles scene .\\n0 it delivers some chills and sustained unease , but flounders in its quest for deeper meaning .\\n0 shot perhaps ` artistically ' with handheld cameras and apparently no movie lights by joaquin baca-asay , the low-budget production swings annoyingly between vertigo and opacity .\\n0 it 's painful .\\n0 a simple , sometimes maddeningly slow film that has just enough charm and good acting to make it interesting , but is ultimately pulled under by the pacing and lack of creativity within .\\n1 as blunt as it is in depicting child abuse , el bola is a movie steeped in an ambiguity that lends its conflicts a symbolic resonance .\\n1 morton is , as usual , brilliant .\\n0 the picture is a primer on what happens when lack of know-how mixes with lack of give-a-damn .\\n0 ... a weak , manipulative , pencil-thin story that is miraculously able to entertain anyway .\\n1 what could have become just another cautionary fable is allowed to play out as a clever , charming tale -- as pleasantly in its own way as its self-dramatizing characters .\\n1 culkin , who 's in virtually every scene , shines as a young man who uses sarcastic lies like a shield .\\n1 for anyone who remembers the '60s or is interested in one man 's response to stroke , ram dass : fierce grace is worth seeking out .\\n0 falters when it takes itself too seriously and when it depends too heavily on its otherwise talented cast to clown in situations that are n't funny .\\n0 it wo n't be long before you 'll spy i spy at a video store near you .\\n1 an engaging overview of johnson 's eccentric career .\\n0 proof that a thriller can be sleekly shot , expertly cast , paced with crisp professionalism ... and still be a letdown if its twists and turns hold no more surprise than yesterday 's weather report .\\n1 the movie stays afloat thanks to its hallucinatory production design .\\n0 this goofy gangster yarn never really elevates itself from being yet another earnestly generic crime-busting comic vehicle -- a well-intentioned remake that shows some spunk and promise but fails to register as anything distinctive or daring\\n0 sorry , charlie\\n1 it 's a hoot and a half , and a great way for the american people to see what a candidate is like when he 's not giving the same 15-cent stump speech .\\n1 in scope , ambition and accomplishment , children of the century ... takes kurys ' career to a whole new level .\\n0 the sad thing about knockaround guys is its lame aspiration for grasping the coolness vibes when in fact the film is n't as flippant or slick as it thinks it is .\\n0 the more kevin costner rests on his pretty-boy laurels , the public is , regrettably , going to have tepid films like dragonfly tossed at them .\\n0 ... -lrb- a -rrb- strained comedy that jettisons all opportunities for rock to make his mark by serving up the usual chaotic nonsense .\\n0 blessed with immense physical prowess he may well be , but ahola is simply not an actor .\\n0 another big , dumb action movie in the vein of xxx , the transporter is riddled with plot holes big enough for its titular hero to drive his sleek black bmw through .\\n0 nothing denis has made before , like beau travil and nenette et boni , could prepare us for this gory , perverted , sex-soaked riff on the cannibal genre .\\n1 led by griffin 's smartly nuanced performance and enthusiasm , the cast has a lot of fun with the material .\\n0 it 's frustrating to see these guys -- who are obviously pretty clever -- waste their talent on parodies of things they probably thought were funniest when they were high .\\n0 i watched the brainless insanity of no such thing with mounting disbelief .\\n0 the angst-ridden , affluent slacker characters are more grating than engaging .\\n1 he just wants them to be part of the action , the wallpaper of his chosen reality .\\n1 the movie 's ripe , enrapturing beauty will tempt those willing to probe its inscrutable mysteries .\\n0 like so many other allegedly scary movies , it gets so tangled up in the twist that it chokes the energy right out of the very audience it seeks to frighten .\\n1 is n't it great ?\\n1 enormously likable , partly because it is aware of its own grasp of the absurd .\\n1 this is as powerful a set of evidence as you 'll ever find of why art matters , and how it can resonate far beyond museum walls and through to the most painfully marginal lives .\\n0 guillen rarely gets beneath the surface of things .\\n1 the film is exhilarating to watch because sandler , liberated from the constraints of formula , reveals unexpected depths as an actor .\\n1 ranging from funny to shattering and featuring some of the year 's best acting , personal velocity gathers plenty of dramatic momentum .\\n1 the film is faithful to what one presumes are the book 's twin premises -- that we become who we are on the backs of our parents , but we have no idea who they were at our age ; and that time is a fleeting and precious commodity no matter how old you are .\\n0 some decent actors inflict big damage upon their reputations .\\n0 human nature talks the talk , but it fails to walk the silly walk that distinguishes the merely quirky from the surreal .\\n0 does n't amount to much of anything .\\n1 huppert gives erika a persona that is so intriguing that you find yourself staring hypnotically at her , trying to understand her and wondering if she 'll crack .\\n1 an exceedingly clever piece of cinema .\\n1 lead provocatuers testud and parmentier give superlative performances\\n0 apallingly absurd ... the chemistry or lack thereof between newton and wahlberg could turn an imax theater into a 9 '' black and white portable tv .\\n0 meandering , sub-aquatic mess : it 's so bad it 's good , but only if you slide in on a freebie .\\n1 rather quickly , the film falls into a soothing formula of brotherly conflict and reconciliation .\\n0 when the painted backdrops in a movie are more alive than its characters , you know you 're in trouble .\\n0 this overproduced and generally disappointing effort is n't likely to rouse the rush hour crowd .\\n1 having never been a huge fan of dickens ' 800-page novel , it surprised me how much pleasure i had watching mcgrath 's version .\\n0 the noble tradition of men in drag hits an all-time low in sorority boys , whose makers apparently believe that women 's clothing can cover up any deficiency in acting , writing or direction .\\n0 if you collected all the moments of coherent dialogue , they still would n't add up to the time required to boil a four - minute egg .\\n0 the problem with this film is that it 's forced to make its characters idiots in order to advance the plot .\\n0 it 's disappointing when filmmakers throw a few big-name actors and cameos at a hokey script .\\n0 the story is naturally poignant , but first-time screenwriter paul pender overloads it with sugary bits of business .\\n0 so lazy and slipshod it confuses the mere flashing of kinky soft-core imagery with naughty fun .\\n1 a love for films shines through each frame and the era is recreated with obvious affection , scored to perfection with some tasty boogaloo beats .\\n0 i tried to read the time on my watch .\\n0 writer\\\\/director john mckay ignites some charming chemistry between kate and jed but , when he veers into sodden melodrama , punctuated by violins , it 's disastrous and kate 's jealous female friends become downright despicable .\\n0 the movie takes itself too seriously and , as a result , it makes for only intermittent fun .\\n1 i like frank the pug , though .\\n0 an overstuffed compendium of teen-catholic-movie dogma .\\n1 an involving true story of a chinese actor who takes up drugs and winds up in an institution -- acted mostly by the actual people involved .\\n0 nearly surreal , dabbling in french , this is no simple movie , and you 'll be taking a risk if you choose to see it .\\n0 would seem to have a lock on the title of ugliest movie of the year .\\n1 an incendiary , deeply thought-provoking look at one of the most peculiar -lrb- and peculiarly venomous -rrb- bigotries in our increasingly frightening theocracy\\n1 lee jeong-hyang tells it so lovingly and films it so beautifully that i could n't help being captivated by it .\\n1 the episodic film makes valid points about the depersonalization of modern life .\\n1 it 's almost impossible not to be moved by the movie 's depiction of sacrifice and its stirring epilogue in post-soviet russia .\\n1 though the film 's scenario is certainly not earthshaking , this depiction of fluctuating female sexuality has two winning lead performances and charm to spare .\\n1 kinnear gives a tremendous performance .\\n1 perhaps no picture ever made has more literally showed that the road to hell is paved with good intentions .\\n0 dull , if not devoid of wit , this shaggy dog longs to frisk through the back alleys of history , but scarcely manages more than a modest , snoozy charm .\\n1 ... both hokey and super-cool , and definitely not in a hurry , so sit back , relax and have a few laughs while the little ones get a fuzzy treat . '\\n1 windtalkers blows this way and that , but there 's no mistaking the filmmaker in the tall grass , true to himself .\\n1 an intriguing and entertaining introduction to johnson .\\n0 ray liotta and jason patric do some of their best work in their underwritten roles , but do n't be fooled : nobody deserves any prizes here .\\n0 sushi for the connoisseurs of the macabre .\\n1 it further declares its director , zhang yang of shower , as a boldly experimental , contemporary stylist with a bright future .\\n0 the only way this supernatural snore-fest could give anyone a case of the frights is if they were put to sleep by the movie and had a nightmare .\\n1 although it bangs a very cliched drum at times , this crowd-pleaser 's fresh dialogue , energetic music , and good-natured spunk are often infectious .\\n1 claude miller airs out a tight plot with an easy pace and a focus on character drama over crime-film complications .\\n0 to imagine the life of harry potter as a martial arts adventure told by a lobotomized woody allen is to have some idea of the fate that lies in store for moviegoers lured to the mediocrity that is kung pow : enter the fist .\\n1 the film is just a big , gorgeous , mind-blowing , breath-taking mess .\\n1 daughter from danang is a film that should be seen by all , especially those who are n't aware of , or have forgotten about the unmentioned victims of war .\\n1 it 's also the year 's sweetest movie .\\n1 this is such a high-energy movie where the drumming and the marching are so excellent , who cares if the story 's a little weak .\\n1 a whole lot foul , freaky and funny .\\n1 there are a few stabs at absurdist comedy ... but mostly the humor is of the sweet , gentle and occasionally cloying kind that has become an iranian specialty .\\n0 for me , this opera is n't a favorite , so it 's a long time before the fat lady sings .\\n0 a 93-minute condensation of a 26-episode tv series , with all of the pitfalls of such you 'd expect .\\n0 and in truth , cruel as it may sound , he makes arnold schwarzenegger look like spencer tracy .\\n0 given that both movies expect us to root for convicted violent felons over those assigned to protect us from same , we need every bit of sympathy the cons can muster ; this time , there is n't much .\\n1 `` antwone fisher '' is an earnest , by-the-numbers effort by washington .\\n1 succeeds in providing a disquiet world the long-dreaded completion of the police academy series .\\n0 if you 're not the target demographic ... this movie is one long chick-flick slog .\\n0 the actors are forced to grapple with hazy motivations that never come into focus .\\n0 the best you can say about it is it 's so uninspired , it barely gives one pause when considering some of the other dreck out there right now .\\n1 by presenting an impossible romance in an impossible world , pumpkin dares us to say why either is impossible -- which forces us to confront what 's possible and what we might do to make it so .\\n1 after making several adaptations of other writers ' work , armenian-canadian director atom egoyan broached an original treatment of a deeply personal subject .\\n0 all the necessary exposition prevents the picture from rising above your generic sand 'n' sandal adventure .\\n0 audiences will find no mention of political prisoners or persecutions that might paint the castro regime in less than saintly tones .\\n0 ... just a big mess of a movie , full of images and events , but no tension or surprise .\\n0 i kept wishing i was watching a documentary about the wartime navajos and what they accomplished instead of all this specious hollywood hoo-ha .\\n1 the film delivers not just the full assault of reno 's immense wit and insight , but a time travel back to what it felt like during those unforgettably uncertain days .\\n0 one groan-inducing familiarity begets another .\\n0 john mctiernan 's botched remake may be subtler than norman jewison 's 1975 ultraviolent futuristic corporate-sports saga .\\n1 an earnest , heartrending look at the divide between religious fundamentalists and their gay relatives .\\n1 a pleasurably jacked-up piece of action moviemaking .\\n0 but an unwillingness to explore beyond the surfaces of her characters prevents nettelbeck 's film from coming together .\\n0 too clunky and too busy ribbing itself to be truly entertaining .\\n0 the enormous comic potential of an oafish idiot impersonating an aristocrat remains sadly unrealized .\\n1 everywhere the camera looks there is something worth seeing .\\n1 the best thing the film does is to show us not only what that mind looks like , but how the creative process itself operates .\\n1 a modest pleasure that accomplishes its goals with ease and confidence .\\n1 one of the best examples of how to treat a subject , you 're not fully aware is being examined , much like a photo of yourself you did n't know was being taken .\\n1 mixes likeable personalities , inventive photography and cutting , and wall-to-wall toe-tapping music to paint a picture of a subculture that is at once exhilarating , silly , perverse , hopeful and always fun .\\n0 but i was n't .\\n1 though of particular interest to students and enthusiast of international dance and world music , the film is designed to make viewers of all ages , cultural backgrounds and rhythmic ability want to get up and dance .\\n0 a silly , self-indulgent film about a silly , self-indulgent filmmaker .\\n1 most impressive , though , is the film 's open-ended finale that refuses to entirely close its characters ' emotional wounds .\\n0 it 's a movie forged in the fires of chick flick hell .\\n0 it 's fairly self-aware in its dumbness .\\n1 credit must be given to harland williams , michael rosenbaum and barry watson , who inject far more good-natured spirit and talent into this project than it deserves\\n0 the piano teacher is the sort of movie that discourages american audiences from ever wanting to see another foreign film .\\n0 watching it is rather like viewing a long soap opera in which only the first episode was any good .\\n1 a simmering psychological drama in which the bursts of sudden violence are all the more startling for the slow buildup that has preceded them .\\n1 there 's a disreputable air about the whole thing , and that 's what makes it irresistible .\\n1 a pleasant ramble through the sort of idoosyncratic terrain that errol morris has often dealt with ... it does possess a loose , lackadaisical charm .\\n1 this is one of the most visually stunning and thematically moving epics in recent memory , and in spite of numerous minor flaws , scorsese 's best in more than a decade .\\n1 for a good chunk of its running time , trapped is an effective and claustrophobic thriller .\\n1 full frontal is the antidote for soderbergh fans who think he 's gone too commercial since his two oscar nominated films in 2000\\n0 even the imaginative gore ca n't hide the musty scent of todd farmer 's screenplay , which is a simple retread of the 1979 alien , with a plucky heroine battling a monster loose in a spaceship .\\n1 as if to prove a female director can make a movie with no soft edges , kathryn bigelow offers no sugar-coating or interludes of lightness .\\n0 the filmmakers juggle and juxtapose three story lines but fail to come up with one cogent point , unless it 's that life stinks , especially for sensitive married women who really love other women .\\n0 made by jackasses for jackasses .\\n0 if melville is creatively a great whale , this film is canned tuna .\\n0 pretentious editing ruins a potentially terrific flick .\\n0 topkapi this is not .\\n1 but he somehow pulls it off .\\n0 bartleby is a one-joke movie , and a bad joke at that .\\n1 it is risky , intelligent , romantic and rapturous from start to finish .\\n1 a worthwhile way to spend two hours .\\n0 never again swings between false sentiment and unfunny madcap comedy and , along the way , expects the audience to invest in the central relationship as some kind of marriage of true minds .\\n1 two generations within one family test boundaries in this intelligent and restrained coming-of-age drama .\\n1 -lrb- gai -rrb- comes closer to any actress i can remember to personifying independence in its purest and , yes , most intimidating form .\\n1 a broadly played , lowbrow comedy in which the cast delivers mildly amusing performances and no farm animals were injured by any of the gags .\\n0 filmmakers have to dig deep to sink this low .\\n0 then lower them a bit more .\\n0 i cry for i spy -- or i would if this latest and laziest imaginable of all vintage-tv spinoffs were capable of engendering an emotional response of any kind .\\n0 a very bad sign .\\n0 well , it does go on forever .\\n0 this is n't just the cliffsnotes version of nicholas nickleby , it 's the cliffsnotes with pages missing .\\n1 it 's all very cute , though not terribly funny if you 're more than six years old .\\n0 fortunately for all involved , this movie is likely to disappear as quickly as an ice cube thrown into a pot of boiling water .\\n0 guided more by intellect than heart , his story flattens instead of sharpens .\\n1 it 's an old story , but a lively script , sharp acting and partially animated interludes make just a kiss seem minty fresh .\\n0 it 's the kind of movie you ca n't quite recommend because it is all windup and not much of a pitch , yet you ca n't bring yourself to dislike it .\\n1 an excellent romp that boasts both a heart and a mind .\\n0 john leguizamo may be a dramatic actor -- just not in this movie .\\n1 tender yet lacerating and darkly funny fable .\\n1 this delicately observed story , deeply felt and masterfully stylized , is a triumph for its maverick director .\\n0 a generation x artifact , capturing a brief era of insanity in the sports arena that surely can not last .\\n0 the film 's center will not hold .\\n1 it is far from the worst , thanks to the topical issues it raises , the performances of stewart and hardy , and that essential feature -- a decent full-on space battle .\\n0 it 's also stupider .\\n0 none of these characters resembles anyone you 've ever met in real life , unless you happen to know annoyingly self-involved people who speak in glib sentences that could have only come from the pen of a screenwriter .\\n1 sensitive , insightful and beautifully rendered film .\\n1 a bowel-curdling , heart-stopping recipe for terror .\\n0 although based on a real-life person , john , in the movie , is a rather dull person to be stuck with for two hours .\\n0 ` abandon all hope , ye who enter here ' ... you should definitely let dante 's gloomy words be your guide .\\n0 an ultra-low-budget indie debut that smacks more of good intentions than talent .\\n0 there 's not enough to sustain the comedy .\\n0 fairly successful at faking some pretty cool stunts but a complete failure at trying to create some pretty cool characters .\\n0 the film is really not so much bad as bland .\\n0 schmaltzy and unfunny , adam sandler 's cartoon about hanukkah is numbingly bad , little nicky bad , 10 worst list bad .\\n1 a vivid cinematic portrait .\\n1 it 's a refreshing change from the self-interest and paranoia that shape most american representations of castro .\\n1 the bourne identity is what summer screen escapism used to be in the decades when it was geared more to grownups .\\n1 it could change america , not only because it is full of necessary discussion points , but because it is so accessible that it makes complex politics understandable to viewers looking for nothing but energetic entertainment .\\n0 frenetic but not really funny .\\n1 sandra nettelbeck beautifully orchestrates the transformation of the chilly , neurotic , and self-absorbed martha as her heart begins to open .\\n0 it 's a film that hinges on its casting , and glover really does n't fit the part .\\n0 ritchie 's treatment of the class reversal is majorly ham-fisted , from the repetitive manifestos that keep getting thrown in people 's faces to the fact amber is such a joke .\\n1 this is such a dazzlingly self-assured directorial debut that it 's hard to know what to praise first .\\n0 apparently kissing leads to suicide attempts and tragic deaths .\\n1 andy garcia enjoys one of his richest roles in years and mick jagger gives his best movie performance since , well , performance .\\n1 -lrb- anderson -rrb- uses a hit-or-miss aesthetic that hits often enough to keep the film entertaining even if none of it makes a lick of sense .\\n1 this is a startling film that gives you a fascinating , albeit depressing view of iranian rural life close to the iraqi border .\\n0 this film looks like it was produced in 1954 , shelved for 48 years , and repackaged for a 2002 audience .\\n1 dazzling and sugar-sweet , a blast of shallow magnificence that only sex , scandal , and a chorus line of dangerous damsels can deliver .\\n1 from the big giant titles of the opening credits to elmer bernstein 's perfectly melodic score , haynes gets just about everything right .\\n0 watching it is rather like an overlong visit from a large group of your relatives .\\n1 as the story moves inexorably through its seven day timeframe , the picture becomes increasingly mesmerizing .\\n1 working from elliott 's memoir , rohmer fashions the sort of delicate , articulate character - and - relationship study he 's favored for decades .\\n1 watching scarlet diva , one is poised for titillation , raw insight or both .\\n0 intended to be a comedy about relationships , this wretched work falls flat in just about every conceivable area .\\n1 -lrb- a -rrb- rare , beautiful film .\\n0 ... the film falls back on the same old formula of teen sex , outrageous pranks and scenes designed to push the envelope of bad taste for laughs .\\n0 suffocated at conception by its munchausen-by-proxy mum .\\n1 while not all transitions to adulthood are so fraught , there 's much truth and no small amount of poetry in girls ca n't swim .\\n0 opens as promising as any war\\\\/adventure film you 'll ever see and dissolves into a routine courtroom drama , better suited for a movie titled `` glory : a soldier 's story . ''\\n1 it 's -lrb- ricci 's -rrb- best work yet , this girl-woman who sincerely believes she can thwart the world 's misery with blind good will .\\n0 this may be the dumbest , sketchiest movie on record about an aspiring writer 's coming-of-age .\\n1 evokes a little of the fear that parents have for the possible futures of their children -- and the sometimes bad choices mothers and fathers make in the interests of doing them good .\\n1 as expected , sayles ' smart wordplay and clever plot contrivances are as sharp as ever , though they may be overshadowed by some strong performances .\\n0 too bad the former murphy brown does n't pop reese back .\\n1 it 's predictable , but it jumps through the expected hoops with style and even some depth .\\n1 george clooney proves he 's quite a talented director and sam rockwell shows us he 's a world-class actor with confessions of a dangerous mind .\\n1 ... mesmerizing , an eye-opening tour of modern beijing culture in a journey of rebellion , retreat into oblivion and return .\\n1 the film is painfully authentic , and the performances of the young players are utterly convincing .\\n1 a potent allegorical love story .\\n1 provides an intriguing window into the imagination and hermetic analysis of todd solondz .\\n1 it 's endearing to hear madame d. refer to her husband as ` jackie ' -- and he does make for excellent company , not least as a self-conscious performer .\\n0 so few movies explore religion that it 's disappointing to see one reduce it to an idea that fits in a sampler .\\n0 needless to say , the dramatics that follow are utter hooey .\\n0 calling this movie brainless would be paying it a compliment : it 's more like entertainment for trolls .\\n1 it is a kickass , dense sci-fi action thriller hybrid that delivers and then some .\\n1 it 's a movie -- and an album -- you wo n't want to miss .\\n0 now , if it only had a brain .\\n1 a budget affair that exposes the generally sad existence of the bedouins while providing a precious twinkle of insight into their lives .\\n0 like a south-of-the-border melrose place .\\n1 it 's a bittersweet and lyrical mix of elements .\\n0 this series should have died long ago , but they keep bringing it back another day as punishment for paying money to see the last james bond movie .\\n1 fans of behan 's work and of irish movies in general will be rewarded by borstal boy .\\n1 everytime you think undercover brother has run out of steam , it finds a new way to surprise and amuse .\\n1 a startling and fresh examination of how the bike still remains an ambiguous icon in chinese society .\\n1 although it 's a bit smug and repetitive , this documentary engages your brain in a way few current films do .\\n0 watching haneke 's film is , aptly enough , a challenge and a punishment .\\n0 once the audience figure out what 's being said , the filmmaker 's relative passivity will make it tough for them to really care .\\n0 but like bruce springsteen 's gone-to-pot asbury park , new jersey , this sad-sack waste of a movie is a city of ruins .\\n1 stay clear of reminding yourself that it 's a `` true story '' and you 're likely to have one helluva time at the movies .\\n0 so routine , familiar and predictable , it raises the possibility that it wrote itself as a newly automated final draft computer program .\\n1 in the process , they demonstrate that there 's still a lot of life in hong kong cinema .\\n1 though mama takes a bit too long to find its rhythm and a third-act plot development is somewhat melodramatic , its ribald humor and touching nostalgia are sure to please anyone in search of a jules and jim for the new millennium .\\n1 it 's absolutely spooky how lillard channels the shagster right down to the original casey kasem-furnished voice .\\n0 like those to rome , all roads in the banger sisters inevitably lead to a joke about hawn 's breasts , which constantly threaten to upstage the woman sporting them .\\n1 a provocative movie about loss , anger , greed , jealousy , sickness and love .\\n1 its scenes and sensibility are all more than familiar , but it exudes a kind of nostalgic spy-movie charm and , at the same time , is so fresh and free of the usual thriller nonsense that it all seems to be happening for the first time .\\n0 a soggy , shapeless mess ... just a dumb excuse for a waterlogged equivalent of a haunted-house movie .\\n0 there 's an audience for it , but it could have been funnier and more innocent .\\n1 achieves a sort of filmic epiphany that revels in the true potential of the medium .\\n1 if you sometimes like to go to the movies to have fun , wasabi is a good place to start .\\n0 but hard-to-believe plot twists force the movie off track in its final half hour .\\n1 ... always remains movingly genuine .\\n0 maybe it 's the star power of the cast or the redundant messages , but something aboul `` full frontal '' seems , well , contrived .\\n0 the situations and jokes are as predictable and as lowbrow as the endless pratfalls the boys take in their high heels .\\n0 schindler 's list it ai n't .\\n1 a compelling portrait of moral emptiness\\n0 let your silly childhood nostalgia slumber unmolested .\\n1 -lrb- a -rrb- superbly controlled , passionate adaptation of graham greene 's 1955 novel .\\n1 a refreshingly honest and ultimately touching tale of the sort of people usually ignored in contemporary american film .\\n0 no , it 's the repetition of said behavior , and so children of the century is more mindless love than mad , more grating and boring than anything else .\\n1 a comic gem with some serious sparkles .\\n0 desperately unfunny when it tries to makes us laugh and desperately unsuspenseful when it tries to make us jump out of our seats .\\n1 the movie is a blast of educational energy , as bouncy animation and catchy songs escort you through the entire 85 minutes .\\n0 a bravura exercise in emptiness .\\n1 this concoction , so bizarre to the adult mind , is actually a charming triumph where its intended under-12 audience is concerned .\\n0 this one 's weaker than most .\\n1 a lighthearted , feel-good film that embraces the time-honored truth that the most powerful thing in life is love .\\n0 the story bogs down in a mess of purposeless violence .\\n0 i spy is an embarrassment , a monotonous , disjointed jumble of borrowed plot points and situations .\\n0 a mawkish , implausible platonic romance that makes chaplin 's city lights seem dispassionate by comparison .\\n1 rich in detail , gorgeously shot and beautifully acted , les destinees is , in its quiet , epic way , daring , inventive and refreshingly unusual .\\n1 an offbeat , sometimes gross and surprisingly appealing animated film about the true meaning of the holidays .\\n1 another great ` what you do n't see ' is much more terrifying than what you do see thriller , coupled with some arresting effects , incandescent tones and stupendous performances\\n0 if you pitch your expectations at an all time low , you could do worse than this oddly cheerful -- but not particularly funny -- body-switching farce .\\n0 feels less like it 's about teenagers , than it was written by teenagers .\\n0 going to the website may be just as fun -lrb- and scary -rrb- as going to the film .\\n0 is this progress ?\\n0 for a shoot - 'em - up , ballistic is oddly lifeless .\\n1 one of the best of the year .\\n1 there are moments it can be heart-rending in an honest and unaffected -lrb- and gentle -rrb- way .\\n0 credibility levels are low and character development a non-starter .\\n0 looks awfully like one long tourist spot for a mississippi that may never have existed outside of a scriptwriter 's imagination .\\n1 a solidly seaworthy chiller .\\n0 when it comes to entertainment , children deserve better than pokemon 4ever .\\n0 if this is the resurrection of the halloween franchise , it would have been better off dead .\\n0 still , i thought it could have been more .\\n1 a recent favourite at sundance , this white-trash satire will inspire the affection of even those unlucky people who never owned a cassette of def leppard 's pyromania .\\n1 though it is by no means his best work , laissez-passer is a distinguished and distinctive effort by a bona-fide master , a fascinating film replete with rewards to be had by all willing to make the effort to reap them .\\n0 like mike does n't win any points for originality .\\n1 ms. fulford-wierzbicki is almost spooky in her sulky , calculating lolita turn .\\n1 the movie has a soft , percolating magic , a deadpan suspense .\\n1 legendary irish writer brendan behan 's memoir , borstal boy , has been given a loving screen transferral .\\n1 at times funny and at other times candidly revealing , it 's an intriguing look at two performers who put themselves out there because they love what they do .\\n0 it 's often faintly amusing , but the problems of the characters never become important to us , and the story never takes hold .\\n1 it 's amazingly perceptive in its subtle , supportive but unsentimental look at the marks family .\\n1 it uses an old-time formula , it 's not terribly original and it 's rather messy -- but you just have to love the big , dumb , happy movie my big fat greek wedding .\\n1 if you liked such movies as notting hill , four weddings and a funeral , bridget jones ' diary or high fidelity , then you wo n't want to miss about a boy .\\n1 katz uses archival footage , horrifying documents of lynchings , still photographs and charming old reel-to-reel recordings of meeropol entertaining his children to create his song history , but most powerful of all is the song itself\\n0 -lrb- it 's -rrb- difficult to get beyond the overall blandness of american chai , despite its likable performances and refreshingly naive point of view .\\n1 a worthy tribute to a great humanitarian and her vibrant ` co-stars . '\\n0 but as a movie , it 's a humorless , disjointed mess .\\n1 what 's next ?\\n0 frustratingly , dridi tells us nothing about el gallo other than what emerges through his music .\\n0 showtime is closer to slowtime .\\n1 tim allen is great in his role but never hogs the scenes from his fellow cast , as there are plenty of laughs and good lines for everyone in this comedy .\\n1 britney has been delivered to the big screen safe and sound , the way we like our 20-year-old superstar girls to travel on the fame freeway .\\n0 has little on its mind aside from scoring points with drag gags .\\n1 an enchanting spectacular for potter fans anxious to ride the hogwarts express toward a new year of magic and mischief .\\n1 it 's a nicely detailed world of pawns , bishops and kings , of wagers in dingy backrooms or pristine forests .\\n0 a real clunker .\\n0 the film seems a dead weight .\\n1 the voices are fine as well .\\n1 it turns out to be a cut above the norm , thanks to some clever writing and sprightly acting .\\n0 an awkward and indigestible movie .\\n0 showtime is one of the hapless victims of the arrogant `` if we put together a wry white man and a chatty black man and give them guns , the movie will be funny '' syndrome .\\n1 a frisky and fresh romantic comedy exporing sexual politics and the challenges of friendships between women .\\n0 but the characters tend to be cliches whose lives are never fully explored .\\n0 as your relatives swap one mundane story after another , you begin to wonder if they are ever going to depart .\\n1 wasabi is slight fare indeed , with the entire project having the feel of something tossed off quickly -lrb- like one of hubert 's punches -rrb- , but it should go down smoothly enough with popcorn .\\n0 the film equivalent of a toy chest whose contents get scattered over the course of 80 minutes .\\n1 go see it and enjoy .\\n0 her film is unrelentingly claustrophobic and unpleasant .\\n1 chicago is sophisticated , brash , sardonic , completely joyful in its execution .\\n0 obstacles are too easily overcome and there is n't much in the way of character development in the script .\\n0 a hysterical yet humorless disquisition on the thin line between sucking face and literally sucking face .\\n0 the cold and dreary weather is a perfect metaphor for the movie itself , which contains few laughs and not much drama .\\n1 on its own cinematic terms , it successfully showcases the passions of both the director and novelist byatt .\\n0 pryor lite , with half the demons , half the daring , much less talent , many fewer laughs .\\n1 this is a terrific character study , a probe into the life of a complex man .\\n1 a romantic comedy , yes , but one with characters who think and talk about their goals , and are working on hard decisions .\\n0 any film featuring young children threatened by a terrorist bomb can no longer pass as mere entertainment .\\n0 what parents will suspect is that they 're watching a 76-minute commercial .\\n0 do n't let your festive spirit go this far .\\n1 eastwood is an icon of moviemaking , one of the best actors , directors and producers around , responsible for some excellent work .\\n1 a historical epic with the courage of its convictions about both scope and detail .\\n0 a thinly veiled excuse for wilson to play his self-deprecating act against murphy 's well-honed prima donna shtick .\\n1 an epic of grandeur and scale that 's been decades gone from the popcorn pushing sound stages of hollywood .\\n0 preposterous and tedious , sonny is spiked with unintentional laughter that , unfortunately , occurs too infrequently to make the film even a guilty pleasure .\\n1 it will delight newcomers to the story and those who know it from bygone days .\\n0 the saturation bombing of reggio 's images and glass ' evocative music ... ultimately leaves viewers with the task of divining meaning .\\n1 as a witness to several greek-american weddings -- but , happily , a victim of none -- i can testify to the comparative accuracy of ms. vardalos ' memories and insights .\\n1 a wonderful character-based comedy .\\n0 k-19 may not hold a lot of water as a submarine epic , but it holds even less when it turns into an elegiacally soggy saving private ryanovich .\\n0 do n't waste your money .\\n0 dreary , highly annoying ... ` some body ' will appeal to no one .\\n0 just when the movie seems confident enough to handle subtlety , it dives into soapy bathos .\\n1 a carefully structured scream of consciousness that is tortured and unsettling -- but unquestionably alive .\\n0 punish the vehicle to adore the star .\\n1 reign of fire may be little more than another platter of reheated aliens , but it 's still pretty tasty .\\n1 thoughtful , even stinging at times , and lots of fun .\\n1 it 's a humble effort , but spiced with wry humor and genuine pathos , especially between morgan and redgrave .\\n0 the editing is chaotic , the photography grainy and badly focused , the writing unintentionally hilarious , the direction unfocused , the performances as wooden .\\n0 the movie feels like it 's going to be great , and it carries on feeling that way for a long time , but takeoff just never happens .\\n1 an uneven but intriguing drama that is part homage and part remake of the italian masterpiece .\\n1 a sweet-natured reconsideration of one of san francisco 's most vital , if least widely recognized , creative fountainheads .\\n0 with spy kids 2 : the island of lost dreams writer\\\\/director\\\\/producer robert rodriguez has cobbled together a film that feels like a sugar high gone awry .\\n0 i found it slow , drab , and bordering on melodramatic .\\n0 -lrb- sen 's -rrb- soap opera-ish approach undermines his good intentions .\\n0 the stories here suffer from the chosen format .\\n1 ... a cute and sometimes side-splittingly funny blend of legally blonde and drop dead gorgeous , starring piper perabo in what could be her breakthrough role .\\n1 offers a breath of the fresh air of true sophistication .\\n1 a pro-fat farce that overcomes much of its excessive moral baggage thanks to two appealing lead performances .\\n0 there is no entry portal in the rules of attraction , and i spent most of the movie feeling depressed by the shallow , selfish , greedy characters .\\n0 at the bottom rung of the series ' entries .\\n1 whatever eyre 's failings as a dramatist , he deserves credit for bringing audiences into this hard and bitter place .\\n1 the spark of special anime magic here is unmistakable and hard to resist .\\n0 despite apparent motives to the contrary , it ends up being , like -lrb- seinfeld 's -rrb- revered tv show , about pretty much nothing .\\n1 mr. parker has brilliantly updated his source and grasped its essence , composing a sorrowful and hilarious tone poem about alienated labor , or an absurdist workplace sitcom .\\n1 the transporter is as lively and as fun as it is unapologetically dumb\\n0 ... too dull to enjoy .\\n1 this is cool , slick stuff , ready to quench the thirst of an audience that misses the summer blockbusters .\\n0 characters wander into predictably treacherous situations even though they should know better .\\n1 with a cast that includes some of the top actors working in independent film , lovely & amazing involves us because it is so incisive , so bleakly amusing about how we go about our lives .\\n0 ... -lrb- like -rrb- channel surfing between the discovery channel and a late-night made-for-cable action movie .\\n0 i hated every minute of it .\\n1 this is a very fine movie -- go see it .\\n1 this is n't my favorite in the series , still i enjoyed it enough to recommend .\\n0 a benign but forgettable sci-fi diversion .\\n0 a bigger holiday downer than your end-of-year 401 -lrb- k -rrb- statement .\\n0 godawful boring slug of a movie .\\n1 provide -lrb- s -rrb- nail-biting suspense and credible characters without relying on technology-of-the-moment technique or pretentious dialogue .\\n0 but like most rabbits , it seems to lack substance .\\n1 once you get into its rhythm ... the movie becomes a heady experience .\\n1 it is intensely personal and yet -- unlike quills -- deftly shows us the temper of the times .\\n0 just because it really happened to you , honey , does n't mean that it 's interesting to anyone else .\\n1 hayek is stunning as frida and ... a star-making project .\\n0 about as cutting-edge as pet rock : the movie .\\n1 a quietly reflective and melancholy new zealand film about an eventful summer in a 13-year-old girl 's life .\\n1 an amazing and incendiary movie that dives straight into the rough waters of contradiction .\\n1 benefits from a strong performance from zhao , but it 's dong jie 's face you remember at the end .\\n1 it 's a worthwhile tutorial in quantum physics and slash-dash\\n0 the acting is stiff , the story lacks all trace of wit , the sets look like they were borrowed from gilligan 's island -- and the cgi scooby might well be the worst special-effects creation of the year .\\n1 star wars is back in a major way .\\n1 unlike the nauseating fictions peddled by such ` have-yourself-a-happy-little-holocaust ' movies as life is beautiful and jakob the liar , the grey zone is honest enough to deny the possibility of hope in auschwitz .\\n0 director nalin pan does n't do much to weigh any arguments one way or the other .\\n0 the pivotal narrative point is so ripe the film ca n't help but go soft and stinky .\\n0 most of the action setups are incoherent .\\n1 compelling revenge thriller , though somewhat weakened by a miscast leading lady .\\n0 if you 're not into the pokemon franchise , this fourth animated movie in four years wo n't convert you -- or even keep your eyes open .\\n0 in a normal screen process , these bromides would be barely enough to sustain an interstitial program on the discovery channel .\\n0 the only thing worse than your substandard , run-of-the-mill hollywood picture is an angst-ridden attempt to be profound .\\n0 winds up feeling like lots of other quirky movies that try to score hipness points with young adults .\\n0 an instant candidate for worst movie of the year .\\n1 a highly intriguing thriller , coupled with some ingenious plot devices and some lavishly built settings . .\\n1 director kapur is a filmmaker with a real flair for epic landscapes and adventure , and this is a better film than his earlier english-language movie , the overpraised elizabeth .\\n1 good actress .\\n0 an overblown clunker full of bad jokes , howling cliches and by-the-numbers action sequences .\\n0 i can only imagine one thing worse than kevin spacey trying on an irish accent , and that 's sultry linda fiorentino doing the same thing .\\n0 on the right track to something that 's creepy and effective ... it 's just going to take more than a man in a bullwinkle costume to get there .\\n0 if myers decides to make another austin powers movie , maybe he should just stick with austin and dr evil .\\n0 an atonal estrogen opera that demonizes feminism while gifting the most sympathetic male of the piece with a nice vomit bath at his wedding .\\n0 bad beyond belief and ridiculous beyond description .\\n0 however , it lacks grandeur and that epic quality often associated with stevenson 's tale as well as with earlier disney efforts .\\n1 a classy item by a legend who may have nothing left to prove but still has the chops and drive to show how its done .\\n1 it sounds sick and twisted , but the miracle of shainberg 's film is that it truly is romance\\n0 what could have been a neat little story about believing in yourself is swamped by heavy-handed melodrama .\\n1 a very funny look at how another culture handles the process of courting and marriage .\\n0 instead , we just get messy anger , a movie as personal therapy .\\n1 like old myths and wonder tales spun afresh .\\n1 with danilo donati 's witty designs and dante spinotti 's luscious cinematography , this might have made a decent children 's movie -- if only benigni had n't insisted on casting himself in the title role .\\n1 nervy and sensitive , it taps into genuine artistic befuddlement , and at the same time presents a scathing indictment of what drives hollywood .\\n0 i regret to report that these ops are just not extreme enough .\\n1 i loved looking at this movie .\\n1 binoche and magimel are perfect in these roles .\\n1 doug liman , the director of bourne , directs the traffic well , gets a nice wintry look from his locations , absorbs us with the movie 's spycraft and uses damon 's ability to be focused and sincere .\\n1 the film 's sharp , often mischievous sense of humor will catch some off guard ...\\n0 i wish i could say `` thank god it 's friday '' , but the truth of the matter is i was glad when it was over .\\n1 lauren ambrose comes alive under the attention from two strangers in town - with honest performances and realistic interaction between the characters , this is a coming-of-age story with a twist .\\n1 occasionally , in the course of reviewing art-house obscurities and slam-bam action flicks , a jaded critic smacks into something truly new .\\n1 `` men in black ii , '' has all the earmarks of a sequel .\\n1 this is a raw and disturbing tale that took five years to make , and the trio 's absorbing narrative is a heart-wrenching showcase indeed .\\n1 yeah , these flicks are just that damn good .\\n1 a worthy entry into a very difficult genre .\\n0 soul is what 's lacking in every character in this movie and , subsequently , the movie itself .\\n1 majidi gets uniformly engaging performances from his largely amateur cast .\\n1 an impressive if flawed effort that indicates real talent .\\n0 the best way to hope for any chance of enjoying this film is by lowering your expectations .\\n1 still pretentious and filled with subtext , but entertaining enough at ` face value ' to recommend to anyone looking for something different .\\n1 woo 's fights have a distinct flair .\\n0 the only thing that could possibly make them less interesting than they already are is for them to get full montied into a scrappy , jovial team .\\n0 ... has virtually no script at all ...\\n0 we are left with a superficial snapshot that , however engaging , is insufficiently enlightening and inviting .\\n0 why he was given free reign over this project -- he wrote , directed , starred and produced -- is beyond me .\\n1 gloriously goofy -lrb- and gory -rrb- midnight movie stuff .\\n1 the film makes a strong case for the importance of the musicians in creating the motown sound .\\n1 at its best , the good girl is a refreshingly adult take on adultery ...\\n1 nair does capture the complexity of a big family and its trials and tribulations ...\\n1 throwing caution to the wind with an invitation to the hedonist in us all , nair has constructed this motion picture in such a way that even the most cynical curmudgeon with find himself or herself smiling at one time or another .\\n1 although life or something like it is very much in the mold of feel-good movies , the cast and director stephen herek 's polished direction pour delightfully piquant wine from aged bottles .\\n1 at its best early on as it plays the culture clashes between the brothers .\\n0 the story ... is moldy and obvious .\\n0 scotland , pa. is a strangely drab romp .\\n0 better at putting you to sleep than a sound machine .\\n1 ... one of the most ingenious and entertaining thrillers i 've seen in quite a long time .\\n0 denzel washington 's efforts are sunk by all the sanctimony .\\n0 despite a powerful portrayal by binoche , it 's a period romance that suffers from an overly deliberate pace and uneven narrative momentum .\\n1 she must have a very strong back .\\n1 we get some truly unique character studies and a cross-section of americana that hollywood could n't possibly fictionalize and be believed .\\n0 the story drifts so inexorably into cliches about tortured -lrb- and torturing -rrb- artists and consuming but impossible love that you ca n't help but become more disappointed as each overwrought new sequence plods on .\\n1 an utterly compelling ` who wrote it ' in which the reputation of the most famous author who ever lived comes into question .\\n1 this is the kind of movie that used to be right at home at the saturday matinee , and it still is .\\n0 not sweet enough to liven up its predictable story and will leave even fans of hip-hop sorely disappointed .\\n1 -lrb- drumline -rrb- is entertaining for what it does , and admirable for what it does n't do .\\n0 the two leads are almost good enough to camouflage the dopey plot , but so much naturalistic small talk , delivered in almost muffled exchanges , eventually has a lulling effect .\\n1 despite a story predictable enough to make the sound of music play like a nail-biting thriller , its heart is so much in the right place it is difficult to get really peeved at it .\\n1 noyce 's film is contemplative and mournfully reflective .\\n0 despite the premise of a good story ... it wastes all its star power on cliched or meaningless roles .\\n0 succumbs to the same kind of maudlin , sentimental mysticism that mars the touched by an angel school of non-god spiritual-uplift movies .\\n1 watching beanie and his gang put together his slasher video from spare parts and borrowed materials is as much fun as it must have been for them to make it .\\n0 bears is bad .\\n0 any movie this boring should be required to have ushers in the theater that hand you a cup of coffee every few minutes .\\n1 a film of precious increments artfully camouflaged as everyday activities .\\n1 the inherent strength of the material as well as the integrity of the filmmakers gives this coming-of-age story restraint as well as warmth .\\n0 i just did n't care as much for the story .\\n1 very solid , very watchable first feature for director peter sheridan\\n0 while super troopers is above academy standards , its quintet of writers could still use some more schooling .\\n0 the overall effect is so completely inane that one would have to be mighty bored to even think of staying with this for more than , say , ten ... make that three minutes .\\n0 pumpkin sits in a patch somewhere between mirthless todd solondzian satire and callow student film .\\n0 if kaufman kept cameron diaz a prisoner in a cage with her ape , in his latest , he 'd have them mate .\\n0 still , it gets the job done -- a sleepy afternoon rental .\\n0 consider the title 's clunk-on-the-head that suggests the overtime someone put in to come up with an irritatingly unimaginative retread concept .\\n1 leave it to rohmer , now 82 , to find a way to bend current technique to the service of a vision of the past that is faithful to both architectural glories and commanding open spaces of the city as it was more than two centuries ago .\\n1 sam jones became a very lucky filmmaker the day wilco got dropped from their record label , proving that one man 's ruin may be another 's fortune .\\n0 a minor picture with a major identity crisis -- it 's sort of true and it 's sort of bogus and it 's ho-hum all the way through .\\n1 a taut , intelligent psychological drama .\\n1 barney has created a tour de force that is weird , wacky and wonderful .\\n0 it settles for being merely grim .\\n1 a work of astonishing delicacy and force .\\n1 dark and disturbing , but also surprisingly funny .\\n1 a loving little film of considerable appeal .\\n0 watching the film is like reading a times portrait of grief that keeps shifting focus to the journalist who wrote it .\\n0 a free-for-all of half-baked thoughts , clumsily used visual tricks and self-indulgent actor moments .\\n0 the problem is n't that the movie hits so close to home so much as that it hits close to home while engaging in such silliness as that snake-down-the-throat business and the inevitable shot of schwarzenegger outrunning a fireball .\\n0 can see where this dumbed-down concoction is going .\\n1 parker holds true to wilde 's own vision of a pure comedy with absolutely no meaning , and no desire to be anything but a polished , sophisticated entertainment that is in love with its own cleverness .\\n0 these are names to remember , in order to avoid them in the future .\\n0 if somebody was bored and ... decided to make a dull , pretentious version of jesus ' son , they 'd come up with something like bart freundlich 's world traveler .\\n0 new best friend should n't have gone straight to video ; it should have gone straight to a mystery science theater 3000 video .\\n0 as a revenge thriller , the movie is serviceable , but it does n't really deliver the delicious guilty pleasure of the better film versions .\\n0 i was perplexed to watch it unfold with an astonishing lack of passion or uniqueness .\\n1 -lrb- director peter -rrb- jackson and his crew have so steeped themselves in the majesty of tolkien 's writing that every frame produces new joys , whether you 're a fan of the books or not .\\n1 ... ambition is in short supply in the cinema , and egoyan tackles his themes and explores his characters ' crises with seriousness and compassion .\\n0 it does n't help that the director and cinematographer stephen kazmierski shoot on grungy video , giving the whole thing a dirty , tasteless feel .\\n0 -lrb- two -rrb- fairly dull -- contrasting and interlocking stories about miserable scandinavian settlers in 18th-century canada , and yuppie sailboaters in the here and now .\\n0 somewhere short of tremors on the modern b-scene : neither as funny nor as clever , though an agreeably unpretentious way to spend ninety minutes .\\n0 their film falters , however , in its adherence to the disney philosophy of required poignancy , a salute that i 'd hoped the movie would avoid .\\n1 the latest installment in the pokemon canon , pokemon 4ever is surprising less moldy and trite than the last two , likely because much of the japanese anime is set in a scenic forest where pokemon graze in peace .\\n1 it 's still worth a look .\\n0 jolie 's performance vanishes somewhere between her hair and her lips .\\n0 never engaging , utterly predictable and completely void of anything remotely interesting or suspenseful .\\n0 although trying to balance self-referential humor and a normal ol' slasher plot seemed like a decent endeavor , the result does n't fully satisfy either the die-hard jason fans or those who can take a good joke .\\n1 a pleasant enough movie , held together by skilled ensemble actors .\\n1 intriguing and beautiful film , but those of you who read the book are likely to be disappointed .\\n0 too close to phantom menace for comfort .\\n1 without heavy-handedness , dong provides perspective with his intelligent grasp of human foibles and contradictions .\\n0 somehow we 're meant to buy that this doting mother would shun her kids , travel to one of the most dangerous parts of the world , don fatigues and become g.i. jane .\\n1 marvelous , merry and , yes , melancholy film .\\n1 reinforces the talents of screenwriter charlie kaufman , creator of adaptation and being john malkovich .\\n0 the timing in nearly every scene seems a half beat off .\\n1 more than makes up for its mawkish posing by offering rousing spates of genuine feeling .\\n0 a woozy , roisterous , exhausting mess , and the off-beat casting of its two leads turns out to be as ill-starred as you might expect .\\n0 the story 's so preposterous that i did n't believe it for a second , despite the best efforts of everyone involved .\\n0 its underlying mythology is a hodgepodge of inconsistencies that pose the question : since when did dumb entertainment have to be this dumb ?\\n0 and forget about any attempt at a plot !\\n1 watstein handily directs and edits around his screenplay 's sappier elements ... and sustains off the hook 's buildup with remarkable assuredness for a first-timer .\\n1 ice cube holds the film together with an engaging and warm performance ...\\n0 all this turns out to be neither funny nor provocative - only dull .\\n0 tom green just gives them a bad odor .\\n1 it 's obviously struck a responsive chord with many south koreans , and should work its magic in other parts of the world .\\n1 it has fun being grown up .\\n0 this is a great subject for a movie , but hollywood has squandered the opportunity , using it as a prop for warmed-over melodrama and the kind of choreographed mayhem that director john woo has built his career on .\\n1 children may not understand everything that happens -- i 'm not sure even miyazaki himself does -- but they will almost certainly be fascinated , and undoubtedly delighted .\\n1 a distant , even sterile , yet compulsively watchable look at the sordid life of hogan 's heroes star bob crane .\\n0 this is the type of movie best enjoyed by frat boys and college kids while sucking on the bong and downing one alcoholic beverage after another .\\n0 the film is a travesty of the genre and even as spoof takes itself too seriously .\\n1 the long-range appeal of `` minority report '' should transcend any awards it bags .\\n1 the film starts out as competent but unremarkable ... and gradually grows into something of considerable power .\\n0 ihops do n't pile on this much syrup .\\n1 a pleasant enough comedy that should have found a summer place .\\n1 the unique tug-of-war with viewer expectations is undeniable , if not a pleasure in its own right .\\n0 this is a particularly toxic little bonbon , palatable to only a chosen and very jaundiced few .\\n1 sound the trumpets : for the first time since desperately seeking susan , madonna does n't suck as an actress .\\n0 the truth is that the truth about charlie gets increasingly tiresome .\\n0 much-anticipated and ultimately lackluster movie .\\n0 disturbingly superficial in its approach to the material .\\n0 flat , but with a revelatory performance by michelle williams .\\n0 unless you are in dire need of a diesel fix , there is no real reason to see it .\\n0 the movie gets muted and routine .\\n0 madonna still ca n't act a lick .\\n0 if you 're not a prepubescent girl , you 'll be laughing at britney spears ' movie-starring debut whenever it does n't have you impatiently squinting at your watch .\\n1 some actors have so much charisma that you 'd be happy to listen to them reading the phone book .\\n1 energetic and boldly provocative .\\n0 not only does the movie fail to make us part of its reality , it fails the most basic relevancy test as well .\\n1 the kooky yet shadowy vision clooney sustains throughout is daring , inventive and impressive .\\n0 i 'd give real money to see the perpetrators of chicago torn apart by dingoes .\\n1 occasionally funny and consistently odd , and it works reasonably well as a star vehicle for zhao .\\n1 awkward but sincere and , ultimately , it wins you over .\\n0 the whole damn thing is ripe for the jerry springer crowd .\\n0 a lousy movie that 's not merely unwatchable , but also unlistenable .\\n0 flounders due to the general sense that no two people working on the production had exactly the same thing in mind .\\n1 with youthful high spirits , tautou remains captivating throughout michele 's religious and romantic quests , and she is backed by a likable cast .\\n0 if this is an example of the type of project that robert redford 's lab is willing to lend its imprimatur to , then perhaps it 's time to rethink independent films .\\n1 a great comedy filmmaker knows great comedy need n't always make us laugh .\\n1 while this film is not in the least surprising , it is still ultimately very satisfying .\\n1 remarkably accessible and affecting .\\n0 writhing under dialogue like ` you 're from two different worlds ' and ` tonight the maid is a lie and this , this is who you are , ' this schlock-filled fairy tale hits new depths of unoriginality and predictability .\\n1 this cheery , down-to-earth film is warm with the cozy feeling of relaxing around old friends .\\n0 plays as hollow catharsis , with lots of tears but very little in the way of insights .\\n0 will probably stay in the shadow of its two older , more accessible qatsi siblings .\\n0 credibility sinks into a mire of sentiment .\\n0 director brian levant , who never strays far from his sitcom roots , skates blithely from one implausible situation to another , pausing only to tie up loose ends with more bows than you 'll find on a french poodle .\\n0 it 's hard to tell with all the crashing and banging where the salesmanship ends and the movie begins .\\n1 but it 's emotionally engrossing , too , thanks to strong , credible performances from the whole cast .\\n0 francophiles will snicker knowingly and you 'll want to slap them .\\n0 -lrb- plays -rrb- in broad outline as pandering middle-age buddy-comedy .\\n0 one hour photo is an intriguing snapshot of one man and his delusions ; it 's just too bad it does n't have more flashes of insight .\\n0 a one-trick pony whose few t&a bits still ca n't save itself from being unoriginal , unfunny and unrecommendable .\\n1 this examination of aquatic life off the shores of the baja california peninsula of mexico offers an engrossing way to demonstrate the virtues of the imax format .\\n0 an ungainly , comedy-deficient , b-movie rush job ...\\n0 will only satisfy those who ca n't tell the difference between the good , the bad and the ugly .\\n1 if this movie were a book , it would be a page-turner , you ca n't wait to see what happens next .\\n0 ` dragonfly ' is a movie about a bus wreck that turns into a film wreck .\\n1 -lrb- villeneuve -rrb- seems to realize intuitively that even morality is reduced to an option by the ultimate mysteries of life and death .\\n0 rather , you 'll have to wrestle disbelief to the ground and then apply the chloroform-soaked handkerchief .\\n0 feel bad for king , who 's honestly trying , and schwartzman , who 's shot himself in the foot .\\n0 involving at times , but lapses quite casually into the absurd .\\n1 for benigni it was n't shakespeare whom he wanted to define his career with but pinocchio .\\n0 starts off with a bang , but then fizzles like a wet stick of dynamite at the very end .\\n1 together , tok and o orchestrate a buoyant , darkly funny dance of death .\\n0 de niro looks bored , murphy recycles murphy , and you mentally add showtime to the pile of hollywood dreck that represents nothing more than the art of the deal .\\n1 the film 's real appeal wo n't be to clooney fans or adventure buffs , but to moviegoers who enjoy thinking about compelling questions with no easy answers .\\n1 guaranteed to move anyone who ever shook , rattled , or rolled .\\n0 unlike his directorial efforts , la femme nikita and the professional , the transporter lacks besson 's perspective as a storyteller .\\n1 at about 95 minutes , treasure planet maintains a brisk pace as it races through the familiar story .\\n0 this limp gender-bender-baller from a first-time director and rookie screenwriter steals wholesale from that 1982 's tootsie , forgetting only to retain a single laugh .\\n0 so stupid , so ill-conceived , so badly drawn , it created whole new levels of ugly .\\n0 there has been much puzzlement among critics about what the election symbolizes .\\n1 a masterful film from a master filmmaker , unique in its deceptive grimness , compelling in its fatalist worldview .\\n0 a great idea becomes a not-great movie .\\n1 an inspiring and heart-affecting film about the desperate attempts of vietnamese refugees living in u.s. relocation camps to keep their hopes alive in 1975 .\\n0 its over-reliance on genre conventions , character types and formulaic conflict resolutions crushes all the goodwill it otherwise develops .\\n0 demme 's loose approach kills the suspense .\\n1 harsh , effective documentary on life in the israeli-occupied palestinian territories .\\n1 steers turns in a snappy screenplay that curls at the edges ; it 's so clever you want to hate it .\\n1 this is what imax was made for : strap on a pair of 3-d goggles , shut out the real world , and take a vicarious voyage to the last frontier -- space .\\n0 but this costly dud is a far cry from either the book or the beloved film .\\n0 the essential problem in orange county is that , having created an unusually vivid set of characters worthy of its strong cast , the film flounders when it comes to giving them something to do .\\n1 ... if you 're in a mind set for goofy comedy , the troopers will entertain with their gross outs , bawdy comedy and head games .\\n1 a work of the utmost subtlety and perception , it marks the outstanding feature debut of writer-director eric byler , who understands the power of the implicit and the virtues of simplicity and economy .\\n1 there are just enough twists in the tale to make it far more satisfying than almost any horror film in recent memory .\\n0 ... hudlin is stuck trying to light a fire with soggy leaves .\\n0 ... a haunting vision , with images that seem more like disturbing hallucinations .\\n0 consists of a plot and jokes done too often by people far more talented than ali g\\n1 a breezy , diverting , conventional , well-acted tale of two men locked in an ongoing game of cat-and-cat .\\n0 the premise is in extremely bad taste , and the film 's supposed insights are so poorly thought-out and substance-free that even a high school senior taking his or her first psychology class could dismiss them .\\n0 imagine a really bad community theater production of west side story without the songs .\\n1 smith profiles five extraordinary american homes , and because the owners seem fully aware of the uses and abuses of fame , it 's a pleasure to enjoy their eccentricities .\\n0 with its hints of a greater intelligence lurking somewhere , the ring makes its stupidity more than obvious .\\n0 an afterschool special without the courage of its convictions .\\n0 uneasy mishmash of styles and genres .\\n0 the period -- swinging london in the time of the mods and the rockers -- gets the once-over once again in gangster no. 1 , but falls apart long before the end .\\n0 earnest falls short of its ideal predecessor largely due to parker 's ill-advised meddling with the timeless source material .\\n1 tailored to entertain !\\n1 in his debut as a film director , denzel washington delivers a lean and engaging work .\\n1 the scope of the silberstein family is large and we grow attached to their lives , full of strength , warmth and vitality . .\\n1 the tone is balanced , reflective and reasonable .\\n1 a real story about real people living their lives concerned about the future of an elderly , mentally handicapped family member .\\n0 if shayamalan wanted to tell a story about a man who loses his faith , why did n't he just do it , instead of using bad sci-fi as window dressing ?\\n1 the way coppola professes his love for movies -- both colorful pop junk and the classics that unequivocally qualify as art -- is giddily entertaining .\\n1 an intimate , good-humored ethnic comedy like numerous others but cuts deeper than expected .\\n1 fans of the animated wildlife adventure show will be in warthog heaven ; others need not necessarily apply .\\n0 the story loses its bite in a last-minute happy ending that 's even less plausible than the rest of the picture .\\n1 it is interesting and fun to see goodall and her chimpanzees on the bigger-than-life screen .\\n1 branagh , in his most forceful non-shakespeare screen performance , grounds even the softest moments in the angry revolt of his wit .\\n1 a droll , well-acted , character-driven comedy with unexpected deposits of feeling .\\n0 the screenplay sabotages the movie 's strengths at almost every juncture .\\n1 a beautiful and haunting examination of the stories we tell ourselves to make sense of the mundane horrors of the world .\\n0 he 'd create a movie better than this .\\n0 my response to the film is best described as lukewarm .\\n1 diane lane shines in unfaithful .\\n0 drags along in a dazed and enervated , drenched-in-the - past numbness .\\n1 thurman and lewis are hilarious throughout .\\n0 extreme oops - oops , ops , no matter how you spell it , it 's still a mistake to go see it .\\n0 an uneven film dealing with too many problems to be taken seriously .\\n1 ana is a vivid , vibrant individual and the movie 's focus upon her makes it successful and accessible .\\n1 ... a polished and relatively sincere piece of escapism .\\n1 as an entertainment , the movie keeps you diverted and best of all , it lightens your wallet without leaving a sting .\\n0 aspires for the piquant but only really achieves a sort of ridiculous sourness .\\n1 chicago is , in many ways , an admirable achievement .\\n1 fisher has bared his soul and confronted his own shortcomings here in a way ... that feels very human and very true to life .\\n1 a charming yet poignant tale of the irrevocable ties that bind .\\n0 or some damn thing .\\n0 its mysteries are transparently obvious , and it 's too slowly paced to be a thriller .\\n0 its gross-out gags and colorful set pieces ... are of course stultifyingly contrived and too stylized by half .\\n1 there is a refreshing absence of cynicism in stuart little 2 -- quite a rarity , even in the family film market .\\n0 creepy but ultimately unsatisfying thriller .\\n1 without resorting to hyperbole , i can state that kissing jessica stein may be the best same-sex romance i have seen .\\n1 a sensitive and expertly acted crowd-pleaser that is n't above a little broad comedy and a few unabashedly sentimental tears .\\n1 the experience of watching blobby old-school cgi animation in this superlarge format is just surreal enough to be diverting .\\n0 ... too slow , too boring , and occasionally annoying .\\n0 this is pretty dicey material .\\n0 the premise is overshadowed by the uberviolence of the clericks as this becomes just another kung-fu sci-fi movie with silly action sequences .\\n1 subversive , meditative , clinical and poetic , the piano teacher is a daring work of genius .\\n1 -lrb- a -rrb- hollywood sheen bedevils the film from the very beginning ... -lrb- but -rrb- lohman 's moist , deeply emotional eyes shine through this bogus veneer ...\\n0 it does n't do the original any particular dishonor , but neither does it exude any charm or personality .\\n1 ... blade ii is more enjoyable than the original .\\n0 there 's suspension of disbelief and then there 's bad screenwriting ... this film packs a wallop of the latter .\\n0 an often-deadly boring , strange reading of a classic whose witty dialogue is treated with a baffling casual approach\\n0 the problem with concept films is that if the concept is a poor one , there 's no saving the movie .\\n0 safe conduct , however ambitious and well-intentioned , fails to hit the entertainment bull 's - eye .\\n0 a film made with as little wit , interest , and professionalism as artistically possible for a slummy hollywood caper flick .\\n0 but here 's the real damn : it is n't funny , either .\\n\""
            ]
          },
          "metadata": {},
          "execution_count": 6
        }
      ]
    },
    {
      "cell_type": "code",
      "metadata": {
        "id": "e64edcVlbfs8"
      },
      "source": [
        "# Seperate labels and the text.\n",
        "\n",
        "# For training data\n",
        "training_labels = []\n",
        "training_text = []\n",
        "splitted = training_data.split(\"\\n\") # Split each contents. Each line has the labes in first and text afterwards\n",
        "\n",
        "for line in splitted:\n",
        "  contents = line.split(\" \")\n",
        "  training_text.append(\" \".join(contents[1:]))\n",
        "  training_labels.append(contents[0])\n",
        "\n",
        "\n",
        "#For testing data\n",
        "testing_labels = []\n",
        "testing_text = []\n",
        "splitted = testing_data.split(\"\\n\") # Split each contents. Each line has the labes in first and text afterwards\n",
        "\n",
        "for line in splitted:\n",
        "  contents = line.split(\" \")\n",
        "  testing_text.append(\" \".join(contents[1:]))\n",
        "  testing_labels.append(contents[0])\n",
        "\n",
        "\n",
        "# Create dataframe for both of these dataset.\n",
        "training_data_dict = {\"Training Text\":training_text,\"Training Labels\":training_labels}\n",
        "training_df = pd.DataFrame(training_data_dict)\n",
        "\n",
        "testing_data_dict = {\"Testing Text\":testing_text,\"Testing Labels\":testing_labels}\n",
        "testing_df = pd.DataFrame(testing_data_dict)"
      ],
      "execution_count": 7,
      "outputs": []
    },
    {
      "cell_type": "code",
      "metadata": {
        "colab": {
          "base_uri": "https://localhost:8080/"
        },
        "id": "tUKWaN7PiOD9",
        "outputId": "558c77d2-0878-4ae7-80aa-e5d48e9282de"
      },
      "source": [
        "print(training_df.shape)\n",
        "print(testing_df.shape)"
      ],
      "execution_count": 8,
      "outputs": [
        {
          "output_type": "stream",
          "name": "stdout",
          "text": [
            "(6921, 2)\n",
            "(1822, 2)\n"
          ]
        }
      ]
    },
    {
      "cell_type": "code",
      "metadata": {
        "colab": {
          "base_uri": "https://localhost:8080/"
        },
        "id": "iwoeZiHujLyX",
        "outputId": "4271cd0f-c5ad-46ff-b1f9-abdd619d83b9"
      },
      "source": [
        "# Clean the data. The code in this section are used from the previous assignments used for tokenization and lemmatization.\n",
        "\n",
        "import nltk\n",
        "nltk.download('punkt')\n",
        "nltk.download('wordnet')\n",
        "from nltk.corpus import stopwords\n",
        "nltk.download(\"stopwords\")\n",
        "stop_words = set(stopwords.words(\"english\")) \n",
        "from textblob import TextBlob\n",
        "from textblob import Word\n",
        "\n",
        "\n",
        "#################### TRAINING DATA ###########################\n",
        "# Convert all the words to lower. Example: \"Upper\" and \"upper\" are different because they have different ascii keys.\n",
        "training_df['Training Text'] = training_df['Training Text'].apply(lambda x: \" \".join(x.lower() for x in x.split()))\n",
        "\n",
        "# Remove the punctuations and special characters\n",
        "training_df['Training Text'] = training_df['Training Text'].str.replace(\"@,#,$,!,^,&,*,_,+,=,~,`,,,.,:,;,/,?\",'') # remove puncuation special characters and numbers\n",
        "\n",
        "# remove all the stopwords from english language\n",
        "training_df['Training Text'] = training_df['Training Text'].apply(lambda x: \" \".join(x for x in x.split() if x not in stop_words))\n",
        "\n",
        "# Tokenize and Lemmatize the texts.\n",
        "training_df['Training Text'] = training_df['Training Text'].apply(lambda x: TextBlob(x).words)\n",
        "training_df['Training Text'] = training_df['Training Text'].apply(lambda x: \" \".join([Word(word).lemmatize() for word in x]))\n",
        "\n",
        "\n",
        "\n",
        "################## TESTING DATA  ##########################\n",
        "# Convert all the words to lower. Example: \"Upper\" and \"upper\" are different because they have different ascii keys.\n",
        "testing_df['Testing Text'] = testing_df['Testing Text'].apply(lambda x: \" \".join(x.lower() for x in x.split()))\n",
        "\n",
        "# Remove the punctuations and special characters\n",
        "testing_df['Testing Text'] = testing_df['Testing Text'].str.replace(\"@,#,$,!,^,&,*,_,+,=,~,`,,,.,:,;,/,?\",'') # remove puncuation special characters and numbers\n",
        "\n",
        "# remove all the stopwords from english language\n",
        "testing_df['Testing Text'] = testing_df['Testing Text'].apply(lambda x: \" \".join(x for x in x.split() if x not in stop_words))\n",
        "\n",
        "# Tokenize and Lemmatize the texts.\n",
        "testing_df['Testing Text'] = testing_df['Testing Text'].apply(lambda x: TextBlob(x).words) # Text Blob used for tokenization\n",
        "testing_df['Testing Text'] = testing_df['Testing Text'].apply(lambda x: \" \".join([Word(word).lemmatize() for word in x]))"
      ],
      "execution_count": 9,
      "outputs": [
        {
          "output_type": "stream",
          "name": "stdout",
          "text": [
            "[nltk_data] Downloading package punkt to /root/nltk_data...\n",
            "[nltk_data]   Unzipping tokenizers/punkt.zip.\n",
            "[nltk_data] Downloading package wordnet to /root/nltk_data...\n",
            "[nltk_data]   Unzipping corpora/wordnet.zip.\n",
            "[nltk_data] Downloading package stopwords to /root/nltk_data...\n",
            "[nltk_data]   Unzipping corpora/stopwords.zip.\n"
          ]
        }
      ]
    },
    {
      "cell_type": "code",
      "metadata": {
        "id": "HJEvphJtn53m"
      },
      "source": [
        "# Now we need to transform the data and then we can split the data to train and test data.\n",
        "from sklearn.feature_extraction.text import TfidfVectorizer\n",
        "\n",
        "tf_idf_vec = TfidfVectorizer(analyzer='word')\n",
        "tf_idf_vec.fit(training_df['Training Text'])\n",
        "x_training =  tf_idf_vec.transform(training_df['Training Text'])\n",
        "y_training = training_df['Training Labels']\n",
        "\n",
        "\n",
        "# Split the training data to training and validating data\n",
        "from sklearn.model_selection import train_test_split\n",
        "x_train, x_valid, y_train, y_valid = train_test_split(x_training, y_training, test_size = 0.2)"
      ],
      "execution_count": 10,
      "outputs": []
    },
    {
      "cell_type": "code",
      "metadata": {
        "id": "P-CaHKKO6FiS"
      },
      "source": [
        "# Vectorize the test data as well so that it can be used for calculating accuracies and other metrics.\n",
        "\n",
        "vec_test = TfidfVectorizer(analyzer='word', vocabulary = tf_idf_vec.vocabulary_)\n",
        "vec_test.fit(testing_df['Testing Text'])\n",
        "x_test = vec_test.transform(testing_df['Testing Text'])\n",
        "y_test = testing_df['Testing Labels']"
      ],
      "execution_count": 11,
      "outputs": []
    },
    {
      "cell_type": "code",
      "metadata": {
        "id": "K7IamIt-1bw1"
      },
      "source": [
        "# Define functions and variables that will perform the metrics i.e Evaluation measurement:\n",
        "# (1) Accuracy, (2) Recall, (3) Precison, (4) F-1 score \n",
        "# this metrics will be used for all models and we need to write the code again but simply call these functions.\n",
        "\n",
        "# Import metrics module from sklearn.\n",
        "from sklearn import metrics\n",
        "\n",
        "def evaluation(y_pred, y_test):\n",
        "  Accuracy = metrics.accuracy_score(y_pred, y_test)\n",
        "  Recall = metrics.recall_score(y_pred = y_pred, y_true = y_test, pos_label='positive', average='micro') # micro calculates total true positives, false negatives and false positives\n",
        "  Precision = metrics.precision_score(y_pred = y_pred, y_true = y_test, pos_label='positive', average='micro') # micro calculates total true positives, false negatives and false positives\n",
        "  F1 = 2 * (Precision * Recall) / (Precision + Recall) # Formula for F1 Score\n",
        "  print(\"Accuracy: \", Accuracy.round(4))\n",
        "  print(\"Recall:\", Recall.round(4))\n",
        "  print(\"Precision:\", Precision.round(4))\n",
        "  print(\"F-1 score:\", F1.round(4))"
      ],
      "execution_count": 12,
      "outputs": []
    },
    {
      "cell_type": "markdown",
      "metadata": {
        "id": "pEb8ULizSsgh"
      },
      "source": [
        "### **MultiNomial NB.**\n",
        "\n",
        "Train and Validation dataset.\n"
      ]
    },
    {
      "cell_type": "code",
      "metadata": {
        "colab": {
          "base_uri": "https://localhost:8080/"
        },
        "id": "dUQmPCUW8td_",
        "outputId": "f5ebe8e8-046a-41af-9538-2f9804ccae8d"
      },
      "source": [
        "from sklearn import naive_bayes\n",
        "from sklearn.model_selection import cross_val_score, KFold\n",
        "\n",
        "# Create the model.\n",
        "naive_bayes_model = naive_bayes.MultinomialNB()\n",
        "\n",
        "# Fit the training data\n",
        "naive_bayes_model.fit(x_train,y_train) # Fit the model using the training dataset\n",
        "\n",
        "# Pass the validation dataset and see the evaluation scores\n",
        "y_pred_valid = naive_bayes_model.predict(x_valid) # predict y_valid using x_valid\n",
        "evaluation(y_pred_valid, y_valid) # Run the evaluation function that gives evaluation scores\n",
        "print(\"Cross Validation Score:\", cross_val_score(naive_bayes_model, x_valid, y_valid, cv= KFold(10, shuffle=True, random_state = 22)).mean().round(4))"
      ],
      "execution_count": 27,
      "outputs": [
        {
          "output_type": "stream",
          "name": "stdout",
          "text": [
            "Accuracy:  0.7661\n",
            "Recall: 0.7661\n",
            "Precision: 0.7661\n",
            "F-1 score: 0.7661\n",
            "Cross Validation Score: 0.6788\n"
          ]
        }
      ]
    },
    {
      "cell_type": "markdown",
      "metadata": {
        "id": "0fJRCtpXTmZe"
      },
      "source": [
        "Test dataset."
      ]
    },
    {
      "cell_type": "code",
      "metadata": {
        "colab": {
          "base_uri": "https://localhost:8080/"
        },
        "id": "8psvAjtoFsLS",
        "outputId": "a2a78c72-3cb7-4d42-e8b6-9fda906344c5"
      },
      "source": [
        "# Finally use the test dataset to see the actaul performance.\n",
        "y_pred_test = naive_bayes_model.predict(x_test) # predict y_test using x_test\n",
        "evaluation(y_pred_test, y_test)\n",
        "print(\"Cross Validation Score:\", cross_val_score(naive_bayes_model, x_test, y_test, cv= KFold(10, shuffle=True, random_state = 22)).mean().round(4))"
      ],
      "execution_count": 14,
      "outputs": [
        {
          "output_type": "stream",
          "name": "stdout",
          "text": [
            "Accuracy:  0.7876\n",
            "Recall: 0.7876\n",
            "Precision: 0.7876\n",
            "F-1 score: 0.7876\n",
            "Cross Validation Score: 0.7272\n"
          ]
        }
      ]
    },
    {
      "cell_type": "markdown",
      "metadata": {
        "id": "EiQJIS-pcJrd"
      },
      "source": [
        "### **SVM**\n",
        "\n",
        "Train and Validation dataset."
      ]
    },
    {
      "cell_type": "code",
      "metadata": {
        "colab": {
          "base_uri": "https://localhost:8080/"
        },
        "id": "XgoWxg2scKuT",
        "outputId": "3d09b52c-afd3-4bdf-883a-945a10652685"
      },
      "source": [
        "from sklearn import svm\n",
        "\n",
        "# Create the model.\n",
        "svm_model = svm.SVC()\n",
        "\n",
        "# Fit the training data\n",
        "svm_model.fit(x_train,y_train) # Fit the model using the training dataset\n",
        "\n",
        "# Pass the validation dataset and see the evaluation scores\n",
        "y_pred_valid = svm_model.predict(x_valid) # predict y_valid using x_valid\n",
        "evaluation(y_pred_valid, y_valid) # Run the evaluation function that gives evaluation scores\n",
        "print(\"Cross Validation Score:\", cross_val_score(svm_model, x_valid, y_valid, cv= KFold(10, shuffle=True, random_state = 22)).mean().round(4))"
      ],
      "execution_count": 15,
      "outputs": [
        {
          "output_type": "stream",
          "name": "stdout",
          "text": [
            "Accuracy:  0.7704\n",
            "Recall: 0.7704\n",
            "Precision: 0.7704\n",
            "F-1 score: 0.7704\n",
            "Cross Validation Score: 0.6838\n"
          ]
        }
      ]
    },
    {
      "cell_type": "markdown",
      "metadata": {
        "id": "c_2bJQ2cdPRl"
      },
      "source": [
        "Test dataset."
      ]
    },
    {
      "cell_type": "code",
      "metadata": {
        "colab": {
          "base_uri": "https://localhost:8080/"
        },
        "id": "_8Sf4-ancK6q",
        "outputId": "f8ed6771-5730-44fd-b76b-888355ebbd45"
      },
      "source": [
        "# Finally use the test dataset to see the actaul performance.\n",
        "y_pred_test = svm_model.predict(x_test) # predict y_test using x_test\n",
        "evaluation(y_pred_test, y_test)\n",
        "print(\"Cross Validation Score:\", cross_val_score(svm_model, x_test, y_test, cv= KFold(10, shuffle=True, random_state = 22)).mean().round(4))"
      ],
      "execution_count": 16,
      "outputs": [
        {
          "output_type": "stream",
          "name": "stdout",
          "text": [
            "Accuracy:  0.7909\n",
            "Recall: 0.7909\n",
            "Precision: 0.7909\n",
            "F-1 score: 0.7909\n",
            "Cross Validation Score: 0.7085\n"
          ]
        }
      ]
    },
    {
      "cell_type": "markdown",
      "metadata": {
        "id": "LPsCVrhId1ec"
      },
      "source": [
        "### **KNN - K-Nearest Neighbor**\n",
        "\n",
        "Train and Validation dataset."
      ]
    },
    {
      "cell_type": "code",
      "metadata": {
        "colab": {
          "base_uri": "https://localhost:8080/"
        },
        "id": "FaD6w0LTcLFE",
        "outputId": "b1487bcd-4dc7-4444-8451-041302cba3a3"
      },
      "source": [
        "from sklearn.neighbors import KNeighborsClassifier\n",
        "\n",
        "# Create the model.\n",
        "knn_model = KNeighborsClassifier(n_neighbors = 8)\n",
        "\n",
        "# Fit the training data\n",
        "knn_model.fit(x_train,y_train) # Fit the model using the training dataset\n",
        "\n",
        "# Pass the validation dataset and see the evaluation scores\n",
        "y_pred_valid = knn_model.predict(x_valid) # predict y_valid using x_valid\n",
        "evaluation(y_pred_valid, y_valid) # Run the evaluation function that gives evaluation scores\n",
        "print(\"Cross Validation Score:\", cross_val_score(knn_model, x_valid, y_valid, cv= KFold(10, shuffle=True, random_state = 22)).mean().round(4))"
      ],
      "execution_count": 17,
      "outputs": [
        {
          "output_type": "stream",
          "name": "stdout",
          "text": [
            "Accuracy:  0.6397\n",
            "Recall: 0.6397\n",
            "Precision: 0.6397\n",
            "F-1 score: 0.6397\n",
            "Cross Validation Score: 0.6527\n"
          ]
        }
      ]
    },
    {
      "cell_type": "markdown",
      "metadata": {
        "id": "_yaKK7aSg-Px"
      },
      "source": [
        "Test dataset.\n"
      ]
    },
    {
      "cell_type": "code",
      "metadata": {
        "colab": {
          "base_uri": "https://localhost:8080/"
        },
        "id": "sX-4fH03g9l7",
        "outputId": "2142ce08-0587-457c-86c0-02e975cf3416"
      },
      "source": [
        "# Finally use the test dataset to see the actaul performance.\n",
        "y_pred_test = knn_model.predict(x_test) # predict y_test using x_test\n",
        "evaluation(y_pred_test, y_test)\n",
        "print(\"Cross Validation Score:\", cross_val_score(knn_model, x_test, y_test, cv= KFold(10, shuffle=True, random_state = 22)).mean().round(4))"
      ],
      "execution_count": 18,
      "outputs": [
        {
          "output_type": "stream",
          "name": "stdout",
          "text": [
            "Accuracy:  0.6361\n",
            "Recall: 0.6361\n",
            "Precision: 0.6361\n",
            "F-1 score: 0.6361\n",
            "Cross Validation Score: 0.5812\n"
          ]
        }
      ]
    },
    {
      "cell_type": "markdown",
      "metadata": {
        "id": "zd_x7ZA0hU87"
      },
      "source": [
        "### **Decision Tree**\n",
        "\n",
        "Train and Validation dataset."
      ]
    },
    {
      "cell_type": "code",
      "metadata": {
        "colab": {
          "base_uri": "https://localhost:8080/"
        },
        "id": "DsZAVa8aez9d",
        "outputId": "cec57332-911f-4448-db13-a2d662580e82"
      },
      "source": [
        "from sklearn.tree import DecisionTreeClassifier\n",
        "\n",
        "# Create the model.\n",
        "decision_tree_model = DecisionTreeClassifier()\n",
        "\n",
        "# Fit the training data\n",
        "decision_tree_model.fit(x_train, y_train) # Fit the model using the training dataset\n",
        "\n",
        "# Pass the validation dataset and see the evaluation scores\n",
        "y_pred_valid = decision_tree_model.predict(x_valid) # predict y_valid using x_valid\n",
        "evaluation(y_pred_valid, y_valid) # Run the evaluation function that gives evaluation scores\n",
        "print(\"Cross Validation Score:\", cross_val_score(decision_tree_model, x_valid, y_valid, cv= KFold(10, shuffle=True, random_state = 22)).mean().round(4))"
      ],
      "execution_count": 19,
      "outputs": [
        {
          "output_type": "stream",
          "name": "stdout",
          "text": [
            "Accuracy:  0.6542\n",
            "Recall: 0.6542\n",
            "Precision: 0.6542\n",
            "F-1 score: 0.6542\n",
            "Cross Validation Score: 0.5725\n"
          ]
        }
      ]
    },
    {
      "cell_type": "markdown",
      "metadata": {
        "id": "Jy44jalBiPgI"
      },
      "source": [
        "Test dataset."
      ]
    },
    {
      "cell_type": "code",
      "metadata": {
        "colab": {
          "base_uri": "https://localhost:8080/"
        },
        "id": "yeHUysjoe0Ip",
        "outputId": "33fdb91e-59b1-435a-f0c5-5d434d20ebe0"
      },
      "source": [
        "# Finally use the test dataset to see the actaul performance.\n",
        "y_pred_test = decision_tree_model.predict(x_test) # predict y_test using x_test\n",
        "evaluation(y_pred_test, y_test)\n",
        "print(\"Cross Validation Score:\", cross_val_score(decision_tree_model, x_test, y_test, cv= KFold(10, shuffle=True, random_state = 22)).mean().round(4))"
      ],
      "execution_count": 20,
      "outputs": [
        {
          "output_type": "stream",
          "name": "stdout",
          "text": [
            "Accuracy:  0.6553\n",
            "Recall: 0.6553\n",
            "Precision: 0.6553\n",
            "F-1 score: 0.6553\n",
            "Cross Validation Score: 0.613\n"
          ]
        }
      ]
    },
    {
      "cell_type": "markdown",
      "metadata": {
        "id": "O0KenJL9jVSI"
      },
      "source": [
        "### **Random Forest**\n",
        "\n",
        "Train and Validation dataset."
      ]
    },
    {
      "cell_type": "code",
      "metadata": {
        "id": "PpPxevLLe0TO",
        "colab": {
          "base_uri": "https://localhost:8080/"
        },
        "outputId": "88f2d123-7305-4d34-b7ab-852972208239"
      },
      "source": [
        "from sklearn.ensemble import RandomForestClassifier\n",
        "\n",
        "# Create the model.\n",
        "random_forest_model = RandomForestClassifier()\n",
        "\n",
        "# Fit the training data\n",
        "random_forest_model.fit(x_train, y_train) # Fit the model using the training dataset\n",
        "\n",
        "# Pass the validation dataset and see the evaluation scores\n",
        "y_pred_valid = random_forest_model.predict(x_valid) # predict y_valid using x_valid\n",
        "evaluation(y_pred_valid, y_valid) # Run the evaluation function that gives evaluation scores\n",
        "print(\"Cross Validation Score:\", cross_val_score(random_forest_model, x_valid, y_valid, cv= KFold(10, shuffle=True, random_state = 22)).mean().round(4))"
      ],
      "execution_count": 21,
      "outputs": [
        {
          "output_type": "stream",
          "name": "stdout",
          "text": [
            "Accuracy:  0.7155\n",
            "Recall: 0.7155\n",
            "Precision: 0.7155\n",
            "F-1 score: 0.7155\n",
            "Cross Validation Score: 0.6412\n"
          ]
        }
      ]
    },
    {
      "cell_type": "markdown",
      "metadata": {
        "id": "ZGsuJ_9gjnbP"
      },
      "source": [
        "Test dataset."
      ]
    },
    {
      "cell_type": "code",
      "metadata": {
        "id": "EfQ4U4ZUjpJs",
        "colab": {
          "base_uri": "https://localhost:8080/"
        },
        "outputId": "6f0cdcaa-e260-4858-c3a0-3dc2a284284b"
      },
      "source": [
        "# Finally use the test dataset to see the actaul performance.\n",
        "y_pred_test = decision_tree_model.predict(x_test) # predict y_test using x_test\n",
        "evaluation(y_pred_test, y_test)\n",
        "print(\"Cross Validation Score:\", cross_val_score(random_forest_model, x_test, y_test, cv= KFold(10, shuffle=True, random_state = 22)).mean().round(4))"
      ],
      "execution_count": 22,
      "outputs": [
        {
          "output_type": "stream",
          "name": "stdout",
          "text": [
            "Accuracy:  0.6553\n",
            "Recall: 0.6553\n",
            "Precision: 0.6553\n",
            "F-1 score: 0.6553\n",
            "Cross Validation Score: 0.6602\n"
          ]
        }
      ]
    },
    {
      "cell_type": "markdown",
      "metadata": {
        "id": "BQbYd5GSkNJm"
      },
      "source": [
        "### **XG Boost model**\n",
        "\n",
        "Train and Validation dataset."
      ]
    },
    {
      "cell_type": "code",
      "metadata": {
        "id": "OURTLM4KkOam",
        "colab": {
          "base_uri": "https://localhost:8080/"
        },
        "outputId": "271cc9f3-d6fe-4bb4-d777-5b6ade023445"
      },
      "source": [
        "from xgboost import XGBClassifier\n",
        "from statistics import mean\n",
        "\n",
        "# Create the model.\n",
        "boost_model = XGBClassifier()\n",
        "\n",
        "# Fit the training data\n",
        "boost_model.fit(x_train, y_train) # Fit the model using the training dataset\n",
        "\n",
        "# Pass the validation dataset and see the evaluation scores\n",
        "y_pred_valid = boost_model.predict(x_valid) # predict y_valid using x_valid\n",
        "evaluation(y_pred_valid, y_valid) # Run the evaluation function that gives evaluation scores\n",
        "print(\"Cross Validation Score:\", round(mean(cross_val_score(XGBClassifier(), x_valid, y_valid).tolist()),4))"
      ],
      "execution_count": 40,
      "outputs": [
        {
          "output_type": "stream",
          "name": "stdout",
          "text": [
            "Accuracy:  0.6282\n",
            "Recall: 0.6282\n",
            "Precision: 0.6282\n",
            "F-1 score: 0.6282\n",
            "Cross Validation Score: 0.5711\n"
          ]
        }
      ]
    },
    {
      "cell_type": "markdown",
      "metadata": {
        "id": "5YARGW9ckfAN"
      },
      "source": [
        "Test dataset."
      ]
    },
    {
      "cell_type": "code",
      "metadata": {
        "id": "UvoAH2BpkhEx",
        "colab": {
          "base_uri": "https://localhost:8080/"
        },
        "outputId": "a20bcc0d-5419-411b-d9bf-2b1e6f8ac5af"
      },
      "source": [
        "# Finally use the test dataset to see the actaul performance.\n",
        "y_pred_test = boost_model.predict(x_test) # predict y_test using x_test\n",
        "evaluation(y_pred_test, y_test)\n",
        "print(\"Cross Validation Score:\", round(mean(cross_val_score(XGBClassifier(), x_test, y_test).tolist()),4))"
      ],
      "execution_count": 41,
      "outputs": [
        {
          "output_type": "stream",
          "name": "stdout",
          "text": [
            "Accuracy:  0.6367\n",
            "Recall: 0.6367\n",
            "Precision: 0.6367\n",
            "F-1 score: 0.6367\n",
            "Cross Validation Score: 0.6142\n"
          ]
        }
      ]
    },
    {
      "cell_type": "markdown",
      "metadata": {
        "id": "_QRo5_wNShso"
      },
      "source": [
        "(20 points) The purpose of the question is to practice different machine learning algorithms for text clustering\n",
        "Please downlad the dataset by using the following link.  https://www.kaggle.com/PromptCloudHQ/amazon-reviews-unlocked-mobile-phones\n",
        "(You can also use different text data which you want)\n",
        "\n",
        "Apply the listed clustering methods to the dataset:\n",
        "\n",
        "K means, \n",
        "DBSCAN,\n",
        "Hierarchical clustering. \n",
        "\n",
        "You can refer to of the codes from  the follwing link below. \n",
        "https://www.kaggle.com/karthik3890/text-clustering "
      ]
    },
    {
      "cell_type": "markdown",
      "metadata": {
        "id": "8zov3qLCShsp"
      },
      "source": [
        "In one paragraph, please compare K means, DBSCAN and Hierarchical clustering."
      ]
    },
    {
      "cell_type": "code",
      "metadata": {
        "id": "W0rK_6_WShsq",
        "colab": {
          "resources": {
            "http://localhost:8080/nbextensions/google.colab/files.js": {
              "data": "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",
              "ok": true,
              "headers": [
                [
                  "content-type",
                  "application/javascript"
                ]
              ],
              "status": 200,
              "status_text": ""
            }
          },
          "base_uri": "https://localhost:8080/",
          "height": 72
        },
        "outputId": "0d3b9203-3ce2-47c8-dc8e-d5d91deb497a"
      },
      "source": [
        "# Import the datatset downloaded to the local file.\n",
        "import pandas as pd\n",
        "from google.colab import files\n",
        "uploaded = files.upload()"
      ],
      "execution_count": 44,
      "outputs": [
        {
          "output_type": "display_data",
          "data": {
            "text/html": [
              "\n",
              "     <input type=\"file\" id=\"files-722837fd-76eb-4baa-ba6f-a937a3108ed2\" name=\"files[]\" multiple disabled\n",
              "        style=\"border:none\" />\n",
              "     <output id=\"result-722837fd-76eb-4baa-ba6f-a937a3108ed2\">\n",
              "      Upload widget is only available when the cell has been executed in the\n",
              "      current browser session. Please rerun this cell to enable.\n",
              "      </output>\n",
              "      <script src=\"/nbextensions/google.colab/files.js\"></script> "
            ],
            "text/plain": [
              "<IPython.core.display.HTML object>"
            ]
          },
          "metadata": {}
        },
        {
          "output_type": "stream",
          "name": "stdout",
          "text": [
            "Saving Amazon_Unlocked_Mobile.csv to Amazon_Unlocked_Mobile (1).csv\n"
          ]
        }
      ]
    },
    {
      "cell_type": "code",
      "metadata": {
        "colab": {
          "base_uri": "https://localhost:8080/",
          "height": 419
        },
        "id": "NJ3JRdeWAvNF",
        "outputId": "537c6251-e600-4fd2-ae1c-a9a927f424f6"
      },
      "source": [
        "df_all = pd.read_csv(\"Amazon_Unlocked_Mobile (1).csv\")\n",
        "df = df_all.head(10000)\n",
        "df.dropna()"
      ],
      "execution_count": 87,
      "outputs": [
        {
          "output_type": "execute_result",
          "data": {
            "text/html": [
              "<div>\n",
              "<style scoped>\n",
              "    .dataframe tbody tr th:only-of-type {\n",
              "        vertical-align: middle;\n",
              "    }\n",
              "\n",
              "    .dataframe tbody tr th {\n",
              "        vertical-align: top;\n",
              "    }\n",
              "\n",
              "    .dataframe thead th {\n",
              "        text-align: right;\n",
              "    }\n",
              "</style>\n",
              "<table border=\"1\" class=\"dataframe\">\n",
              "  <thead>\n",
              "    <tr style=\"text-align: right;\">\n",
              "      <th></th>\n",
              "      <th>Product Name</th>\n",
              "      <th>Brand Name</th>\n",
              "      <th>Price</th>\n",
              "      <th>Rating</th>\n",
              "      <th>Reviews</th>\n",
              "      <th>Review Votes</th>\n",
              "    </tr>\n",
              "  </thead>\n",
              "  <tbody>\n",
              "    <tr>\n",
              "      <th>0</th>\n",
              "      <td>\"CLEAR CLEAN ESN\" Sprint EPIC 4G Galaxy SPH-D7...</td>\n",
              "      <td>Samsung</td>\n",
              "      <td>199.99</td>\n",
              "      <td>5</td>\n",
              "      <td>I feel so LUCKY to have found this used (phone...</td>\n",
              "      <td>1.0</td>\n",
              "    </tr>\n",
              "    <tr>\n",
              "      <th>1</th>\n",
              "      <td>\"CLEAR CLEAN ESN\" Sprint EPIC 4G Galaxy SPH-D7...</td>\n",
              "      <td>Samsung</td>\n",
              "      <td>199.99</td>\n",
              "      <td>4</td>\n",
              "      <td>nice phone, nice up grade from my pantach revu...</td>\n",
              "      <td>0.0</td>\n",
              "    </tr>\n",
              "    <tr>\n",
              "      <th>2</th>\n",
              "      <td>\"CLEAR CLEAN ESN\" Sprint EPIC 4G Galaxy SPH-D7...</td>\n",
              "      <td>Samsung</td>\n",
              "      <td>199.99</td>\n",
              "      <td>5</td>\n",
              "      <td>Very pleased</td>\n",
              "      <td>0.0</td>\n",
              "    </tr>\n",
              "    <tr>\n",
              "      <th>3</th>\n",
              "      <td>\"CLEAR CLEAN ESN\" Sprint EPIC 4G Galaxy SPH-D7...</td>\n",
              "      <td>Samsung</td>\n",
              "      <td>199.99</td>\n",
              "      <td>4</td>\n",
              "      <td>It works good but it goes slow sometimes but i...</td>\n",
              "      <td>0.0</td>\n",
              "    </tr>\n",
              "    <tr>\n",
              "      <th>4</th>\n",
              "      <td>\"CLEAR CLEAN ESN\" Sprint EPIC 4G Galaxy SPH-D7...</td>\n",
              "      <td>Samsung</td>\n",
              "      <td>199.99</td>\n",
              "      <td>4</td>\n",
              "      <td>Great phone to replace my lost phone. The only...</td>\n",
              "      <td>0.0</td>\n",
              "    </tr>\n",
              "    <tr>\n",
              "      <th>...</th>\n",
              "      <td>...</td>\n",
              "      <td>...</td>\n",
              "      <td>...</td>\n",
              "      <td>...</td>\n",
              "      <td>...</td>\n",
              "      <td>...</td>\n",
              "    </tr>\n",
              "    <tr>\n",
              "      <th>9950</th>\n",
              "      <td>Apple iPhone 4 8GB Verizon CDMA Smartphone - B...</td>\n",
              "      <td>Apple</td>\n",
              "      <td>92.00</td>\n",
              "      <td>5</td>\n",
              "      <td>I received it the way I wanted it</td>\n",
              "      <td>1.0</td>\n",
              "    </tr>\n",
              "    <tr>\n",
              "      <th>9951</th>\n",
              "      <td>Apple iPhone 4 8GB Verizon CDMA Smartphone - B...</td>\n",
              "      <td>Apple</td>\n",
              "      <td>92.00</td>\n",
              "      <td>4</td>\n",
              "      <td>Good!</td>\n",
              "      <td>1.0</td>\n",
              "    </tr>\n",
              "    <tr>\n",
              "      <th>9952</th>\n",
              "      <td>Apple iPhone 4 8GB Verizon CDMA Smartphone - B...</td>\n",
              "      <td>Apple</td>\n",
              "      <td>92.00</td>\n",
              "      <td>5</td>\n",
              "      <td>Love it</td>\n",
              "      <td>1.0</td>\n",
              "    </tr>\n",
              "    <tr>\n",
              "      <th>9953</th>\n",
              "      <td>Apple iPhone 4 8GB Verizon CDMA Smartphone - B...</td>\n",
              "      <td>Apple</td>\n",
              "      <td>92.00</td>\n",
              "      <td>3</td>\n",
              "      <td>Phone is great but charger did not work at all</td>\n",
              "      <td>2.0</td>\n",
              "    </tr>\n",
              "    <tr>\n",
              "      <th>9954</th>\n",
              "      <td>Apple iPhone 4 8GB Verizon CDMA Smartphone - B...</td>\n",
              "      <td>Apple</td>\n",
              "      <td>92.00</td>\n",
              "      <td>4</td>\n",
              "      <td>works fine. It's just a little slow</td>\n",
              "      <td>1.0</td>\n",
              "    </tr>\n",
              "  </tbody>\n",
              "</table>\n",
              "<p>7226 rows × 6 columns</p>\n",
              "</div>"
            ],
            "text/plain": [
              "                                           Product Name  ... Review Votes\n",
              "0     \"CLEAR CLEAN ESN\" Sprint EPIC 4G Galaxy SPH-D7...  ...          1.0\n",
              "1     \"CLEAR CLEAN ESN\" Sprint EPIC 4G Galaxy SPH-D7...  ...          0.0\n",
              "2     \"CLEAR CLEAN ESN\" Sprint EPIC 4G Galaxy SPH-D7...  ...          0.0\n",
              "3     \"CLEAR CLEAN ESN\" Sprint EPIC 4G Galaxy SPH-D7...  ...          0.0\n",
              "4     \"CLEAR CLEAN ESN\" Sprint EPIC 4G Galaxy SPH-D7...  ...          0.0\n",
              "...                                                 ...  ...          ...\n",
              "9950  Apple iPhone 4 8GB Verizon CDMA Smartphone - B...  ...          1.0\n",
              "9951  Apple iPhone 4 8GB Verizon CDMA Smartphone - B...  ...          1.0\n",
              "9952  Apple iPhone 4 8GB Verizon CDMA Smartphone - B...  ...          1.0\n",
              "9953  Apple iPhone 4 8GB Verizon CDMA Smartphone - B...  ...          2.0\n",
              "9954  Apple iPhone 4 8GB Verizon CDMA Smartphone - B...  ...          1.0\n",
              "\n",
              "[7226 rows x 6 columns]"
            ]
          },
          "metadata": {},
          "execution_count": 87
        }
      ]
    },
    {
      "cell_type": "markdown",
      "metadata": {
        "id": "Q44pTr03BAoB"
      },
      "source": [
        "Preliminary analysis.\n",
        "Look at the distribution of the customer ratings."
      ]
    },
    {
      "cell_type": "code",
      "metadata": {
        "colab": {
          "base_uri": "https://localhost:8080/",
          "height": 279
        },
        "id": "DdinmGb9BGnJ",
        "outputId": "4be4c7ea-9557-4ff6-f197-4a294e964a06"
      },
      "source": [
        "import seaborn as sns\n",
        "sns.countplot(df[\"Rating\"]);"
      ],
      "execution_count": 79,
      "outputs": [
        {
          "output_type": "display_data",
          "data": {
            "image/png": "[encoded data removed]",
            "text/plain": [
              "<Figure size 432x288 with 1 Axes>"
            ]
          },
          "metadata": {
            "needs_background": "light"
          }
        }
      ]
    },
    {
      "cell_type": "code",
      "metadata": {
        "id": "3wH9AXqcEwNH"
      },
      "source": [
        "# Convert the ratings to either positive or negative based on their values. Anything less than 3 is negative and including and above it is positive.\n",
        "\n",
        "def categorize(rating):\n",
        "    if rating < 3:\n",
        "        return 'negative'\n",
        "    return 'positive'\n",
        "\n",
        "rating_classification = df['Rating'].map(categorize) \n",
        "df['Rating'] = rating_classification"
      ],
      "execution_count": 80,
      "outputs": []
    },
    {
      "cell_type": "code",
      "metadata": {
        "colab": {
          "base_uri": "https://localhost:8080/",
          "height": 204
        },
        "id": "1la_QfTMJTpv",
        "outputId": "26b60442-de9a-4895-e1f5-c1940660ca20"
      },
      "source": [
        "df.head() # Check the change."
      ],
      "execution_count": 81,
      "outputs": [
        {
          "output_type": "execute_result",
          "data": {
            "text/html": [
              "<div>\n",
              "<style scoped>\n",
              "    .dataframe tbody tr th:only-of-type {\n",
              "        vertical-align: middle;\n",
              "    }\n",
              "\n",
              "    .dataframe tbody tr th {\n",
              "        vertical-align: top;\n",
              "    }\n",
              "\n",
              "    .dataframe thead th {\n",
              "        text-align: right;\n",
              "    }\n",
              "</style>\n",
              "<table border=\"1\" class=\"dataframe\">\n",
              "  <thead>\n",
              "    <tr style=\"text-align: right;\">\n",
              "      <th></th>\n",
              "      <th>Product Name</th>\n",
              "      <th>Brand Name</th>\n",
              "      <th>Price</th>\n",
              "      <th>Rating</th>\n",
              "      <th>Reviews</th>\n",
              "      <th>Review Votes</th>\n",
              "    </tr>\n",
              "  </thead>\n",
              "  <tbody>\n",
              "    <tr>\n",
              "      <th>0</th>\n",
              "      <td>\"CLEAR CLEAN ESN\" Sprint EPIC 4G Galaxy SPH-D7...</td>\n",
              "      <td>Samsung</td>\n",
              "      <td>199.99</td>\n",
              "      <td>positive</td>\n",
              "      <td>I feel so LUCKY to have found this used (phone...</td>\n",
              "      <td>1.0</td>\n",
              "    </tr>\n",
              "    <tr>\n",
              "      <th>1</th>\n",
              "      <td>\"CLEAR CLEAN ESN\" Sprint EPIC 4G Galaxy SPH-D7...</td>\n",
              "      <td>Samsung</td>\n",
              "      <td>199.99</td>\n",
              "      <td>positive</td>\n",
              "      <td>nice phone, nice up grade from my pantach revu...</td>\n",
              "      <td>0.0</td>\n",
              "    </tr>\n",
              "    <tr>\n",
              "      <th>2</th>\n",
              "      <td>\"CLEAR CLEAN ESN\" Sprint EPIC 4G Galaxy SPH-D7...</td>\n",
              "      <td>Samsung</td>\n",
              "      <td>199.99</td>\n",
              "      <td>positive</td>\n",
              "      <td>Very pleased</td>\n",
              "      <td>0.0</td>\n",
              "    </tr>\n",
              "    <tr>\n",
              "      <th>3</th>\n",
              "      <td>\"CLEAR CLEAN ESN\" Sprint EPIC 4G Galaxy SPH-D7...</td>\n",
              "      <td>Samsung</td>\n",
              "      <td>199.99</td>\n",
              "      <td>positive</td>\n",
              "      <td>It works good but it goes slow sometimes but i...</td>\n",
              "      <td>0.0</td>\n",
              "    </tr>\n",
              "    <tr>\n",
              "      <th>4</th>\n",
              "      <td>\"CLEAR CLEAN ESN\" Sprint EPIC 4G Galaxy SPH-D7...</td>\n",
              "      <td>Samsung</td>\n",
              "      <td>199.99</td>\n",
              "      <td>positive</td>\n",
              "      <td>Great phone to replace my lost phone. The only...</td>\n",
              "      <td>0.0</td>\n",
              "    </tr>\n",
              "  </tbody>\n",
              "</table>\n",
              "</div>"
            ],
            "text/plain": [
              "                                        Product Name  ... Review Votes\n",
              "0  \"CLEAR CLEAN ESN\" Sprint EPIC 4G Galaxy SPH-D7...  ...          1.0\n",
              "1  \"CLEAR CLEAN ESN\" Sprint EPIC 4G Galaxy SPH-D7...  ...          0.0\n",
              "2  \"CLEAR CLEAN ESN\" Sprint EPIC 4G Galaxy SPH-D7...  ...          0.0\n",
              "3  \"CLEAR CLEAN ESN\" Sprint EPIC 4G Galaxy SPH-D7...  ...          0.0\n",
              "4  \"CLEAR CLEAN ESN\" Sprint EPIC 4G Galaxy SPH-D7...  ...          0.0\n",
              "\n",
              "[5 rows x 6 columns]"
            ]
          },
          "metadata": {},
          "execution_count": 81
        }
      ]
    },
    {
      "cell_type": "code",
      "metadata": {
        "colab": {
          "base_uri": "https://localhost:8080/",
          "height": 330
        },
        "id": "N3ZKH-btJa22",
        "outputId": "4ff29663-162a-45a3-8152-4c9dd833ae4a"
      },
      "source": [
        "import seaborn as sns\n",
        "sns.countplot(df[\"Rating\"]) # See how positives and negatives are distributed.\n",
        "df[\"Rating\"].value_counts()"
      ],
      "execution_count": 82,
      "outputs": [
        {
          "output_type": "execute_result",
          "data": {
            "text/plain": [
              "positive    7206\n",
              "negative    2794\n",
              "Name: Rating, dtype: int64"
            ]
          },
          "metadata": {},
          "execution_count": 82
        },
        {
          "output_type": "display_data",
          "data": {
            "image/png": "[encoded data removed]",
            "text/plain": [
              "<Figure size 432x288 with 1 Axes>"
            ]
          },
          "metadata": {
            "needs_background": "light"
          }
        }
      ]
    },
    {
      "cell_type": "markdown",
      "metadata": {
        "id": "AH-DcRhVKBmp"
      },
      "source": [
        "## Cleaning Data"
      ]
    },
    {
      "cell_type": "code",
      "metadata": {
        "colab": {
          "base_uri": "https://localhost:8080/"
        },
        "id": "oGzJR6kaKDkn",
        "outputId": "4b355b3b-db19-4669-baac-e3bfabccefd3"
      },
      "source": [
        "# Find sentences that contains the HTML tags so that they can be cleaned.\n",
        "import re\n",
        "i=0;\n",
        "for sent in df['Reviews'].values:\n",
        "    if (len(re.findall('<.*?>', sent))):\n",
        "        print(i)\n",
        "        print(sent)\n",
        "        break;\n",
        "    i += 1;"
      ],
      "execution_count": 83,
      "outputs": [
        {
          "output_type": "stream",
          "name": "stdout",
          "text": [
            "4646\n",
            "Unless you know how to jail break this phone... what's the point? Most apps don't support this old phone. <(it's not really old, they just want you to spend money on the newer version. wtf? but whatever)>\n"
          ]
        }
      ]
    },
    {
      "cell_type": "code",
      "metadata": {
        "colab": {
          "base_uri": "https://localhost:8080/"
        },
        "id": "_iXMFNYSKJ-S",
        "outputId": "bf303bac-9349-4716-dbd7-181ddbe660d4"
      },
      "source": [
        "import nltk\n",
        "nltk.download('punkt')\n",
        "nltk.download('wordnet')\n",
        "from nltk.corpus import stopwords\n",
        "nltk.download(\"stopwords\")\n",
        "stop_words = set(stopwords.words(\"english\")) \n",
        "from textblob import TextBlob\n",
        "from textblob import Word\n",
        "\n",
        "df['Reviews'] = df['Reviews'].astype(str) # Convert the Reviews column to string type to continue with the cleaning.\n",
        "\n",
        "# Convert all the words to lower. Example: \"Upper\" and \"upper\" are different because they have different ascii keys.\n",
        "df['Reviews'] = df['Reviews'].apply(lambda x: \" \".join(x.lower() for x in x.split()))\n",
        "\n",
        "# Remove the punctuations and special characters\n",
        "df['Reviews'] = df['Reviews'].str.replace(\"@,#,$,!,^,&,*,_,+,=,~,`,,,.,:,;,/,?\",'') # remove puncuation special characters and numbers\n",
        "\n",
        "# remove all the stopwords from english language\n",
        "df['Reviews'] = df['Reviews'].apply(lambda x: \" \".join(x for x in x.split() if x not in stop_words))\n",
        "\n",
        "# Tokenize and Lemmatize the texts.\n",
        "df['Reviews'] = df['Reviews'].apply(lambda x: TextBlob(x).words)\n",
        "df['Reviews'] = df['Reviews'].apply(lambda x: \" \".join([Word(word).lemmatize() for word in x]))\n",
        "df['Reviews']"
      ],
      "execution_count": 88,
      "outputs": [
        {
          "output_type": "stream",
          "name": "stdout",
          "text": [
            "[nltk_data] Downloading package punkt to /root/nltk_data...\n",
            "[nltk_data]   Package punkt is already up-to-date!\n",
            "[nltk_data] Downloading package wordnet to /root/nltk_data...\n",
            "[nltk_data]   Package wordnet is already up-to-date!\n",
            "[nltk_data] Downloading package stopwords to /root/nltk_data...\n",
            "[nltk_data]   Package stopwords is already up-to-date!\n"
          ]
        },
        {
          "output_type": "execute_result",
          "data": {
            "text/plain": [
              "0       feel lucky found used phone u used hard all ph...\n",
              "1       nice phone nice grade pantach revue clean set ...\n",
              "2                                                 pleased\n",
              "3             work good go slow sometimes good phone love\n",
              "4       great phone replace lost phone thing volume bu...\n",
              "                              ...                        \n",
              "9995    word ca n't describe unsatisfied am product or...\n",
              "9996    first iphone receive great condition rival bra...\n",
              "9997    black color white took white color sent free c...\n",
              "9998    phone unlocked received it tried several carri...\n",
              "9999    nice phone like it.it like brand apps availabi...\n",
              "Name: Reviews, Length: 10000, dtype: object"
            ]
          },
          "metadata": {},
          "execution_count": 88
        }
      ]
    },
    {
      "cell_type": "markdown",
      "metadata": {
        "id": "MbTECXKBPTWH"
      },
      "source": [
        "# 1. KMeans CLustering using Bag of words technique."
      ]
    },
    {
      "cell_type": "code",
      "metadata": {
        "colab": {
          "base_uri": "https://localhost:8080/"
        },
        "id": "cNNJ8VHBPSbF",
        "outputId": "217f5b9b-3897-4350-8d08-bd7b9c474a44"
      },
      "source": [
        "from sklearn.feature_extraction.text import CountVectorizer # Used to transform so that model can understand the data.\n",
        "count_vector = CountVectorizer()\n",
        "bag_of_words = count_vector.fit_transform(df['Reviews'].values)\n",
        "\n",
        "# Import KMeans from sciKit Learn\n",
        "from sklearn.cluster import KMeans\n",
        "kmeans_model = KMeans(n_clusters = 15,init='k-means++', n_jobs = -1,random_state=22)\n",
        "kmeans_model.fit(bag_of_words)"
      ],
      "execution_count": 91,
      "outputs": [
        {
          "output_type": "execute_result",
          "data": {
            "text/plain": [
              "KMeans(algorithm='auto', copy_x=True, init='k-means++', max_iter=300,\n",
              "       n_clusters=15, n_init=10, n_jobs=-1, precompute_distances='auto',\n",
              "       random_state=22, tol=0.0001, verbose=0)"
            ]
          },
          "metadata": {},
          "execution_count": 91
        }
      ]
    },
    {
      "cell_type": "code",
      "metadata": {
        "id": "OKrKlS38MBqE"
      },
      "source": [
        "labels = kmeans_model.labels_\n",
        "cluster_center = kmeans_model.cluster_centers_"
      ],
      "execution_count": 92,
      "outputs": []
    },
    {
      "cell_type": "code",
      "metadata": {
        "colab": {
          "base_uri": "https://localhost:8080/"
        },
        "id": "XeqZDc0BQbE7",
        "outputId": "63a6507c-7aab-4519-c839-af8c9dd2a784"
      },
      "source": [
        "cluster_center # centroids of all the clusters"
      ],
      "execution_count": 94,
      "outputs": [
        {
          "output_type": "execute_result",
          "data": {
            "text/plain": [
              "array([[2.48190279e-03, 0.00000000e+00, 0.00000000e+00, ...,\n",
              "        6.20475698e-04, 0.00000000e+00, 0.00000000e+00],\n",
              "       [6.25000000e-02, 0.00000000e+00, 0.00000000e+00, ...,\n",
              "        0.00000000e+00, 0.00000000e+00, 0.00000000e+00],\n",
              "       [0.00000000e+00, 0.00000000e+00, 0.00000000e+00, ...,\n",
              "        0.00000000e+00, 0.00000000e+00, 1.49253731e-02],\n",
              "       ...,\n",
              "       [7.50000000e-01, 0.00000000e+00, 0.00000000e+00, ...,\n",
              "        0.00000000e+00, 0.00000000e+00, 0.00000000e+00],\n",
              "       [0.00000000e+00, 0.00000000e+00, 0.00000000e+00, ...,\n",
              "        0.00000000e+00, 0.00000000e+00, 0.00000000e+00],\n",
              "       [0.00000000e+00, 0.00000000e+00, 0.00000000e+00, ...,\n",
              "        0.00000000e+00, 0.00000000e+00, 0.00000000e+00]])"
            ]
          },
          "metadata": {},
          "execution_count": 94
        }
      ]
    },
    {
      "cell_type": "code",
      "metadata": {
        "colab": {
          "base_uri": "https://localhost:8080/"
        },
        "id": "NlJdgPrpQdQx",
        "outputId": "5e522ba4-a041-4a1c-aeea-00aa5f79b909"
      },
      "source": [
        "# See how far the clusters are\n",
        "silhouette_score = metrics.silhouette_score(bag_of_words, labels, metric='euclidean')\n",
        "silhouette_score"
      ],
      "execution_count": 96,
      "outputs": [
        {
          "output_type": "execute_result",
          "data": {
            "text/plain": [
              "0.04093664177156898"
            ]
          },
          "metadata": {},
          "execution_count": 96
        }
      ]
    },
    {
      "cell_type": "code",
      "metadata": {
        "colab": {
          "base_uri": "https://localhost:8080/",
          "height": 419
        },
        "id": "NFH4xpQqQ3ex",
        "outputId": "a9e0dcbf-0d80-432a-9b56-59aceb513cda"
      },
      "source": [
        "# Giving Labels to each cluster\n",
        "df_kmeans = df \n",
        "df_kmeans['Cluster Label'] = kmeans_model.labels_ # adds the last column with the labels\n",
        "df_kmeans"
      ],
      "execution_count": 99,
      "outputs": [
        {
          "output_type": "execute_result",
          "data": {
            "text/html": [
              "<div>\n",
              "<style scoped>\n",
              "    .dataframe tbody tr th:only-of-type {\n",
              "        vertical-align: middle;\n",
              "    }\n",
              "\n",
              "    .dataframe tbody tr th {\n",
              "        vertical-align: top;\n",
              "    }\n",
              "\n",
              "    .dataframe thead th {\n",
              "        text-align: right;\n",
              "    }\n",
              "</style>\n",
              "<table border=\"1\" class=\"dataframe\">\n",
              "  <thead>\n",
              "    <tr style=\"text-align: right;\">\n",
              "      <th></th>\n",
              "      <th>Product Name</th>\n",
              "      <th>Brand Name</th>\n",
              "      <th>Price</th>\n",
              "      <th>Rating</th>\n",
              "      <th>Reviews</th>\n",
              "      <th>Review Votes</th>\n",
              "      <th>Cluster Label</th>\n",
              "    </tr>\n",
              "  </thead>\n",
              "  <tbody>\n",
              "    <tr>\n",
              "      <th>0</th>\n",
              "      <td>\"CLEAR CLEAN ESN\" Sprint EPIC 4G Galaxy SPH-D7...</td>\n",
              "      <td>Samsung</td>\n",
              "      <td>199.99</td>\n",
              "      <td>5</td>\n",
              "      <td>feel lucky found used phone u used hard all ph...</td>\n",
              "      <td>1.0</td>\n",
              "      <td>4</td>\n",
              "    </tr>\n",
              "    <tr>\n",
              "      <th>1</th>\n",
              "      <td>\"CLEAR CLEAN ESN\" Sprint EPIC 4G Galaxy SPH-D7...</td>\n",
              "      <td>Samsung</td>\n",
              "      <td>199.99</td>\n",
              "      <td>4</td>\n",
              "      <td>nice phone nice grade pantach revue clean set ...</td>\n",
              "      <td>0.0</td>\n",
              "      <td>4</td>\n",
              "    </tr>\n",
              "    <tr>\n",
              "      <th>2</th>\n",
              "      <td>\"CLEAR CLEAN ESN\" Sprint EPIC 4G Galaxy SPH-D7...</td>\n",
              "      <td>Samsung</td>\n",
              "      <td>199.99</td>\n",
              "      <td>5</td>\n",
              "      <td>pleased</td>\n",
              "      <td>0.0</td>\n",
              "      <td>0</td>\n",
              "    </tr>\n",
              "    <tr>\n",
              "      <th>3</th>\n",
              "      <td>\"CLEAR CLEAN ESN\" Sprint EPIC 4G Galaxy SPH-D7...</td>\n",
              "      <td>Samsung</td>\n",
              "      <td>199.99</td>\n",
              "      <td>4</td>\n",
              "      <td>work good go slow sometimes good phone love</td>\n",
              "      <td>0.0</td>\n",
              "      <td>6</td>\n",
              "    </tr>\n",
              "    <tr>\n",
              "      <th>4</th>\n",
              "      <td>\"CLEAR CLEAN ESN\" Sprint EPIC 4G Galaxy SPH-D7...</td>\n",
              "      <td>Samsung</td>\n",
              "      <td>199.99</td>\n",
              "      <td>4</td>\n",
              "      <td>great phone replace lost phone thing volume bu...</td>\n",
              "      <td>0.0</td>\n",
              "      <td>4</td>\n",
              "    </tr>\n",
              "    <tr>\n",
              "      <th>...</th>\n",
              "      <td>...</td>\n",
              "      <td>...</td>\n",
              "      <td>...</td>\n",
              "      <td>...</td>\n",
              "      <td>...</td>\n",
              "      <td>...</td>\n",
              "      <td>...</td>\n",
              "    </tr>\n",
              "    <tr>\n",
              "      <th>9995</th>\n",
              "      <td>Apple iPhone 4 8GB, Unlocked (Black)</td>\n",
              "      <td>NaN</td>\n",
              "      <td>122.00</td>\n",
              "      <td>1</td>\n",
              "      <td>word ca n't describe unsatisfied am product or...</td>\n",
              "      <td>2.0</td>\n",
              "      <td>6</td>\n",
              "    </tr>\n",
              "    <tr>\n",
              "      <th>9996</th>\n",
              "      <td>Apple iPhone 4 8GB, Unlocked (Black)</td>\n",
              "      <td>NaN</td>\n",
              "      <td>122.00</td>\n",
              "      <td>2</td>\n",
              "      <td>first iphone receive great condition rival bra...</td>\n",
              "      <td>2.0</td>\n",
              "      <td>6</td>\n",
              "    </tr>\n",
              "    <tr>\n",
              "      <th>9997</th>\n",
              "      <td>Apple iPhone 4 8GB, Unlocked (Black)</td>\n",
              "      <td>NaN</td>\n",
              "      <td>122.00</td>\n",
              "      <td>4</td>\n",
              "      <td>black color white took white color sent free c...</td>\n",
              "      <td>0.0</td>\n",
              "      <td>6</td>\n",
              "    </tr>\n",
              "    <tr>\n",
              "      <th>9998</th>\n",
              "      <td>Apple iPhone 4 8GB, Unlocked (Black)</td>\n",
              "      <td>NaN</td>\n",
              "      <td>122.00</td>\n",
              "      <td>1</td>\n",
              "      <td>phone unlocked received it tried several carri...</td>\n",
              "      <td>0.0</td>\n",
              "      <td>6</td>\n",
              "    </tr>\n",
              "    <tr>\n",
              "      <th>9999</th>\n",
              "      <td>Apple iPhone 4 8GB, Unlocked (Black)</td>\n",
              "      <td>NaN</td>\n",
              "      <td>122.00</td>\n",
              "      <td>4</td>\n",
              "      <td>nice phone like it.it like brand apps availabi...</td>\n",
              "      <td>0.0</td>\n",
              "      <td>6</td>\n",
              "    </tr>\n",
              "  </tbody>\n",
              "</table>\n",
              "<p>10000 rows × 7 columns</p>\n",
              "</div>"
            ],
            "text/plain": [
              "                                           Product Name  ... Cluster Label\n",
              "0     \"CLEAR CLEAN ESN\" Sprint EPIC 4G Galaxy SPH-D7...  ...             4\n",
              "1     \"CLEAR CLEAN ESN\" Sprint EPIC 4G Galaxy SPH-D7...  ...             4\n",
              "2     \"CLEAR CLEAN ESN\" Sprint EPIC 4G Galaxy SPH-D7...  ...             0\n",
              "3     \"CLEAR CLEAN ESN\" Sprint EPIC 4G Galaxy SPH-D7...  ...             6\n",
              "4     \"CLEAR CLEAN ESN\" Sprint EPIC 4G Galaxy SPH-D7...  ...             4\n",
              "...                                                 ...  ...           ...\n",
              "9995               Apple iPhone 4 8GB, Unlocked (Black)  ...             6\n",
              "9996               Apple iPhone 4 8GB, Unlocked (Black)  ...             6\n",
              "9997               Apple iPhone 4 8GB, Unlocked (Black)  ...             6\n",
              "9998               Apple iPhone 4 8GB, Unlocked (Black)  ...             6\n",
              "9999               Apple iPhone 4 8GB, Unlocked (Black)  ...             6\n",
              "\n",
              "[10000 rows x 7 columns]"
            ]
          },
          "metadata": {},
          "execution_count": 99
        }
      ]
    },
    {
      "cell_type": "code",
      "metadata": {
        "colab": {
          "base_uri": "https://localhost:8080/"
        },
        "id": "KtJE-TqHRybq",
        "outputId": "946f36ee-017c-407c-cc1b-35fd422848b5"
      },
      "source": [
        "# Check the number of clusters\n",
        "df_kmeans.groupby([\"Cluster Label\"])['Reviews'].count()"
      ],
      "execution_count": 102,
      "outputs": [
        {
          "output_type": "execute_result",
          "data": {
            "text/plain": [
              "Cluster Label\n",
              "0     4835\n",
              "1       16\n",
              "2       67\n",
              "3        2\n",
              "4     1046\n",
              "5        1\n",
              "6     3662\n",
              "7        2\n",
              "8       79\n",
              "9      282\n",
              "10       1\n",
              "11       1\n",
              "12       4\n",
              "13       1\n",
              "14       1\n",
              "Name: Reviews, dtype: int64"
            ]
          },
          "metadata": {},
          "execution_count": 102
        }
      ]
    },
    {
      "cell_type": "markdown",
      "metadata": {
        "id": "sla6zItDSRN3"
      },
      "source": [
        "###**We see there are seven main clusters.**"
      ]
    },
    {
      "cell_type": "code",
      "metadata": {
        "colab": {
          "base_uri": "https://localhost:8080/"
        },
        "id": "-fK7BuweSGZM",
        "outputId": "a4a6ffef-f303-427b-ac11-a4fe9737ec9c"
      },
      "source": [
        "# Find the top 10 features of cluster centroid that a re meaningful.\n",
        "print(\"Top terms per main clusters:\")\n",
        "order_centroids = kmeans_model.cluster_centers_.argsort()[:, ::-1]\n",
        "terms = count_vector.get_feature_names()\n",
        "\n",
        "for i in [0,1,2,4,6,8,9]:\n",
        "    print(\"Cluster %d:\" % i, end='')\n",
        "    print(\" \") # Enter new line\n",
        "    for ind in order_centroids[i, :10]:\n",
        "        print(' %s' % terms[ind], end='')\n",
        "        print()"
      ],
      "execution_count": 113,
      "outputs": [
        {
          "output_type": "stream",
          "name": "stdout",
          "text": [
            "Top terms per main clusters:\n",
            "Cluster 0: \n",
            " good\n",
            " work\n",
            " great\n",
            " iphone\n",
            " it\n",
            " product\n",
            " new\n",
            " like\n",
            " love\n",
            " condition\n",
            "Cluster 1: \n",
            " phone\n",
            " screen\n",
            " camera\n",
            " one\n",
            " like\n",
            " would\n",
            " it\n",
            " use\n",
            " get\n",
            " battery\n",
            "Cluster 2: \n",
            " phone\n",
            " battery\n",
            " use\n",
            " like\n",
            " good\n",
            " one\n",
            " get\n",
            " screen\n",
            " card\n",
            " really\n",
            "Cluster 4: \n",
            " phone\n",
            " work\n",
            " screen\n",
            " one\n",
            " good\n",
            " great\n",
            " new\n",
            " it\n",
            " would\n",
            " get\n",
            "Cluster 6: \n",
            " phone\n",
            " great\n",
            " work\n",
            " good\n",
            " new\n",
            " it\n",
            " iphone\n",
            " like\n",
            " one\n",
            " love\n",
            "Cluster 8: \n",
            " phone\n",
            " screen\n",
            " good\n",
            " camera\n",
            " great\n",
            " it\n",
            " like\n",
            " one\n",
            " use\n",
            " get\n",
            "Cluster 9: \n",
            " phone\n",
            " one\n",
            " screen\n",
            " would\n",
            " it\n",
            " great\n",
            " time\n",
            " iphone\n",
            " get\n",
            " new\n"
          ]
        }
      ]
    },
    {
      "cell_type": "code",
      "metadata": {
        "colab": {
          "base_uri": "https://localhost:8080/",
          "height": 295
        },
        "id": "PiMO7lX9SqS7",
        "outputId": "f48fb591-f228-4403-e3a2-b408cfe45826"
      },
      "source": [
        "# Visualization\n",
        "\n",
        "import matplotlib.pyplot as plots\n",
        "plots.bar([x for x in range(15)],df_kmeans.groupby([\"Cluster Label\"])['Reviews'].count(), alpha = 0.4)\n",
        "plots.title('Cluster Points')\n",
        "plots.xlabel(\"Cluster number\")\n",
        "plots.ylabel(\"Number of points in cluster\")\n",
        "plots.show()"
      ],
      "execution_count": 120,
      "outputs": [
        {
          "output_type": "display_data",
          "data": {
            "image/png": "[encoded data removed]",
            "text/plain": [
              "<Figure size 432x288 with 1 Axes>"
            ]
          },
          "metadata": {
            "needs_background": "light"
          }
        }
      ]
    },
    {
      "cell_type": "markdown",
      "metadata": {
        "id": "pkT3U6YXVCqK"
      },
      "source": [
        "# 2. DBSCAN"
      ]
    },
    {
      "cell_type": "code",
      "metadata": {
        "id": "SDpv05OXVD_r"
      },
      "source": [
        "# Import DBSCAN from scikit learn\n",
        "from sklearn.cluster import DBSCAN"
      ],
      "execution_count": 121,
      "outputs": []
    },
    {
      "cell_type": "code",
      "metadata": {
        "id": "eCJE0Rz9WYLs"
      },
      "source": [
        "# First use Average word to vector model to pass to DBSCAN model\n",
        "# Train your own Word2Vec model\n",
        "list_of_sent=[]\n",
        "for sent in df['Reviews'].values:\n",
        "    list_of_sent.append(sent.split())"
      ],
      "execution_count": 146,
      "outputs": []
    },
    {
      "cell_type": "code",
      "metadata": {
        "id": "gds24iZaW5pb"
      },
      "source": [
        "# removing html tags and apostrophes if present using the code in the link from the question.\n",
        "import re\n",
        "def cleanhtml(sentence): #function to clean the word of any html-tags\n",
        "    cleanreg = re.compile('<.*?>')\n",
        "    cleantext = re.sub(cleanreg, ' ', sentence)\n",
        "    return cleantext\n",
        "\n",
        "def cleanpunctuation(sentence): #function to clean the word of any punctuation or special characters\n",
        "    cleaned = re.sub(r'[?|!|\\'|\"|#]',r'',sentence)\n",
        "    cleaned = re.sub(r'[.|,|)|(|\\|/]',r' ',cleaned)\n",
        "    return  cleaned"
      ],
      "execution_count": 134,
      "outputs": []
    },
    {
      "cell_type": "code",
      "metadata": {
        "id": "ZJU3k-4NXSS1"
      },
      "source": [
        "i=0\n",
        "list_of_sent_train=[]\n",
        "for sent in df['Reviews'].values:\n",
        "    filtered_sentence=[]\n",
        "    sent=cleanhtml(sent)\n",
        "    for w in sent.split():\n",
        "        for cleaned_words in cleanpunctuation(w).split():\n",
        "            if(cleaned_words.isalpha()):    \n",
        "                filtered_sentence.append(cleaned_words.lower())\n",
        "            else:\n",
        "                continue \n",
        "    list_of_sent_train.append(filtered_sentence)"
      ],
      "execution_count": 135,
      "outputs": []
    },
    {
      "cell_type": "code",
      "metadata": {
        "id": "duV5ENY_XkBF"
      },
      "source": [
        "import gensim\n",
        "# Training the wor2vec model using train dataset\n",
        "w2v_model=gensim.models.Word2Vec(list_of_sent_train,size=100, workers=4)"
      ],
      "execution_count": 149,
      "outputs": []
    },
    {
      "cell_type": "code",
      "metadata": {
        "colab": {
          "base_uri": "https://localhost:8080/"
        },
        "id": "kceb6QHVX_Ct",
        "outputId": "3894294d-190f-44ea-df4c-3dd68956836e"
      },
      "source": [
        "import numpy as np\n",
        "sent_vectors = []; # the avg-w2v for each sentence/review is stored in this train\n",
        "for sent in list_of_sent_train: # for each review/sentence\n",
        "    sent_vec = np.zeros(100) # as word vectors are of zero length\n",
        "    cnt_words =0; # num of words with a valid vector in the sentence/review\n",
        "    for word in sent: # for each word in a review/sentence\n",
        "        try:\n",
        "            vec = w2v_model.wv[word]\n",
        "            sent_vec += vec\n",
        "            cnt_words += 1\n",
        "        except:\n",
        "            pass\n",
        "    sent_vec /= cnt_words\n",
        "    sent_vectors.append(sent_vec)\n",
        "sent_vectors = np.array(sent_vectors)\n",
        "sent_vectors = np.nan_to_num(sent_vectors)\n",
        "sent_vectors.shape"
      ],
      "execution_count": 150,
      "outputs": [
        {
          "output_type": "execute_result",
          "data": {
            "text/plain": [
              "(10000, 100)"
            ]
          },
          "metadata": {},
          "execution_count": 150
        }
      ]
    },
    {
      "cell_type": "code",
      "metadata": {
        "id": "mZZntb3LVfn2"
      },
      "source": [
        "# Computing 200th Nearest neighbour distance\n",
        "\n",
        "minPts = 200\n",
        "\n",
        " # return the number greater than or equal to itself.\n",
        "def lower_bound(nums, target):\n",
        "    l, r = 0, len(nums) - 1\n",
        "    while l <= r: # Binary searching.\n",
        "        mid = int(l + (r - l) / 2)\n",
        "        if nums[mid] >= target:\n",
        "            r = mid - 1\n",
        "        else:\n",
        "            l = mid + 1\n",
        "    return l\n",
        "\n",
        "# Returns the distance of 200th nearest neighbour.\n",
        "def compute_200_nearest_neighbour(x, data): \n",
        "    distances = []\n",
        "    for val in data:\n",
        "        distance = np.sum((x - val) **2 ) # distances\n",
        "        if(len(distances) == 200 and distances[199] > distance): # If distance is larger than current largest distance found \n",
        "            l = int(lower_bound(distances, distance)) \n",
        "            if l < 200 and l >= 0 and distances[l] > distance:\n",
        "                distances[l] = distance\n",
        "        else:\n",
        "            distances.append(distance)\n",
        "            distances.sort()\n",
        "    \n",
        "    return distances[199] # Dist 199 contains the distance of 200th nearest neighbour."
      ],
      "execution_count": 161,
      "outputs": []
    },
    {
      "cell_type": "code",
      "metadata": {
        "id": "TiyEVA5JWEDO"
      },
      "source": [
        "# Create sent vectors - this needs to be passed on DBSCAN model.\n",
        "\n",
        "sent_vectors = []; # the avg-w2v for each sentence/review is stored in this train\n",
        "\n",
        "for sent in list_of_sent_train: # for each review/sentence\n",
        "    sent_vec = np.zeros(100) # as word vectors are of zero length\n",
        "    cnt_words =0; # num of words with a valid vector in the sentence/review\n",
        "    for word in sent: # for each word in a review/sentence\n",
        "        try:\n",
        "            vec = w2v_model.wv[word]\n",
        "            sent_vec += vec\n",
        "            cnt_words += 1\n",
        "        except:\n",
        "            pass\n",
        "    sent_vec /= cnt_words\n",
        "    sent_vectors.append(sent_vec)\n",
        "\n",
        "sent_vectors = np.array(sent_vectors)\n",
        "sent_vectors = np.nan_to_num(sent_vectors)"
      ],
      "execution_count": 153,
      "outputs": []
    },
    {
      "cell_type": "code",
      "metadata": {
        "id": "Bm3B4-jqVzh_"
      },
      "source": [
        "two_hundreth_neighbor = []\n",
        "for val in sent_vectors[:1500]:\n",
        "    two_hundreth_neighbor.append( compute_200_nearest_neighbour(val, sent_vectors[:1500]) )\n",
        "two_hundreth_neighbor.sort()"
      ],
      "execution_count": 154,
      "outputs": []
    },
    {
      "cell_type": "code",
      "metadata": {
        "colab": {
          "base_uri": "https://localhost:8080/",
          "height": 295
        },
        "id": "zqBa9vPaV2zU",
        "outputId": "8687dc6c-a1a7-429a-ab92-7404d22fa877"
      },
      "source": [
        "# Plotting for the Elbow Method :\n",
        "plots.figure(figsize=(14,4))\n",
        "plots.title(\"Elbow Method\")\n",
        "plots.plot([x for x in range(len(twohundrethneigh))], twohundrethneigh)\n",
        "plots.xlabel(\"Number of points\")\n",
        "plots.ylabel(\"Distance of 200th Nearest Neighbour\")\n",
        "plots.show()"
      ],
      "execution_count": 155,
      "outputs": [
        {
          "output_type": "display_data",
          "data": {
            "image/png": "[encoded data removed]",
            "text/plain": [
              "<Figure size 1008x288 with 1 Axes>"
            ]
          },
          "metadata": {
            "needs_background": "light"
          }
        }
      ]
    },
    {
      "cell_type": "code",
      "metadata": {
        "colab": {
          "base_uri": "https://localhost:8080/"
        },
        "id": "f3DwQlzAYRVS",
        "outputId": "e676d4fd-e57a-4879-e07f-c628abf8773e"
      },
      "source": [
        "# Create the model\n",
        "model_dbs = DBSCAN(eps = 5, min_samples = minPts, n_jobs=-1)\n",
        "model_dbs.fit(sent_vectors)"
      ],
      "execution_count": 156,
      "outputs": [
        {
          "output_type": "execute_result",
          "data": {
            "text/plain": [
              "DBSCAN(algorithm='auto', eps=5, leaf_size=30, metric='euclidean',\n",
              "       metric_params=None, min_samples=200, n_jobs=-1, p=None)"
            ]
          },
          "metadata": {},
          "execution_count": 156
        }
      ]
    },
    {
      "cell_type": "code",
      "metadata": {
        "colab": {
          "base_uri": "https://localhost:8080/",
          "height": 419
        },
        "id": "ahp0snTAYQCd",
        "outputId": "e3e27086-51b9-4e48-c95f-acbc9255c920"
      },
      "source": [
        "df_dbs = df\n",
        "df_dbs[\"DBS Cluster Label\"] = model_dbs.labels_\n",
        "df_dbs"
      ],
      "execution_count": 159,
      "outputs": [
        {
          "output_type": "execute_result",
          "data": {
            "text/html": [
              "<div>\n",
              "<style scoped>\n",
              "    .dataframe tbody tr th:only-of-type {\n",
              "        vertical-align: middle;\n",
              "    }\n",
              "\n",
              "    .dataframe tbody tr th {\n",
              "        vertical-align: top;\n",
              "    }\n",
              "\n",
              "    .dataframe thead th {\n",
              "        text-align: right;\n",
              "    }\n",
              "</style>\n",
              "<table border=\"1\" class=\"dataframe\">\n",
              "  <thead>\n",
              "    <tr style=\"text-align: right;\">\n",
              "      <th></th>\n",
              "      <th>Product Name</th>\n",
              "      <th>Brand Name</th>\n",
              "      <th>Price</th>\n",
              "      <th>Rating</th>\n",
              "      <th>Reviews</th>\n",
              "      <th>Review Votes</th>\n",
              "      <th>Cluster Label</th>\n",
              "      <th>DBS Cluster Label</th>\n",
              "    </tr>\n",
              "  </thead>\n",
              "  <tbody>\n",
              "    <tr>\n",
              "      <th>0</th>\n",
              "      <td>\"CLEAR CLEAN ESN\" Sprint EPIC 4G Galaxy SPH-D7...</td>\n",
              "      <td>Samsung</td>\n",
              "      <td>199.99</td>\n",
              "      <td>5</td>\n",
              "      <td>feel lucky found used phone u used hard all ph...</td>\n",
              "      <td>1.0</td>\n",
              "      <td>4</td>\n",
              "      <td>0</td>\n",
              "    </tr>\n",
              "    <tr>\n",
              "      <th>1</th>\n",
              "      <td>\"CLEAR CLEAN ESN\" Sprint EPIC 4G Galaxy SPH-D7...</td>\n",
              "      <td>Samsung</td>\n",
              "      <td>199.99</td>\n",
              "      <td>4</td>\n",
              "      <td>nice phone nice grade pantach revue clean set ...</td>\n",
              "      <td>0.0</td>\n",
              "      <td>4</td>\n",
              "      <td>0</td>\n",
              "    </tr>\n",
              "    <tr>\n",
              "      <th>2</th>\n",
              "      <td>\"CLEAR CLEAN ESN\" Sprint EPIC 4G Galaxy SPH-D7...</td>\n",
              "      <td>Samsung</td>\n",
              "      <td>199.99</td>\n",
              "      <td>5</td>\n",
              "      <td>pleased</td>\n",
              "      <td>0.0</td>\n",
              "      <td>0</td>\n",
              "      <td>0</td>\n",
              "    </tr>\n",
              "    <tr>\n",
              "      <th>3</th>\n",
              "      <td>\"CLEAR CLEAN ESN\" Sprint EPIC 4G Galaxy SPH-D7...</td>\n",
              "      <td>Samsung</td>\n",
              "      <td>199.99</td>\n",
              "      <td>4</td>\n",
              "      <td>work good go slow sometimes good phone love</td>\n",
              "      <td>0.0</td>\n",
              "      <td>6</td>\n",
              "      <td>0</td>\n",
              "    </tr>\n",
              "    <tr>\n",
              "      <th>4</th>\n",
              "      <td>\"CLEAR CLEAN ESN\" Sprint EPIC 4G Galaxy SPH-D7...</td>\n",
              "      <td>Samsung</td>\n",
              "      <td>199.99</td>\n",
              "      <td>4</td>\n",
              "      <td>great phone replace lost phone thing volume bu...</td>\n",
              "      <td>0.0</td>\n",
              "      <td>4</td>\n",
              "      <td>0</td>\n",
              "    </tr>\n",
              "    <tr>\n",
              "      <th>...</th>\n",
              "      <td>...</td>\n",
              "      <td>...</td>\n",
              "      <td>...</td>\n",
              "      <td>...</td>\n",
              "      <td>...</td>\n",
              "      <td>...</td>\n",
              "      <td>...</td>\n",
              "      <td>...</td>\n",
              "    </tr>\n",
              "    <tr>\n",
              "      <th>9995</th>\n",
              "      <td>Apple iPhone 4 8GB, Unlocked (Black)</td>\n",
              "      <td>NaN</td>\n",
              "      <td>122.00</td>\n",
              "      <td>1</td>\n",
              "      <td>word ca n't describe unsatisfied am product or...</td>\n",
              "      <td>2.0</td>\n",
              "      <td>6</td>\n",
              "      <td>0</td>\n",
              "    </tr>\n",
              "    <tr>\n",
              "      <th>9996</th>\n",
              "      <td>Apple iPhone 4 8GB, Unlocked (Black)</td>\n",
              "      <td>NaN</td>\n",
              "      <td>122.00</td>\n",
              "      <td>2</td>\n",
              "      <td>first iphone receive great condition rival bra...</td>\n",
              "      <td>2.0</td>\n",
              "      <td>6</td>\n",
              "      <td>0</td>\n",
              "    </tr>\n",
              "    <tr>\n",
              "      <th>9997</th>\n",
              "      <td>Apple iPhone 4 8GB, Unlocked (Black)</td>\n",
              "      <td>NaN</td>\n",
              "      <td>122.00</td>\n",
              "      <td>4</td>\n",
              "      <td>black color white took white color sent free c...</td>\n",
              "      <td>0.0</td>\n",
              "      <td>6</td>\n",
              "      <td>0</td>\n",
              "    </tr>\n",
              "    <tr>\n",
              "      <th>9998</th>\n",
              "      <td>Apple iPhone 4 8GB, Unlocked (Black)</td>\n",
              "      <td>NaN</td>\n",
              "      <td>122.00</td>\n",
              "      <td>1</td>\n",
              "      <td>phone unlocked received it tried several carri...</td>\n",
              "      <td>0.0</td>\n",
              "      <td>6</td>\n",
              "      <td>0</td>\n",
              "    </tr>\n",
              "    <tr>\n",
              "      <th>9999</th>\n",
              "      <td>Apple iPhone 4 8GB, Unlocked (Black)</td>\n",
              "      <td>NaN</td>\n",
              "      <td>122.00</td>\n",
              "      <td>4</td>\n",
              "      <td>nice phone like it.it like brand apps availabi...</td>\n",
              "      <td>0.0</td>\n",
              "      <td>6</td>\n",
              "      <td>0</td>\n",
              "    </tr>\n",
              "  </tbody>\n",
              "</table>\n",
              "<p>10000 rows × 8 columns</p>\n",
              "</div>"
            ],
            "text/plain": [
              "                                           Product Name  ... DBS Cluster Label\n",
              "0     \"CLEAR CLEAN ESN\" Sprint EPIC 4G Galaxy SPH-D7...  ...                 0\n",
              "1     \"CLEAR CLEAN ESN\" Sprint EPIC 4G Galaxy SPH-D7...  ...                 0\n",
              "2     \"CLEAR CLEAN ESN\" Sprint EPIC 4G Galaxy SPH-D7...  ...                 0\n",
              "3     \"CLEAR CLEAN ESN\" Sprint EPIC 4G Galaxy SPH-D7...  ...                 0\n",
              "4     \"CLEAR CLEAN ESN\" Sprint EPIC 4G Galaxy SPH-D7...  ...                 0\n",
              "...                                                 ...  ...               ...\n",
              "9995               Apple iPhone 4 8GB, Unlocked (Black)  ...                 0\n",
              "9996               Apple iPhone 4 8GB, Unlocked (Black)  ...                 0\n",
              "9997               Apple iPhone 4 8GB, Unlocked (Black)  ...                 0\n",
              "9998               Apple iPhone 4 8GB, Unlocked (Black)  ...                 0\n",
              "9999               Apple iPhone 4 8GB, Unlocked (Black)  ...                 0\n",
              "\n",
              "[10000 rows x 8 columns]"
            ]
          },
          "metadata": {},
          "execution_count": 159
        }
      ]
    },
    {
      "cell_type": "code",
      "metadata": {
        "colab": {
          "base_uri": "https://localhost:8080/"
        },
        "id": "oqBbrxpqY4ME",
        "outputId": "88d8d073-b3d6-4032-fc92-cbef2692faf3"
      },
      "source": [
        "df_dbs.groupby([\"DBS Cluster Label\"])[\"Reviews\"].count()"
      ],
      "execution_count": 160,
      "outputs": [
        {
          "output_type": "execute_result",
          "data": {
            "text/plain": [
              "DBS Cluster Label\n",
              "0    10000\n",
              "Name: Reviews, dtype: int64"
            ]
          },
          "metadata": {},
          "execution_count": 160
        }
      ]
    },
    {
      "cell_type": "markdown",
      "metadata": {
        "id": "kbyiYJZWdTii"
      },
      "source": [
        "**Only one cluster was identified based on this DBSCAN method**"
      ]
    },
    {
      "cell_type": "markdown",
      "metadata": {
        "id": "4OHKY0P_bNu2"
      },
      "source": [
        "# Clustering Hierarchial"
      ]
    },
    {
      "cell_type": "code",
      "metadata": {
        "colab": {
          "base_uri": "https://localhost:8080/",
          "height": 285
        },
        "id": "M0bAo5_sbRMz",
        "outputId": "c3d057df-f227-4c48-fb41-fcf30d0b848a"
      },
      "source": [
        "# Import necessary libraries\n",
        "import scipy\n",
        "from scipy.cluster import hierarchy\n",
        "\n",
        "# Dendogram plot\n",
        "dendro=hierarchy.dendrogram(hierarchy.linkage(sent_vectors,method='ward'))\n",
        "plt.axhline(y=35)# cut at 30 to get 5 clusters"
      ],
      "execution_count": 169,
      "outputs": [
        {
          "output_type": "execute_result",
          "data": {
            "text/plain": [
              "<matplotlib.lines.Line2D at 0x7f4c1428c310>"
            ]
          },
          "metadata": {},
          "execution_count": 169
        },
        {
          "output_type": "display_data",
          "data": {
            "image/png": "[encoded data removed]",
            "text/plain": [
              "<Figure size 432x288 with 1 Axes>"
            ]
          },
          "metadata": {
            "needs_background": "light"
          }
        }
      ]
    },
    {
      "cell_type": "code",
      "metadata": {
        "id": "_z8McfRjdmjp"
      },
      "source": [
        "from sklearn.cluster import AgglomerativeClustering\n",
        "\n",
        "# \n",
        "hierarchial_cluster = AgglomerativeClustering(n_clusters=20, affinity='euclidean', linkage='ward')  #took n=5 from dendrogram curve \n",
        "Agg = hierarchial_cluster.fit_predict(sent_vectors)"
      ],
      "execution_count": 174,
      "outputs": []
    },
    {
      "cell_type": "code",
      "metadata": {
        "colab": {
          "base_uri": "https://localhost:8080/"
        },
        "id": "og6uwSaXd2dN",
        "outputId": "89fbd496-c953-46b6-f0de-2a60c2f43f7f"
      },
      "source": [
        "hier_df = df # Give the labels and group to count the number of data in each clusters.\n",
        "hier_df[\"Hierarchial Cluster Labels\"] = hierarchial_cluster.labels_\n",
        "hier_df.groupby([\"Hierarchial Cluster Labels\"])[\"Reviews\"].count()"
      ],
      "execution_count": 175,
      "outputs": [
        {
          "output_type": "execute_result",
          "data": {
            "text/plain": [
              "Hierarchial Cluster Labels\n",
              "0      438\n",
              "1     1019\n",
              "2      988\n",
              "3      398\n",
              "4      804\n",
              "5      287\n",
              "6      222\n",
              "7      215\n",
              "8      830\n",
              "9      989\n",
              "10      31\n",
              "11     333\n",
              "12     130\n",
              "13    1015\n",
              "14     778\n",
              "15     142\n",
              "16     686\n",
              "17     247\n",
              "18     150\n",
              "19     298\n",
              "Name: Reviews, dtype: int64"
            ]
          },
          "metadata": {},
          "execution_count": 175
        }
      ]
    },
    {
      "cell_type": "markdown",
      "metadata": {
        "id": "jed4n6UW05mc"
      },
      "source": [
        "#### In one paragraph, please compare K means, DBSCAN and Hierarchical clustering."
      ]
    },
    {
      "cell_type": "markdown",
      "metadata": {
        "id": "bJsY1zQ_1itt"
      },
      "source": [
        "### K means clustering \n",
        "a. Fastest of three methods\n",
        "b. Can handle large amount of data\n",
        "c. Outliers and noise cannot be identified using this method\n",
        "d. required to specify number of clusters at beginning.\n",
        "e. can create cluster will different sizes.\n",
        "\n",
        "###DBSCAN\n",
        "a. Slower compared to KMeans method\n",
        "b. Not good handling large amount of data\n",
        "c. cannot handle outliers\n",
        "d. not required to specify number of clusters at the beginning.However, in this assignment, the method created only one cluster so not helpful.\n",
        "e. can create different size clusters\n",
        "\n",
        "### Hierarchial Clustering\n",
        "a. Slower compared to Kmeans method\n",
        "b. Can be slower for large amount of data and expensive to scale.\n",
        "c. It can handle outliers\n",
        "d. need to specify the number of clusters at the beginning.\n",
        "e. usually creates same size clusters.\n",
        "\n",
        "\n",
        "\n"
      ]
    },
    {
      "cell_type": "code",
      "metadata": {
        "id": "09aalLLm5JRy"
      },
      "source": [
        ""
      ],
      "execution_count": null,
      "outputs": []
    }
  ]
}