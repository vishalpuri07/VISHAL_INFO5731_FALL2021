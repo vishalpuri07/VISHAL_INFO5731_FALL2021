{
  "nbformat": 4,
  "nbformat_minor": 0,
  "metadata": {
    "colab": {
      "name": "In_class_exercise_01.ipynb",
      "provenance": [],
      "collapsed_sections": [],
      "include_colab_link": true
    },
    "kernelspec": {
      "display_name": "Python 3",
      "language": "python",
      "name": "python3"
    },
    "language_info": {
      "codemirror_mode": {
        "name": "ipython",
        "version": 3
      },
      "file_extension": ".py",
      "mimetype": "text/x-python",
      "name": "python",
      "nbconvert_exporter": "python",
      "pygments_lexer": "ipython3",
      "version": "3.8.5"
    }
  },
  "cells": [
    {
      "cell_type": "markdown",
      "metadata": {
        "id": "view-in-github",
        "colab_type": "text"
      },
      "source": [
        "<a href=\"https://colab.research.google.com/github/vishalpuri07/VISHAL_INFO5731_FALL2021/blob/main/In_class_exercise_01.ipynb\" target=\"_parent\"><img src=\"https://colab.research.google.com/assets/colab-badge.svg\" alt=\"Open In Colab\"/></a>"
      ]
    },
    {
      "cell_type": "markdown",
      "metadata": {
        "id": "DymRJbxDBCnf"
      },
      "source": [
        "# **The first In-class-exercise (09/01/2021, 40 points in total)**"
      ]
    },
    {
      "cell_type": "markdown",
      "metadata": {
        "id": "03jb4GZsBkBS"
      },
      "source": [
        "(1) Write a Python program to calculate the length of a string. (4 points)"
      ]
    },
    {
      "cell_type": "code",
      "metadata": {
        "colab": {
          "base_uri": "https://localhost:8080/"
        },
        "id": "YaGLbSHHB8Ej",
        "outputId": "8c95b4aa-5a67-4663-d2a2-5523d4aabbc0"
      },
      "source": [
        "print(len('string')) # len() is a built-in function that will calculate the length of a given string.\n",
        "len('Earth')"
      ],
      "execution_count": 5,
      "outputs": [
        {
          "output_type": "stream",
          "name": "stdout",
          "text": [
            "6\n"
          ]
        },
        {
          "output_type": "execute_result",
          "data": {
            "text/plain": [
              "5"
            ]
          },
          "metadata": {},
          "execution_count": 5
        }
      ]
    },
    {
      "cell_type": "markdown",
      "metadata": {
        "id": "jJDe71iLB616"
      },
      "source": [
        "\n",
        "(2) Write a Python program to count the number of characters in a string. (4 points)\n",
        "\n",
        "Sample String : 'google.com‘, \n",
        "\n",
        "Expected Result : {'o': 3, 'g': 2, '.': 1, 'e': 1, 'l': 1, 'm': 1, 'c': 1}"
      ]
    },
    {
      "cell_type": "code",
      "metadata": {
        "colab": {
          "base_uri": "https://localhost:8080/"
        },
        "id": "MtKskTzbCLaU",
        "outputId": "373b3b54-b7f4-44cf-981f-d7a7ad197561"
      },
      "source": [
        "given_string = 'google.com'\n",
        "\n",
        "dictionary = {} # create an empty dictionary \n",
        "\n",
        "# check if the given letter is in the dicitonary, if value repeats the value for the key is added by 1.\n",
        "for letter in given_string:\n",
        "  if letter in dictionary:\n",
        "    dictionary[letter] = +1\n",
        "  else:\n",
        "    dictionary[letter] = 1\n",
        "\n",
        "# print the results\n",
        "print(dictionary)\n",
        "\n"
      ],
      "execution_count": 9,
      "outputs": [
        {
          "output_type": "stream",
          "name": "stdout",
          "text": [
            "{'g': 1, 'o': 1, 'l': 1, 'e': 1, '.': 1, 'c': 1, 'm': 1}\n"
          ]
        }
      ]
    },
    {
      "cell_type": "markdown",
      "metadata": {
        "id": "55W9AMdXCSpV"
      },
      "source": [
        "(3) Write a Python program to sum all the items in a list. (4 points)"
      ]
    },
    {
      "cell_type": "code",
      "metadata": {
        "colab": {
          "base_uri": "https://localhost:8080/"
        },
        "id": "I57NXsauCec2",
        "outputId": "43df797d-34d7-40a6-cb82-12f449311252"
      },
      "source": [
        "my_list = (1,2,3,4,10,20) # of th numbers in the list is 40. Using sum() will give the sume of the lnumbersn in the list.\n",
        "sum(my_list)\n"
      ],
      "execution_count": 1,
      "outputs": [
        {
          "output_type": "execute_result",
          "data": {
            "text/plain": [
              "40"
            ]
          },
          "metadata": {},
          "execution_count": 1
        }
      ]
    },
    {
      "cell_type": "markdown",
      "metadata": {
        "id": "4ulBZ6yhCi9F"
      },
      "source": [
        "(4) Write a Python program to get a string from a given string where all occurrences of its first char have been changed to '\\$', except the first char itself. (4 points)\n",
        "\n",
        "Sample String : 'restart‘, \n",
        "\n",
        "Expected Result : 'resta\\$t'"
      ]
    },
    {
      "cell_type": "code",
      "metadata": {
        "colab": {
          "base_uri": "https://localhost:8080/"
        },
        "id": "Fj0XhwbBCw2o",
        "outputId": "d76ed921-a852-4282-960a-1f5408affe5b"
      },
      "source": [
        "given_string = \"restart\"\n",
        "def change_first_character(given_string):\n",
        "  first_character = given_string[0]\n",
        "  new_string = given_string.replace(first_character,\"$\") # replace all 1st character with $ sign\n",
        "  print(first_character + new_string[1:])\n",
        "change_first_character(given_string)"
      ],
      "execution_count": 15,
      "outputs": [
        {
          "output_type": "stream",
          "name": "stdout",
          "text": [
            "resta$t\n"
          ]
        }
      ]
    },
    {
      "cell_type": "markdown",
      "metadata": {
        "id": "_bIP7s1MCzue"
      },
      "source": [
        "(5) Write a program with python which could accept two parameter a and b to calculate and output the result of S, where \n",
        "\n",
        "$\\ S=3.14*(1+a/b)^3$ (4 points)\n",
        "\n"
      ]
    },
    {
      "cell_type": "code",
      "metadata": {
        "colab": {
          "base_uri": "https://localhost:8080/"
        },
        "id": "w79QilHXD3Mg",
        "outputId": "e4281083-4bc4-4bbe-82e7-b0ad69a1632f"
      },
      "source": [
        "# write your answer here\n",
        "a = float(input (\"Enter value of a:\"))\n",
        "b = float(input (\"Enter value of b:\"))\n",
        "print (\"S = \", (3.14 *( (1+a/b)**3)) )"
      ],
      "execution_count": 19,
      "outputs": [
        {
          "output_type": "stream",
          "name": "stdout",
          "text": [
            "Enter value of a:6\n",
            "Enter value of b:3\n",
            "S =  84.78\n"
          ]
        }
      ]
    },
    {
      "cell_type": "markdown",
      "metadata": {
        "id": "xCa2bK9aD4Q3"
      },
      "source": [
        "(6) Write a Python program to concatenate following dictionaries to create a new one. (4 points)\n",
        "\n",
        "Sample Dictionary : dic1={1:10, 2:20}, dic2={3:30, 4:40}, dic3={5:50,6:60}, \n",
        "\n",
        "Expected Result : {1: 10, 2: 20, 3: 30, 4: 40, 5: 50, 6: 60}\n"
      ]
    },
    {
      "cell_type": "code",
      "metadata": {
        "colab": {
          "base_uri": "https://localhost:8080/"
        },
        "id": "_z4aLqAbEET1",
        "outputId": "fa7a0239-6b39-44f3-f13d-ec8552fef5a2"
      },
      "source": [
        "# two dictionaries can simply be concatenated using \"update\"\n",
        "\n",
        "dic1={1:10, 2:20}\n",
        "dic2={3:30, 4:40}\n",
        "dic3={5:50, 6:60}\n",
        "\n",
        "def concatenate_three_dic(dic1,dic2,dic3):\n",
        "  dic1.update(dic2) # concatenate dic1 with dic2 to form a new dic1\n",
        "  dic1.update(dic3) # concatenate new dic1 with dic3 to get the final result\n",
        "  print(dic1)\n",
        "\n",
        "concatenate_three_dic(dic1,dic2,dic3)"
      ],
      "execution_count": 46,
      "outputs": [
        {
          "output_type": "stream",
          "name": "stdout",
          "text": [
            "{1: 10, 2: 20, 3: 30, 4: 40, 5: 50, 6: 60}\n"
          ]
        }
      ]
    },
    {
      "cell_type": "markdown",
      "metadata": {
        "id": "0v48Vqa7FrQh"
      },
      "source": [
        "(7) Write a Python program to check whether an element exists within a tuple. (4 points)"
      ]
    },
    {
      "cell_type": "code",
      "metadata": {
        "colab": {
          "base_uri": "https://localhost:8080/"
        },
        "id": "7WEmgq-DF2P1",
        "outputId": "32b67f18-a7aa-46d6-88aa-be230c5b738d"
      },
      "source": [
        "my_tuple = (\"data\",\"science\",\"Machine\",\"Learning\",1,2,3)\n",
        "\n",
        "# we can perform this using in function/\n",
        "# Check 1\n",
        "if \"science\" in my_tuple:\n",
        "  print(\"Yes, the element exist in the tupple\")\n",
        "else:\n",
        "  print(\"No, the element does not exist in the tuple\")\n",
        "\n",
        "\n",
        "if \"1\" in my_tuple: # Checking if the string belongs in the tuple. NO. Number 1 belongs in the tuple\n",
        "  print(\"Yes, the element exist in the tupple\")\n",
        "else:\n",
        "  print(\"No, the element does not exist in the tuple\")\n",
        "\n",
        "\n",
        "if 1 in my_tuple: \n",
        "  print(\"Yes, the element exist in the tupple\")\n",
        "else:\n",
        "  print(\"No, the element does not exist in the tuple\")\n"
      ],
      "execution_count": 53,
      "outputs": [
        {
          "output_type": "stream",
          "name": "stdout",
          "text": [
            "Yes, the element exist in the tupple\n",
            "No, the element does not exist in the tuple\n",
            "Yes, the element exist in the tupple\n"
          ]
        }
      ]
    },
    {
      "cell_type": "markdown",
      "metadata": {
        "id": "vD5PYLMuGga_"
      },
      "source": [
        "(8) Write a Python program to find maximum and the minimum value in a set. (4 points)"
      ]
    },
    {
      "cell_type": "code",
      "metadata": {
        "id": "t0D5kdJUGjjw"
      },
      "source": [
        "# Initialize a set using {}\n",
        "\n",
        "my_set = {1,2,99,121,565,999,9999,10000,50000}\n",
        "\n",
        "def MinMax(my_set):\n",
        "  print(\"Maximum value in the set is: \",max(my_set)) # use max() for maximum\n",
        "  print(\"Minimum value in the set is: \",min(my_set)) # use min() for minimum\n",
        "\n",
        "MinMax(my_set)"
      ],
      "execution_count": null,
      "outputs": []
    },
    {
      "cell_type": "markdown",
      "metadata": {
        "id": "uHkd-y5VhVWC"
      },
      "source": [
        "(9) Write a Python program to randomly divide the students in this class into six groups for term projects, each group should have at least 4 students but no more than 6 students (including 6). Here is the students list: (4 points)\n",
        "\n",
        "studnet_list = ['vmb0067','pc0353','snd0097','yye0005','sg0940','bk0301','rak0120','rrk0058','spk0057','vl0135','nm0547','pn0159',\n",
        "           'msp0174','dd0420','ds0761','rs0850','ss1995','at0739','at0768','mv0299','tv0119','dy0091','py0080','ttp0037','hc0439','ri0094','pk0339', 'hn0145','mn0426']"
      ]
    },
    {
      "cell_type": "code",
      "metadata": {
        "colab": {
          "base_uri": "https://localhost:8080/"
        },
        "id": "3iGbmcOBhTwy",
        "outputId": "a2255efc-5e12-4283-8bda-82507c227202"
      },
      "source": [
        "import random\n",
        "student_list = ['vmb0067','pc0353','snd0097','yye0005','sg0940','bk0301','rak0120','rrk0058','spk0057','vl0135','nm0547','pn0159', 'msp0174','dd0420','ds0761','rs0850','ss1995','at0739','at0768','mv0299','tv0119','dy0091','py0080','ttp0037','hc0439','ri0094','pk0339', 'hn0145','mn0426']\n",
        "student_set = set(student_list) # since student id doesnt repeat convert it to set for easier manipulation\n",
        "\n",
        "# Group size is pre-decided to prevent from a group having more than 6 members.\n",
        "\n",
        "list1 = (random.sample((student_set),4))\n",
        "print(\"Group 1 = \", list1) \n",
        "\n",
        "new_set2 = student_set- set(list1)\n",
        "list2 = random.sample((new_set2),5)\n",
        "print(\"Group 2 = \", list2) \n",
        "\n",
        "new_set3 = new_set2 - set(list2)\n",
        "list3 = random.sample((new_set3),6)\n",
        "print(\"Group 3 = \", list3) \n",
        "\n",
        "new_set4 = new_set3 - set(list3)\n",
        "list4 = random.sample((new_set4),5)\n",
        "print(\"Group 4 = \", list4) \n",
        "\n",
        "new_set5 = new_set4 - set(list4)\n",
        "list5 = random.sample((new_set5),4)\n",
        "print(\"Group 5 = \", list5) \n",
        "\n",
        "new_set6 = new_set5 - set(list5)\n",
        "list6 = list(new_set6)\n",
        "print(\"Group 6 = \", list6 )\n",
        "\n"
      ],
      "execution_count": 126,
      "outputs": [
        {
          "output_type": "stream",
          "name": "stdout",
          "text": [
            "Group 1 =  ['at0739', 'hc0439', 'nm0547', 'bk0301']\n",
            "Group 2 =  ['hn0145', 'pk0339', 'pn0159', 'mv0299', 'at0768']\n",
            "Group 3 =  ['spk0057', 'sg0940', 'rrk0058', 'py0080', 'rak0120', 'yye0005']\n",
            "Group 4 =  ['mn0426', 'dy0091', 'dd0420', 'snd0097', 'pc0353']\n",
            "Group 5 =  ['ttp0037', 'rs0850', 'vl0135', 'tv0119']\n",
            "Group 6 =  ['ss1995', 'ri0094', 'ds0761', 'vmb0067', 'msp0174']\n"
          ]
        }
      ]
    },
    {
      "cell_type": "markdown",
      "metadata": {
        "id": "Lt39a4zFqkEY"
      },
      "source": [
        "(10) Write a Python program to find the duplicate elements in a given array of integers. Return -1 If there are no such elements. (4 points)"
      ]
    },
    {
      "cell_type": "code",
      "metadata": {
        "colab": {
          "base_uri": "https://localhost:8080/"
        },
        "id": "JOR0SVg2qkEY",
        "outputId": "fc472a5a-af27-4d8e-827c-762c14159b08"
      },
      "source": [
        "my_array1 = [1,3,7,21,81,21,98,55,89,99,55,98] # has repeating values\n",
        "my_array2 = [1,6,4,8,9,10] # doesnt have repeating values\n",
        "\n",
        "def repeat_check(check_array):\n",
        "  repeat_list = [] # initialize empty list that will be filled with repeating values\n",
        "  for i in range(len(check_array)): # for i ranging across the array length\n",
        "    for j in range(i+1,len(check_array)): # j ranges i+1\n",
        "      if check_array[i] == check_array[j] and check_array[i] not in repeat_list:\n",
        "       # if first condition is matched the integer is repeated\n",
        "       # if second also match, it is repeating multiple times, safety net only.\n",
        "        repeat_list.append(check_array[i])\n",
        "  if len(repeat_list) == 0:\n",
        "    return -1\n",
        "  else:\n",
        "    return(repeat_list)\n",
        "\n",
        "print(repeat_check(my_array1))\n",
        "print(repeat_check(my_array2))\n",
        "\n"
      ],
      "execution_count": 78,
      "outputs": [
        {
          "output_type": "stream",
          "name": "stdout",
          "text": [
            "[21, 98, 55]\n",
            "-1\n"
          ]
        }
      ]
    },
    {
      "cell_type": "markdown",
      "metadata": {
        "id": "Jk0T0lkwqkEZ"
      },
      "source": [
        "(11) Write a Python program to select all the Sundays of a specified year. (4 extra points)"
      ]
    },
    {
      "cell_type": "code",
      "metadata": {
        "colab": {
          "base_uri": "https://localhost:8080/"
        },
        "id": "JoW5V4dyqkEZ",
        "outputId": "3a01a154-1fef-493a-9103-9df3fc444386"
      },
      "source": [
        "# This can be done but a library called Pandas needs to be imported.\n",
        "\n",
        "import pandas as pd # import pandas.\n",
        "\n",
        "def select_all_sundays(year): # Select the year you are interested in.\n",
        "  return pd.date_range(start = str(year) , end = str(year+1), # returns a fixed frequency DatetimeIndex.\n",
        "                      freq = 'W-SUN').strftime(\"%m/%d/%Y\").tolist() # convert datetime to string and determine the frequency i.e. Sunday.\n",
        "\n",
        "select_all_sundays(2021)[:52] # for 52 weeks i.e. for the year of 2021."
      ],
      "execution_count": 129,
      "outputs": [
        {
          "output_type": "execute_result",
          "data": {
            "text/plain": [
              "['01/03/2021',\n",
              " '01/10/2021',\n",
              " '01/17/2021',\n",
              " '01/24/2021',\n",
              " '01/31/2021',\n",
              " '02/07/2021',\n",
              " '02/14/2021',\n",
              " '02/21/2021',\n",
              " '02/28/2021',\n",
              " '03/07/2021',\n",
              " '03/14/2021',\n",
              " '03/21/2021',\n",
              " '03/28/2021',\n",
              " '04/04/2021',\n",
              " '04/11/2021',\n",
              " '04/18/2021',\n",
              " '04/25/2021',\n",
              " '05/02/2021',\n",
              " '05/09/2021',\n",
              " '05/16/2021',\n",
              " '05/23/2021',\n",
              " '05/30/2021',\n",
              " '06/06/2021',\n",
              " '06/13/2021',\n",
              " '06/20/2021',\n",
              " '06/27/2021',\n",
              " '07/04/2021',\n",
              " '07/11/2021',\n",
              " '07/18/2021',\n",
              " '07/25/2021',\n",
              " '08/01/2021',\n",
              " '08/08/2021',\n",
              " '08/15/2021',\n",
              " '08/22/2021',\n",
              " '08/29/2021',\n",
              " '09/05/2021',\n",
              " '09/12/2021',\n",
              " '09/19/2021',\n",
              " '09/26/2021',\n",
              " '10/03/2021',\n",
              " '10/10/2021',\n",
              " '10/17/2021',\n",
              " '10/24/2021',\n",
              " '10/31/2021',\n",
              " '11/07/2021',\n",
              " '11/14/2021',\n",
              " '11/21/2021',\n",
              " '11/28/2021',\n",
              " '12/05/2021',\n",
              " '12/12/2021',\n",
              " '12/19/2021',\n",
              " '12/26/2021']"
            ]
          },
          "metadata": {},
          "execution_count": 129
        }
      ]
    },
    {
      "cell_type": "code",
      "metadata": {
        "id": "xuvKKMzfXBLf"
      },
      "source": [
        "# Confirmed that the 09/12/2021 i.e. this weekend is indeed a Sunday. "
      ],
      "execution_count": 130,
      "outputs": []
    },
    {
      "cell_type": "code",
      "metadata": {
        "id": "7xDaJaNsX2LP"
      },
      "source": [
        ""
      ],
      "execution_count": null,
      "outputs": []
    }
  ]
}